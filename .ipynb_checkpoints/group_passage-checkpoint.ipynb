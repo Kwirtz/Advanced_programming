{
 "cells": [
  {
   "cell_type": "code",
   "execution_count": 1,
   "metadata": {},
   "outputs": [
    {
     "data": {
      "text/plain": [
       "8"
      ]
     },
     "execution_count": 1,
     "metadata": {},
     "output_type": "execute_result"
    }
   ],
   "source": [
    "Groups = [(\"Zhang Yajie\", \"Duan Sining\"),\n",
    "         (\"Koubikani loubota jacques verlaine\", \"Duc-huy le\", \"Nidal souk\"),\n",
    "         (\"Alexandre\", \"Louis\", \"Claude\"),\n",
    "         (\"Valentin\", \"Mohamed\", \"Osman\"),\n",
    "         (\"Chayma\", \"Harutyunyan Mariam\", \"Khadidja\"),\n",
    "         (\"Hugo\", \"Colin\", \"Laeticia\"),\n",
    "         (\"Esteban\", \"Marie\", \"Sarah\"),\n",
    "         (\"Farhan\", \"Florian\", \"Paul\")]\n",
    "len(Groups)"
   ]
  },
  {
   "cell_type": "code",
   "execution_count": 2,
   "metadata": {},
   "outputs": [],
   "source": [
    "import random\n",
    "Groups_order = random.sample(Groups, len(Groups))"
   ]
  },
  {
   "cell_type": "code",
   "execution_count": 3,
   "metadata": {},
   "outputs": [
    {
     "data": {
      "text/plain": [
       "[('Valentin', 'Mohamed', 'Osman'),\n",
       " ('Koubikani loubota jacques verlaine', 'Duc-huy le', 'Nidal souk'),\n",
       " ('Chayma', 'Harutyunyan Mariam', 'Khadidja'),\n",
       " ('Hugo', 'Colin', 'Laeticia'),\n",
       " ('Zhang Yajie', 'Duan Sining'),\n",
       " ('Farhan', 'Florian', 'Paul'),\n",
       " ('Alexandre', 'Louis', 'Claude'),\n",
       " ('Esteban', 'Marie', 'Sarah')]"
      ]
     },
     "execution_count": 3,
     "metadata": {},
     "output_type": "execute_result"
    }
   ],
   "source": [
    "Groups_order"
   ]
  }
 ],
 "metadata": {
  "kernelspec": {
   "display_name": "Python 3",
   "language": "python",
   "name": "python3"
  },
  "language_info": {
   "codemirror_mode": {
    "name": "ipython",
    "version": 3
   },
   "file_extension": ".py",
   "mimetype": "text/x-python",
   "name": "python",
   "nbconvert_exporter": "python",
   "pygments_lexer": "ipython3",
   "version": "3.8.3"
  }
 },
 "nbformat": 4,
 "nbformat_minor": 5
}
