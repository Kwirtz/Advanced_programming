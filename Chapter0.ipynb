{
 "cells": [
  {
   "cell_type": "markdown",
   "id": "374907bd",
   "metadata": {},
   "source": [
    "# Introduction.\n",
    "\n",
    "This notebook is made to go through the fundamentals. You should already know all of this and if you don't now is the time ! I'm not gonna dive in basic operations (+,\\**,%,...), control flow statements like if/else and for/while loops and built-in types (int,float).  We will discuss more the bytes and ram usage in advanced concept section \n",
    "\n",
    "Structure:\n",
    "- [Environments](#env)\n",
    "- [Built-in types](#types)\n",
    "- [Built-in data structures](#data)\n",
    "    - [List](#List)\n",
    "    - [Tuples](#Tuples)\n",
    "    - [Dict](#Dict)\n",
    "    - [Set](#Set)\n",
    "- [Functions](#Functions)\n",
    "- [Useful libraries](#libraries)\n",
    "    - [Numpy](#Numpy)\n",
    "    - [Pandas](#Pandas)\n",
    "    - [Matplotlib](#Matplotlib)\n",
    "        - [Scatterplot](#Scatterplot)\n",
    "        - [Lineplot](#Lineplot)\n",
    "        - [Barplot](#Barplot)   \n",
    "        - [Density](#Density)\n",
    "- [Regex](#Regex)\n",
    "- [Know your machine](#machine)\n",
    "\n",
    "<a name=\"env\"></a>\n",
    "## Environments\n",
    "\n",
    "Before going into the coding details let's talk about \"Environments\". Controlled environment for project = Easier to debug, deal with dependencies and reproducibility.\n",
    "Two mainstream options:\n",
    "\n",
    "- Conda envs\n",
    "\n",
    "```console\n",
    "conda create -n ap python==3.11.2\n",
    "conda activate ap\n",
    "conda deactivate\n",
    "```\n",
    "\n",
    "- pyvenv\n",
    "\n",
    "```console\n",
    "python -m venv ap\n",
    "ap\\Scripts\\activate\n",
    "deactivate\n",
    "```\n",
    "\n",
    "\n",
    "\n",
    "<a name=\"types\"></a>\n",
    "## Built-in types\n",
    "\n",
    "Here are the built-in types in python https://www.informit.com/articles/article.aspx?p=453682&seqNum=5. Not going into much details for str and int just beware of the built-in number types when working with python. Most libraries use some kind of inference to define automatically the built-in types (if NaN in pandas dataframe => float) and it might lead to inneficient ram usage. If you want an idea of which int type to use depending on your data check here https://numpy.org/doc/stable/user/basics.types.html. (For example RGB = [0-255] uint8 seems like the best type for images.)\n",
    "\n",
    "<a name=\"data\"></a>\n",
    "## Built-in data structures\n",
    "\n",
    "A good understanding of built-in data structures is imperative to feel comfortable in Python. Next is a reminder of how to use the most prominent data structures.\n",
    "\n",
    "<a name=\"List\"></a>\n",
    "### List\n",
    "\n",
    "Lists are a mutable built-in data type in python that can stores multiples item from any built-in data type and any built-in types (int,float,...). \n",
    "\n"
   ]
  },
  {
   "cell_type": "code",
   "execution_count": 1,
   "id": "ae303f63",
   "metadata": {},
   "outputs": [
    {
     "name": "stdout",
     "output_type": "stream",
     "text": [
      "[1, 2, 3, 4, 5]\n",
      "first_position 1\n",
      "last_position 5\n",
      "interval_position [1, 2]\n",
      "appended [1, 2, 3, 4, 5, [3]]\n",
      "removed [1, 2, 3, 4, 5]\n",
      "[10, 2, 3, 4, 5]\n",
      "['__add__', '__class__', '__contains__', '__delattr__', '__delitem__', '__dir__', '__doc__', '__eq__', '__format__', '__ge__', '__getattribute__', '__getitem__', '__gt__', '__hash__', '__iadd__', '__imul__', '__init__', '__init_subclass__', '__iter__', '__le__', '__len__', '__lt__', '__mul__', '__ne__', '__new__', '__reduce__', '__reduce_ex__', '__repr__', '__reversed__', '__rmul__', '__setattr__', '__setitem__', '__sizeof__', '__str__', '__subclasshook__', 'append', 'clear', 'copy', 'count', 'extend', 'index', 'insert', 'pop', 'remove', 'reverse', 'sort']\n",
      "3243151648256\n",
      "[10, 2, 3, 4, 5, 10, 2, 3, 4, 5]\n",
      "3243151648256\n"
     ]
    }
   ],
   "source": [
    "# init list\n",
    "x = [1,2,3,4,5]\n",
    "print(x)\n",
    "\n",
    "\n",
    "# slicing\n",
    "first_position = x[0]\n",
    "print(\"first_position\",first_position)\n",
    "\n",
    "last_position = x[-1]\n",
    "print(\"last_position\",last_position)\n",
    "\n",
    "interval_position = x[0:2]\n",
    "print(\"interval_position\",interval_position)\n",
    "\n",
    "## mutable part\n",
    "\n",
    "# add object\n",
    "x.append([3])\n",
    "print(\"appended\",x)\n",
    "# remove object\n",
    "x.remove([3])\n",
    "print(\"removed\",x)\n",
    "\n",
    "x[0] = 10\n",
    "print(x)\n",
    "print(dir(x))\n",
    "\n",
    "print(id(x))\n",
    "x + x\n",
    "print(x)\n",
    "print(id(x))\n"
   ]
  },
  {
   "cell_type": "markdown",
   "id": "fb91aa3f",
   "metadata": {},
   "source": [
    "<a name=\"Tuples\"></a>\n",
    "### Tuples\n",
    "\n",
    "Tuples are just like list except they are immutable"
   ]
  },
  {
   "cell_type": "code",
   "execution_count": 2,
   "id": "251113ae",
   "metadata": {},
   "outputs": [
    {
     "name": "stdout",
     "output_type": "stream",
     "text": [
      "(1, 2, 3, 4, 5)\n",
      "first_position 1\n",
      "last_position 5\n",
      "interval_position (1, 2)\n",
      "Where is 2 ? 1\n",
      "['__add__', '__class__', '__contains__', '__delattr__', '__dir__', '__doc__', '__eq__', '__format__', '__ge__', '__getattribute__', '__getitem__', '__getnewargs__', '__gt__', '__hash__', '__init__', '__init_subclass__', '__iter__', '__le__', '__len__', '__lt__', '__mul__', '__ne__', '__new__', '__reduce__', '__reduce_ex__', '__repr__', '__rmul__', '__setattr__', '__sizeof__', '__str__', '__subclasshook__', 'count', 'index']\n",
      "3243151656496\n",
      "(1, 2, 3, 4, 5, 1, 2, 3, 4, 5)\n",
      "3243151173824\n"
     ]
    }
   ],
   "source": [
    "x = (1,2,3,4,5)\n",
    "print(x)\n",
    "\n",
    "# slicing\n",
    "first_position = x[0]\n",
    "print(\"first_position\",first_position)\n",
    "\n",
    "last_position = x[-1]\n",
    "print(\"last_position\",last_position)\n",
    "\n",
    "interval_position = x[0:2]\n",
    "print(\"interval_position\",interval_position)\n",
    "\n",
    "# Misc\n",
    "print(\"Where is 2 ?\", x.index(2))\n",
    "print(dir(x))\n",
    "\n",
    "#immutable\n",
    "\n",
    "#x[0] = 10\n",
    "\n",
    "#  cant append or change value but you can still create a new variable building on a previous one\n",
    "print(id(x))\n",
    "x += x\n",
    "print(x)\n",
    "print(id(x))"
   ]
  },
  {
   "cell_type": "markdown",
   "id": "9d79e53c",
   "metadata": {},
   "source": [
    "<a name=\"Dict\"></a>\n",
    "### Dict"
   ]
  },
  {
   "cell_type": "markdown",
   "id": "47197f4c",
   "metadata": {},
   "source": [
    "A dictionary is a collection which can be ordered (depending on your python version), read more about order in dict: [1](https://stackoverflow.com/questions/39980323/are-dictionaries-ordered-in-python-3-6),[2](https://gandenberger.org/2018/03/10/ordered-dicts-vs-ordereddict/),[3](https://medium.com/junior-dev/python-dictionaries-are-ordered-now-but-how-and-why-5d5a40ee327f). It is mutable and does not allow duplicates."
   ]
  },
  {
   "cell_type": "code",
   "execution_count": 3,
   "id": "fa6ae0a9",
   "metadata": {},
   "outputs": [
    {
     "name": "stdout",
     "output_type": "stream",
     "text": [
      "{'First name': 'Kevin', 'Last name': 'Wirtz', 'Lecture': 'Advanced Programming'}\n",
      "{'First name': 'other', 'Last name': 'Wirtz', 'Lecture': 'Advanced Programming'}\n",
      "['__class__', '__class_getitem__', '__contains__', '__delattr__', '__delitem__', '__dir__', '__doc__', '__eq__', '__format__', '__ge__', '__getattribute__', '__getitem__', '__gt__', '__hash__', '__init__', '__init_subclass__', '__ior__', '__iter__', '__le__', '__len__', '__lt__', '__ne__', '__new__', '__or__', '__reduce__', '__reduce_ex__', '__repr__', '__reversed__', '__ror__', '__setattr__', '__setitem__', '__sizeof__', '__str__', '__subclasshook__', 'clear', 'copy', 'fromkeys', 'get', 'items', 'keys', 'pop', 'popitem', 'setdefault', 'update', 'values']\n",
      "Advanced Programming\n"
     ]
    }
   ],
   "source": [
    "# {key:value} key must be a str, avoid special characters, value can be any python object\n",
    "x = {\"First name\": \"Kevin\",\n",
    "    \"Last name\": \"Wirtz\",\n",
    "    \"Lecture\": \"Advanced Programming\"}\n",
    "print(x)\n",
    "\n",
    "# mutable\n",
    "x.update({\"First name\": \"other\"})\n",
    "print(x)\n",
    "\n",
    "print(dir(x))\n",
    "print(x[\"Lecture\"])"
   ]
  },
  {
   "cell_type": "markdown",
   "id": "4d02ccca",
   "metadata": {},
   "source": [
    "<a name=\"Set\"></a>\n",
    "### Set"
   ]
  },
  {
   "cell_type": "markdown",
   "id": "f20f6bcf",
   "metadata": {},
   "source": [
    "A set unordered, unindexed and contains only unique elements, it is mutable you can add and remove elements (unlikle tuples). Sets can't contain a list or a dict since they are mutable but it can contain a tuple."
   ]
  },
  {
   "cell_type": "code",
   "execution_count": 4,
   "id": "36c9c413",
   "metadata": {},
   "outputs": [
    {
     "name": "stdout",
     "output_type": "stream",
     "text": [
      "{1, 2, 3, 4, (1, 2, 3)}\n",
      "{1, 2, 3}\n",
      "2399457488224\n",
      "{1, 2, 3, 4, 10, (1, 2, 3)}\n",
      "2399457488224\n",
      "['__and__', '__class__', '__class_getitem__', '__contains__', '__delattr__', '__dir__', '__doc__', '__eq__', '__format__', '__ge__', '__getattribute__', '__gt__', '__hash__', '__iand__', '__init__', '__init_subclass__', '__ior__', '__isub__', '__iter__', '__ixor__', '__le__', '__len__', '__lt__', '__ne__', '__new__', '__or__', '__rand__', '__reduce__', '__reduce_ex__', '__repr__', '__ror__', '__rsub__', '__rxor__', '__setattr__', '__sizeof__', '__str__', '__sub__', '__subclasshook__', '__xor__', 'add', 'clear', 'copy', 'difference', 'difference_update', 'discard', 'intersection', 'intersection_update', 'isdisjoint', 'issubset', 'issuperset', 'pop', 'remove', 'symmetric_difference', 'symmetric_difference_update', 'union', 'update']\n"
     ]
    }
   ],
   "source": [
    "myset = {1,3,2,3,(1,2,3),(1,2,3),4}\n",
    "print(myset)\n",
    "print(set([1,2,3,1,2,3]))\n",
    "print(id(myset))\n",
    "myset.update([10,(1,2,3)])\n",
    "print(myset)\n",
    "print(id(myset))\n",
    "print(dir(myset))"
   ]
  },
  {
   "cell_type": "markdown",
   "id": "f6554b1c",
   "metadata": {},
   "source": [
    "<a name=\"Functions\"></a>\n",
    "## Functions\n",
    "\n",
    "Expect input (parameters), return output, only run when called.\n"
   ]
  },
  {
   "cell_type": "code",
   "execution_count": 5,
   "id": "a3d91146",
   "metadata": {},
   "outputs": [
    {
     "name": "stdout",
     "output_type": "stream",
     "text": [
      "Fizz !\n",
      "Buzz !\n"
     ]
    }
   ],
   "source": [
    "def fizzbuzz(n):\n",
    "    if (n % 3) == 0:\n",
    "        print(\"Fizz !\")\n",
    "    if (n % 5) == 0:\n",
    "        print(\"Buzz !\")\n",
    "\n",
    "fizzbuzz(n=15)"
   ]
  },
  {
   "cell_type": "markdown",
   "id": "e9eeee69",
   "metadata": {},
   "source": [
    "<a name=\"libraries\"></a>\n",
    "## Useful libraries"
   ]
  },
  {
   "cell_type": "markdown",
   "id": "83d7978e",
   "metadata": {},
   "source": [
    "<a name=\"Numpy\"></a>\n",
    "### Numpy\n",
    "Numpy is the library of choice when working on arrays in Python, Why: \n",
    "- NumPy is written in C = it's fast. \n",
    "- Compatible with different libraries and specifically machine learning libraries.\n",
    "- Built-in functions (random array for example)\n",
    "- Universal functions that allows vectorization ( apply a function to every element instead of iterating through each one)"
   ]
  },
  {
   "cell_type": "code",
   "execution_count": 6,
   "id": "941ef430",
   "metadata": {},
   "outputs": [
    {
     "name": "stdout",
     "output_type": "stream",
     "text": [
      "[[1 2 3]\n",
      " [4 5 6]\n",
      " [7 8 9]]\n",
      "(3, 3)\n",
      "[[ 4  8  1]\n",
      " [ 2  4 10]\n",
      " [13 12 11]]\n",
      "(3, 3)\n",
      "[[ 5 10  4]\n",
      " [ 6  9 16]\n",
      " [20 20 20]]\n",
      "[[-3 -6  2]\n",
      " [ 2  1 -4]\n",
      " [-6 -4 -2]]\n",
      "[[ 47  52  54]\n",
      " [104 124 120]\n",
      " [161 196 186]]\n",
      "[[ 4 16  3]\n",
      " [ 8 20 60]\n",
      " [91 96 99]]\n",
      "[[0.10526316 0.28947368 0.        ]\n",
      " [0.12781955 0.35150376 0.21428571]\n",
      " [0.15037594 0.41353383 0.42857143]]\n",
      "[[0.25       0.25       3.        ]\n",
      " [2.         1.25       0.6       ]\n",
      " [0.53846154 0.66666667 0.81818182]]\n"
     ]
    }
   ],
   "source": [
    "import numpy as np\n",
    "\n",
    "# Basic operation\n",
    "\n",
    "x = np.array([[1,2,3],[4,5,6],[7,8,9]])\n",
    "print(x)\n",
    "print(x.shape)\n",
    "\n",
    "y = np.array([[4,8,1,2,4,10,13,12,11]])\n",
    "y = y.reshape((3,3))\n",
    "print(y)\n",
    "print(y.shape)\n",
    "\n",
    "#addition\n",
    "print(x+y)\n",
    "\n",
    "# substraction\n",
    "print(x-y)\n",
    "\n",
    "# dot product\n",
    "print(np.matmul(x,y))\n",
    "\n",
    "# Hadamard product\n",
    "print(np.multiply(x,y))\n",
    "\n",
    "# Division\n",
    "print(np.matmul(x,np.linalg.inv(y)))\n",
    "\n",
    "# Hadamard division\n",
    "print(np.divide(x,y))"
   ]
  },
  {
   "cell_type": "markdown",
   "id": "a4e4e38e",
   "metadata": {},
   "source": [
    "Ram efficiency is really important to take into consideration wen scaling up your application. To understand a bit more about numpy and space occupied by a numpy object you need to understand the concept of Strides"
   ]
  },
  {
   "cell_type": "code",
   "execution_count": 7,
   "id": "a2cf9e17",
   "metadata": {},
   "outputs": [
    {
     "name": "stdout",
     "output_type": "stream",
     "text": [
      "array([[0, 0, 0, 0],\n",
      "       [0, 0, 0, 0],\n",
      "       [0, 0, 0, 0],\n",
      "       [0, 0, 0, 0]])\n",
      "int32\n",
      "(4, 4)\n",
      "(16, 4)\n"
     ]
    }
   ],
   "source": [
    "# Ram efficiency\n",
    "\n",
    "x = np.zeros(shape=(4,4), dtype=np.int32)\n",
    "print(repr(x))\n",
    "print(x.dtype)\n",
    "print(x.shape)\n",
    "# reminder 8 bits = 1 byte\n",
    "# Stride[0] = number of bytes to go from 1 array to an other\n",
    "# Stride[1] = number of bytes to go from an element of an array to another one\n",
    "# int32 = 32 bits = 4 bytes\n",
    "\n",
    "print(x.strides)"
   ]
  },
  {
   "cell_type": "markdown",
   "id": "b5993586",
   "metadata": {},
   "source": [
    "Imagine now a squared matrix 100000x100000 in int64 vs int8"
   ]
  },
  {
   "cell_type": "code",
   "execution_count": 8,
   "id": "5760fd99",
   "metadata": {},
   "outputs": [
    {
     "name": "stdout",
     "output_type": "stream",
     "text": [
      "in int 64 takes  80.0 GB of ram\n",
      "in int 8 takes  10.0 GB of ram\n"
     ]
    }
   ],
   "source": [
    "print(\"in int 64 takes \",100000**2*8*10**-9, \"GB of ram\")\n",
    "print(\"in int 8 takes \",100000**2*1*10**-9, \"GB of ram\")"
   ]
  },
  {
   "cell_type": "markdown",
   "id": "48a830b3",
   "metadata": {},
   "source": [
    "This does not mean that you need to use int8 everywhere (reminder int8 ranges between -128 to 127) but don't let the automatic float64 everytime, think of your problem and matrix. \n",
    "\n",
    "Another way to manage ram issue is using sparse matrix. Sparse matrix are used when you have a matrix with a lot of 0's."
   ]
  },
  {
   "cell_type": "code",
   "execution_count": 9,
   "id": "80883e78",
   "metadata": {},
   "outputs": [
    {
     "name": "stdout",
     "output_type": "stream",
     "text": [
      "x: \n",
      "   (0, 0)\t1\n",
      "  (0, 1)\t2\n",
      "  (0, 2)\t20\n",
      "  (1, 2)\t3\n",
      "  (2, 0)\t4\n",
      "  (2, 2)\t5\n",
      "y: \n",
      "   (0, 0)\t1\n",
      "  (0, 1)\t2\n",
      "  (0, 2)\t2\n",
      "  (1, 2)\t3\n",
      "  (2, 0)\t4\n",
      "  (2, 2)\t5\n",
      "x+y: \n",
      "   (0, 0)\t2\n",
      "  (0, 1)\t4\n",
      "  (0, 2)\t22\n",
      "  (1, 2)\t6\n",
      "  (2, 0)\t8\n",
      "  (2, 2)\t10\n",
      "x*y: \n",
      "   (0, 2)\t108\n",
      "  (0, 1)\t2\n",
      "  (0, 0)\t81\n",
      "  (1, 2)\t15\n",
      "  (1, 0)\t12\n",
      "  (2, 2)\t33\n",
      "  (2, 1)\t8\n",
      "  (2, 0)\t24\n",
      "x/y: \n",
      "   (0, 0)\t1.0\n",
      "  (0, 1)\t5.999999999999999\n",
      "  (1, 1)\t1.0\n",
      "  (2, 2)\t1.0\n",
      "x/y: \n",
      "   (0, 0)\t1\n",
      "  (0, 1)\t1\n",
      "  (0, 2)\t10\n",
      "  (1, 2)\t1\n",
      "  (2, 0)\t1\n",
      "  (2, 2)\t1\n"
     ]
    },
    {
     "name": "stderr",
     "output_type": "stream",
     "text": [
      "C:\\Users\\kevin\\anaconda3\\lib\\site-packages\\scipy\\sparse\\linalg\\dsolve\\linsolve.py:144: SparseEfficiencyWarning: spsolve requires A be CSC or CSR matrix format\n",
      "  warn('spsolve requires A be CSC or CSR matrix format',\n",
      "C:\\Users\\kevin\\anaconda3\\lib\\site-packages\\scipy\\sparse\\linalg\\dsolve\\linsolve.py:215: SparseEfficiencyWarning: spsolve is more efficient when sparse b is in the CSC matrix format\n",
      "  warn('spsolve is more efficient when sparse b '\n"
     ]
    }
   ],
   "source": [
    "from scipy.sparse import csr_matrix\n",
    "from scipy.sparse.linalg import inv\n",
    "import numpy as np\n",
    "x = csr_matrix([[1, 2, 20], [0, 0, 3], [4, 0, 5]])\n",
    "print(\"x: \\n\", x)\n",
    "\n",
    "y = csr_matrix([[1, 2, 2, 0, 0, 3, 4, 0, 5]])\n",
    "y = y.reshape((3,3))\n",
    "print(\"y: \\n\", y)\n",
    "\n",
    "print(\"x+y: \\n\",x+y)\n",
    "print(\"x*y: \\n\",x.dot(y))\n",
    "print(\"x/y: \\n\",x.dot(inv(y)))\n",
    "print(\"x/y: \\n\",x._divide(y))"
   ]
  },
  {
   "cell_type": "code",
   "execution_count": 12,
   "id": "87925d4a",
   "metadata": {},
   "outputs": [
    {
     "name": "stdout",
     "output_type": "stream",
     "text": [
      "size of sparse in bytes : 48\n",
      "size of numpy in bytes : 625000112\n"
     ]
    }
   ],
   "source": [
    "#size comparison\n",
    "import sys\n",
    "x = csr_matrix((25000, 25000), dtype = np.int8)\n",
    "y = np.zeros((25000, 25000), dtype = np.int8)\n",
    "print(\"size of sparse in bytes :\",sys.getsizeof(x))\n",
    "print(\"size of numpy in bytes :\",sys.getsizeof(y))"
   ]
  },
  {
   "cell_type": "markdown",
   "id": "c2790435",
   "metadata": {},
   "source": [
    "Few things to know when handling sparse marix (as always read docs). Best way to iterate through a sparse matrix is in the coo format. Best way to update value one by one is using the lilmatrix format. Best way to do matrix operation is using the csr format."
   ]
  },
  {
   "cell_type": "code",
   "execution_count": 13,
   "id": "92019777",
   "metadata": {},
   "outputs": [],
   "source": [
    "# Converting is easy\n",
    "x.tolil()\n",
    "x = x.tocoo()\n",
    "for i,j,v in zip(x.row, x.col, x.data):\n",
    "    print(i,j,v)"
   ]
  },
  {
   "cell_type": "markdown",
   "id": "e4c6d4a5",
   "metadata": {},
   "source": [
    "Another option is numpy memmap. Instead of using the ram it uses the disk space to store the numpy object."
   ]
  },
  {
   "cell_type": "code",
   "execution_count": 14,
   "id": "8d72ae51",
   "metadata": {},
   "outputs": [],
   "source": [
    "import numpy as np\n",
    "\n",
    "nrows, ncols = 1000000, 100\n",
    "\n",
    "f = np.memmap('data/memmapped.dat', dtype=np.float32,\n",
    "              mode='w+', shape=(nrows, ncols))\n",
    "\n",
    "for i in range(ncols):\n",
    "    f[:, i] = np.random.rand(nrows)\n",
    "    \n",
    "x = f[:, -1]\n",
    "\n",
    "f._mmap.close()"
   ]
  },
  {
   "cell_type": "code",
   "execution_count": null,
   "id": "9e1d783f",
   "metadata": {},
   "outputs": [],
   "source": [
    "f = np.memmap('data/memmapped.dat', dtype=np.float32,\n",
    "              mode='r+', shape=(nrows, ncols))\n",
    "print(f[900000,90])\n",
    "f[900000,90] += 1\n",
    "print(f[900000,90])"
   ]
  },
  {
   "cell_type": "markdown",
   "id": "72fd8d24",
   "metadata": {},
   "source": [
    "Another important concept to optimize the speed of computation is vectorization. In numpy this concept can be applied using universal function. NumPy defines a \"universal function\" (\"ufunc\" for short) to be a function that operates on each element in an array, or combine single elements from several input arrays. A ufunc takes as inputs arrays with different numbers of dimensions, or even scalar values, and returns a new array. The process by which array elements are matched up is called broadcasting."
   ]
  },
  {
   "cell_type": "code",
   "execution_count": null,
   "id": "72cd61f1",
   "metadata": {},
   "outputs": [],
   "source": [
    "a = np.array([1, 2, 3, 4])\n",
    "b = np.array([10, 20, 30, 40])\n",
    "\n",
    "np.add(a, b)\n",
    "np.add(a, 100)\n"
   ]
  },
  {
   "cell_type": "markdown",
   "id": "fa68002f",
   "metadata": {},
   "source": [
    "In addition to all the standard basic math operations (+,-,*,/), NumPy offers many additional classes of functions:\n",
    "\n",
    "- Lineary algebra\n",
    "- Special math functions (trig, exp/log, polynomials)\n",
    "- Cumulative functions\n",
    "- Logical (bool) operations\n",
    "- Random number generation\n",
    "\n",
    "Most of these functions are implemented using compiled C code, so they execute much faster than regular Python code. It is a good idea to be familiar with the array functions that NumPy offers so you don't reinvent the wheel in your own code.\n",
    "\n",
    "One big limitation of numpy is that when you want to create or work with a numpy array without using ufunc it becomes significantly slower. Using ufunc in every case becomes quickly unreadable."
   ]
  },
  {
   "cell_type": "markdown",
   "id": "6a42cb39",
   "metadata": {},
   "source": [
    "<a name=\"Pandas\"></a>\n",
    "### Pandas\n",
    "\n",
    "\"pandas is a fast, powerful, flexible and easy to use open source data analysis and manipulation tool,\n",
    "built on top of the Python programming language.\"\n",
    "\n",
    "It is built on the Numpy package and its key data structure is called the DataFrame. DataFrames allow you to store and manipulate tabular data in rows of observations and columns of variables.\n",
    "\n",
    "Basically you have a csv, you want stats and plot asap: use pandas. \n",
    "\n",
    "https://pandas.pydata.org/pandas-docs/stable/reference/frame.html"
   ]
  },
  {
   "cell_type": "code",
   "execution_count": 15,
   "id": "b6be06ee",
   "metadata": {},
   "outputs": [
    {
     "name": "stdout",
     "output_type": "stream",
     "text": [
      "   longitude  latitude  housing_median_age  total_rooms  total_bedrooms  \\\n",
      "0    -114.31     34.19                15.0       5612.0          1283.0   \n",
      "1    -114.47     34.40                19.0       7650.0          1901.0   \n",
      "2    -114.56     33.69                17.0        720.0           174.0   \n",
      "3    -114.57     33.64                14.0       1501.0           337.0   \n",
      "4    -114.57     33.57                20.0       1454.0           326.0   \n",
      "\n",
      "   population  households  median_income  median_house_value  \n",
      "0      1015.0       472.0         1.4936             66900.0  \n",
      "1      1129.0       463.0         1.8200             80100.0  \n",
      "2       333.0       117.0         1.6509             85700.0  \n",
      "3       515.0       226.0         3.1917             73400.0  \n",
      "4       624.0       262.0         1.9250             65500.0  \n",
      "Index(['longitude', 'latitude', 'housing_median_age', 'total_rooms',\n",
      "       'total_bedrooms', 'population', 'households', 'median_income',\n",
      "       'median_house_value'],\n",
      "      dtype='object')\n",
      "longitude             float64\n",
      "latitude              float64\n",
      "housing_median_age    float64\n",
      "total_rooms           float64\n",
      "total_bedrooms        float64\n",
      "population            float64\n",
      "households            float64\n",
      "median_income         float64\n",
      "median_house_value    float64\n",
      "dtype: object\n",
      "longitude             float32\n",
      "latitude              float32\n",
      "housing_median_age      int16\n",
      "total_rooms             int32\n",
      "total_bedrooms          int32\n",
      "population              int32\n",
      "households              int32\n",
      "median_income         float32\n",
      "median_house_value    float32\n",
      "dtype: object\n"
     ]
    }
   ],
   "source": [
    "import pandas as pd\n",
    "\n",
    "df = pd.read_csv(\"data/california_housing_train.csv\")\n",
    "print(df.head())\n",
    "print(df.columns)\n",
    "print(df.dtypes)\n",
    "\n",
    "dtype={'longitude':np.float32, 'latitude':np.float32, 'housing_median_age':np.int16, 'total_rooms':np.int32,\n",
    "       'total_bedrooms':np.int32, 'population':np.int32, 'households':np.int32, 'median_income':np.float32,\n",
    "       'median_house_value':np.float32}\n",
    "df_opti = pd.read_csv(\"data/california_housing_train.csv\",dtype=dtype)\n",
    "print(df_opti.dtypes)"
   ]
  },
  {
   "cell_type": "code",
   "execution_count": 16,
   "id": "b8a9738c",
   "metadata": {},
   "outputs": [
    {
     "data": {
      "text/plain": [
       "<matplotlib.axes._subplots.AxesSubplot at 0x2f35e1c4640>"
      ]
     },
     "execution_count": 16,
     "metadata": {},
     "output_type": "execute_result"
    },
    {
     "data": {
      "image/png": "[encoded data removed]",
      "text/plain": [
       "<Figure size 432x288 with 1 Axes>"
      ]
     },
     "metadata": {
      "needs_background": "light"
     },
     "output_type": "display_data"
    }
   ],
   "source": [
    "df.plot.scatter(x= \"median_house_value\",\n",
    "                y = \"total_bedrooms\")"
   ]
  },
  {
   "cell_type": "code",
   "execution_count": 17,
   "id": "f0771d3d",
   "metadata": {},
   "outputs": [
    {
     "name": "stdout",
     "output_type": "stream",
     "text": [
      "Get column: \n",
      " 0       -114.31\n",
      "1       -114.47\n",
      "2       -114.56\n",
      "3       -114.57\n",
      "4       -114.57\n",
      "          ...  \n",
      "16995   -124.26\n",
      "16996   -124.27\n",
      "16997   -124.30\n",
      "16998   -124.30\n",
      "16999   -124.35\n",
      "Name: longitude, Length: 17000, dtype: float64\n",
      "\n",
      " Get rows: \n",
      "    longitude  latitude  housing_median_age  total_rooms  total_bedrooms  \\\n",
      "3    -114.57     33.64                14.0       1501.0           337.0   \n",
      "4    -114.57     33.57                20.0       1454.0           326.0   \n",
      "\n",
      "   population  households  median_income  median_house_value  \n",
      "3       515.0       226.0         3.1917             73400.0  \n",
      "4       624.0       262.0         1.9250             65500.0  \n",
      "\n",
      " Select rows and columns:    latitude  housing_median_age\n",
      "0     34.19                15.0\n",
      "1     34.40                19.0\n",
      "2     33.69                17.0\n",
      "\n",
      " Search row with index longitude              -114.47\n",
      "latitude                 34.40\n",
      "housing_median_age       19.00\n",
      "total_rooms            7650.00\n",
      "total_bedrooms         1901.00\n",
      "population             1129.00\n",
      "households              463.00\n",
      "median_income             1.82\n",
      "median_house_value    80100.00\n",
      "Name: 1, dtype: float64\n",
      "\n",
      " Bolean array with index where condition is respected 0         True\n",
      "1         True\n",
      "2        False\n",
      "3        False\n",
      "4        False\n",
      "         ...  \n",
      "16995     True\n",
      "16996     True\n",
      "16997     True\n",
      "16998     True\n",
      "16999     True\n",
      "Name: latitude, Length: 17000, dtype: bool\n",
      "\n",
      " Get df where condition is true:        longitude  latitude  housing_median_age  total_rooms  total_bedrooms  \\\n",
      "0        -114.31     34.19                15.0       5612.0          1283.0   \n",
      "1        -114.47     34.40                19.0       7650.0          1901.0   \n",
      "7        -114.59     34.83                41.0        812.0           168.0   \n",
      "9        -114.60     34.83                46.0       1497.0           309.0   \n",
      "12       -114.61     34.84                48.0       1291.0           248.0   \n",
      "...          ...       ...                 ...          ...             ...   \n",
      "16995    -124.26     40.58                52.0       2217.0           394.0   \n",
      "16996    -124.27     40.69                36.0       2349.0           528.0   \n",
      "16997    -124.30     41.84                17.0       2677.0           531.0   \n",
      "16998    -124.30     41.80                19.0       2672.0           552.0   \n",
      "16999    -124.35     40.54                52.0       1820.0           300.0   \n",
      "\n",
      "       population  households  median_income  median_house_value  \n",
      "0          1015.0       472.0         1.4936             66900.0  \n",
      "1          1129.0       463.0         1.8200             80100.0  \n",
      "7           375.0       158.0         1.7083             48500.0  \n",
      "9           787.0       271.0         2.1908             48100.0  \n",
      "12          580.0       211.0         2.1571             48600.0  \n",
      "...           ...         ...            ...                 ...  \n",
      "16995       907.0       369.0         2.3571            111400.0  \n",
      "16996      1194.0       465.0         2.5179             79000.0  \n",
      "16997      1244.0       456.0         3.0313            103600.0  \n",
      "16998      1298.0       478.0         1.9797             85800.0  \n",
      "16999       806.0       270.0         3.0147             94600.0  \n",
      "\n",
      "[11789 rows x 9 columns]\n",
      "Double condition     longitude  latitude  housing_median_age  total_rooms  total_bedrooms  \\\n",
      "0     -114.31     34.19                15.0       5612.0          1283.0   \n",
      "1     -114.47     34.40                19.0       7650.0          1901.0   \n",
      "7     -114.59     34.83                41.0        812.0           168.0   \n",
      "9     -114.60     34.83                46.0       1497.0           309.0   \n",
      "12    -114.61     34.84                48.0       1291.0           248.0   \n",
      "13    -114.61     34.83                31.0       2478.0           464.0   \n",
      "15    -114.65     34.89                17.0       2556.0           587.0   \n",
      "22    -114.94     34.55                20.0        350.0            95.0   \n",
      "\n",
      "    population  households  median_income  median_house_value  \n",
      "0       1015.0       472.0         1.4936             66900.0  \n",
      "1       1129.0       463.0         1.8200             80100.0  \n",
      "7        375.0       158.0         1.7083             48500.0  \n",
      "9        787.0       271.0         2.1908             48100.0  \n",
      "12       580.0       211.0         2.1571             48600.0  \n",
      "13      1346.0       479.0         3.2120             70400.0  \n",
      "15      1005.0       401.0         1.6991             69100.0  \n",
      "22       119.0        58.0         1.6250             50000.0  \n",
      "\n",
      " Get value where row = 1 and colname = longitude -114.47\n",
      "\n",
      " Get value where row = 1 and colname = longitude 3.0\n"
     ]
    }
   ],
   "source": [
    "# Slicing\n",
    "\n",
    "# Get column\n",
    "# df[3] does not work\n",
    "print(\"Get column: \\n\", df[\"longitude\"])\n",
    "# select rows\n",
    "print(\"\\n Get rows: \\n\", df[3:5])\n",
    "# select rows and columns\n",
    "print(\"\\n Select rows and columns:\", df.iloc[0:3,1:3])\n",
    "# not working df.iloc[0, ['longitude', 'latitude']]\n",
    "\n",
    "# Query by index\n",
    "print(\"\\n Search row with index\", df.loc[1])\n",
    "\n",
    "# get a boolean array for a condition \n",
    "print(\"\\n Bolean array with index where condition is respected\", df[\"latitude\"]>34)\n",
    "\n",
    "# get data where this condition is true\n",
    "print(\"\\n Get df where condition is true:\",df[df[\"latitude\"]>34])\n",
    "print(\"Double condition\", df[(df[\"latitude\"]>34) & (df[\"longitude\"]>-115)])\n",
    "\n",
    "print(\"\\n Get value where row = 1 and colname = longitude\", df.at[1,\"longitude\"])\n",
    "df.at[1,\"longitude\"] = 3\n",
    "print(\"\\n Get value where row = 1 and colname = longitude\", df.at[1,\"longitude\"])"
   ]
  },
  {
   "cell_type": "markdown",
   "id": "afab86f9",
   "metadata": {},
   "source": [
    "Too big of a dataset ? read it chunk by chunk (for example to feed to a machine learning algorithm)"
   ]
  },
  {
   "cell_type": "code",
   "execution_count": 18,
   "id": "808aead3",
   "metadata": {},
   "outputs": [
    {
     "name": "stderr",
     "output_type": "stream",
     "text": [
      "<ipython-input-18-a22f99ad0aca>:9: TqdmDeprecationWarning: This function will be removed in tqdm==5.0.0\n",
      "Please use `tqdm.notebook.tqdm` instead of `tqdm.tqdm_notebook`\n",
      "  for chunk in tqdm(chunks):\n"
     ]
    },
    {
     "data": {
      "application/vnd.jupyter.widget-view+json": {
       "model_id": "aa8cf1956d88460ab174f25feb904f21",
       "version_major": 2,
       "version_minor": 0
      },
      "text/plain": [
       "HBox(children=(FloatProgress(value=1.0, bar_style='info', max=1.0), HTML(value='')))"
      ]
     },
     "metadata": {},
     "output_type": "display_data"
    },
    {
     "name": "stdout",
     "output_type": "stream",
     "text": [
      "\n",
      "       longitude  latitude  housing_median_age  total_rooms  total_bedrooms  \\\n",
      "16900    -124.05     40.85                31.0       2414.0           428.0   \n",
      "16901    -124.05     40.59                32.0       1878.0           340.0   \n",
      "16902    -124.06     41.13                22.0       3263.0           799.0   \n",
      "16903    -124.06     40.88                12.0       2087.0           424.0   \n",
      "16904    -124.06     40.86                34.0       4183.0           702.0   \n",
      "...          ...       ...                 ...          ...             ...   \n",
      "16995    -124.26     40.58                52.0       2217.0           394.0   \n",
      "16996    -124.27     40.69                36.0       2349.0           528.0   \n",
      "16997    -124.30     41.84                17.0       2677.0           531.0   \n",
      "16998    -124.30     41.80                19.0       2672.0           552.0   \n",
      "16999    -124.35     40.54                52.0       1820.0           300.0   \n",
      "\n",
      "       population  households  median_income  median_house_value  \n",
      "16900      1005.0       401.0         3.5156            143000.0  \n",
      "16901       937.0       353.0         3.4408             95200.0  \n",
      "16902      1384.0       578.0         2.4708            119400.0  \n",
      "16903      1603.0       438.0         2.5667            139500.0  \n",
      "16904      1891.0       669.0         3.2216             98100.0  \n",
      "...           ...         ...            ...                 ...  \n",
      "16995       907.0       369.0         2.3571            111400.0  \n",
      "16996      1194.0       465.0         2.5179             79000.0  \n",
      "16997      1244.0       456.0         3.0313            103600.0  \n",
      "16998      1298.0       478.0         1.9797             85800.0  \n",
      "16999       806.0       270.0         3.0147             94600.0  \n",
      "\n",
      "[100 rows x 9 columns]\n"
     ]
    }
   ],
   "source": [
    "import numpy as np\n",
    "import pandas as pd\n",
    "from tqdm import tqdm_notebook as tqdm\n",
    "\n",
    "df = pd.read_csv(\"data/california_housing_train.csv\")\n",
    "chunksize = 100       \n",
    "chunks = pd.read_csv( \"data/california_housing_train.csv\", chunksize=chunksize)\n",
    "\n",
    "for chunk in tqdm(chunks):\n",
    "    pass\n",
    "print(chunk)"
   ]
  },
  {
   "cell_type": "markdown",
   "id": "6556b4d7",
   "metadata": {},
   "source": [
    "Like numpy, there's a sparse pandas format."
   ]
  },
  {
   "cell_type": "code",
   "execution_count": 19,
   "id": "1e1d90d9",
   "metadata": {},
   "outputs": [
    {
     "name": "stdout",
     "output_type": "stream",
     "text": [
      "0    0.172613\n",
      "1    0.647052\n",
      "2    0.000000\n",
      "3    0.000000\n",
      "4    0.000000\n",
      "5    0.000000\n",
      "6    0.000000\n",
      "7    0.000000\n",
      "8   -1.957898\n",
      "9    0.781753\n",
      "dtype: Sparse[float64, nan]\n",
      "1.0\n",
      "0    0.172613\n",
      "1    0.647052\n",
      "2    0.000000\n",
      "3    0.000000\n",
      "4    0.000000\n",
      "5    0.000000\n",
      "6    0.000000\n",
      "7    0.000000\n",
      "8   -1.957898\n",
      "9    0.781753\n",
      "dtype: Sparse[float64, 0]\n",
      "0.4\n",
      "             0         1         2         3\n",
      "0          NaN       NaN       NaN       NaN\n",
      "1          NaN       NaN       NaN       NaN\n",
      "2          NaN       NaN       NaN       NaN\n",
      "3          NaN       NaN       NaN       NaN\n",
      "4          NaN       NaN       NaN       NaN\n",
      "...        ...       ...       ...       ...\n",
      "9995       NaN       NaN       NaN       NaN\n",
      "9996       NaN       NaN       NaN       NaN\n",
      "9997       NaN       NaN       NaN       NaN\n",
      "9998 -0.258864  0.118500  1.129105 -1.248871\n",
      "9999 -0.752600  0.926883  0.522567  0.680004\n",
      "\n",
      "[10000 rows x 4 columns]\n",
      "0.0002\n"
     ]
    }
   ],
   "source": [
    "import numpy as np\n",
    "import pandas as pd\n",
    "\n",
    "# From a numpy array\n",
    "arr = np.random.randn(10)\n",
    "arr[2:-2] = 0\n",
    "df = pd.Series(pd.arrays.SparseArray(arr))\n",
    "print(df)\n",
    "print(df.sparse.density)\n",
    "df = pd.Series(pd.arrays.SparseArray(arr,fill_value=0))\n",
    "print(df)\n",
    "print(df.sparse.density)\n",
    "\n",
    "# From a pandas dataframe\n",
    "\n",
    "df = pd.DataFrame(np.random.randn(10000, 4))\n",
    "df.iloc[:9998] = np.nan\n",
    "sdf = df.astype(pd.SparseDtype(\"float\", np.nan))\n",
    "print(sdf)\n",
    "print(sdf.sparse.density)"
   ]
  },
  {
   "cell_type": "markdown",
   "id": "c94b1bee",
   "metadata": {},
   "source": [
    "Need to first import data before transforming it to sparse which is annoying, heres a nice trick (found here https://stackoverflow.com/questions/31888856/read-a-large-csv-into-a-sparse-pandas-dataframe-in-a-memory-efficient-way)"
   ]
  },
  {
   "cell_type": "code",
   "execution_count": null,
   "id": "ac4bf3fd",
   "metadata": {},
   "outputs": [],
   "source": [
    "import pandas as pd\n",
    "\n",
    "\n",
    "dtype={'longitude':np.float32, 'latitude':np.float32, 'housing_median_age':np.int16, 'total_rooms':np.int32,\n",
    "       'total_bedrooms':np.int32, 'population':np.int32, 'households':np.int32, 'median_income':np.float32,\n",
    "       'median_house_value':np.float32}\n",
    "\n",
    "chunksize = 100       \n",
    "chunks = pd.read_csv( \"data/california_housing_train.csv\", chunksize=chunksize, dtype=dtype )\n",
    "sdf = pd.concat( chunk.astype(pd.SparseDtype(fill_value=0)) for chunk in chunks )\n",
    "print(sdf.dtypes)"
   ]
  },
  {
   "cell_type": "markdown",
   "id": "61101c45",
   "metadata": {},
   "source": [
    "<a name=\"Matplotlib\"></a>\n",
    "### Matplotlib\n",
    "\n",
    "Basic visualization library in Python. Tbh it is not as easy to learn as ggplot so my recommendation: don't loose too much time trying. If you need something just search on stackoverflow, you will find what you need you'll just have to improvise some code to make it work on your code. In this section we will only see a non exhaustive list of popular plots. Note we won't go into details but there's two package that make it easier to plot data today in python: seaborn and plotly, I really recommend you check them out instead of matplotlib."
   ]
  },
  {
   "cell_type": "markdown",
   "id": "64cbbf43",
   "metadata": {},
   "source": [
    "<a name=\"Scatterplot\"></a>\n",
    "### Scatterplot\n",
    "\n",
    "Relation between two variables"
   ]
  },
  {
   "cell_type": "code",
   "execution_count": 2,
   "id": "17abede5",
   "metadata": {},
   "outputs": [
    {
     "data": {
      "image/png": "[encoded data removed]",
      "text/plain": [
       "<Figure size 640x480 with 1 Axes>"
      ]
     },
     "metadata": {},
     "output_type": "display_data"
    }
   ],
   "source": [
    "import matplotlib.pyplot as plt\n",
    "import pandas as pd\n",
    "\n",
    "df = pd.read_csv(\"data/california_housing_train.csv\")\n",
    "\n",
    "fig, ax = plt.subplots()\n",
    "ax.scatter(x = df[\"median_house_value\"],y = df[\"total_rooms\"], alpha=0.5)\n",
    "\n",
    "ax.set_xlabel('median house value', fontsize=15)\n",
    "ax.set_ylabel('total rooms', fontsize=15)\n",
    "ax.set_title('Relation between number of rooms and house pricing')\n",
    "\n",
    "ax.grid(True)\n",
    "fig.tight_layout()\n",
    "\n",
    "plt.show()"
   ]
  },
  {
   "cell_type": "markdown",
   "id": "390ece53",
   "metadata": {},
   "source": [
    "<a name=\"Lineplot\"></a>\n",
    "### Lineplot\n",
    "\n",
    "Use it when you want to see a variable over time for example"
   ]
  },
  {
   "cell_type": "code",
   "execution_count": 21,
   "id": "8463a196",
   "metadata": {},
   "outputs": [
    {
     "data": {
      "text/plain": [
       "[<matplotlib.lines.Line2D at 0x2f35e496f40>]"
      ]
     },
     "execution_count": 21,
     "metadata": {},
     "output_type": "execute_result"
    },
    {
     "data": {
      "image/png": "[encoded data removed]",
      "text/plain": [
       "<Figure size 432x288 with 1 Axes>"
      ]
     },
     "metadata": {
      "needs_background": "light"
     },
     "output_type": "display_data"
    }
   ],
   "source": [
    "import matplotlib.pyplot as plt\n",
    "import pandas as pd\n",
    "\n",
    "years = ['2010', '2011', '2012', '2013', '2014']\n",
    "household_median_age = [23,25,30,27,33]\n",
    "plt.plot(years, household_median_age, linewidth=2, markersize=12)"
   ]
  },
  {
   "cell_type": "markdown",
   "id": "5422c169",
   "metadata": {},
   "source": [
    "<a name=\"Barplot\"></a>\n",
    "### Barplot\n",
    "\n",
    "Compare categories"
   ]
  },
  {
   "cell_type": "code",
   "execution_count": 22,
   "id": "91ea66f5",
   "metadata": {},
   "outputs": [
    {
     "data": {
      "image/png": "[encoded data removed]",
      "text/plain": [
       "<Figure size 432x288 with 1 Axes>"
      ]
     },
     "metadata": {
      "needs_background": "light"
     },
     "output_type": "display_data"
    }
   ],
   "source": [
    "import matplotlib.pyplot as plt\n",
    "import pandas as pd\n",
    "\n",
    "fig, ax = plt.subplots()\n",
    "years = ['2010', '2011', '2012', '2013', '2014']\n",
    "household_median_age = [23,25,30,27,33]\n",
    "ax.bar(years,household_median_age)\n",
    "plt.show()"
   ]
  },
  {
   "cell_type": "markdown",
   "id": "d6e2fc52",
   "metadata": {},
   "source": [
    "<a name=\"Density\"></a>\n",
    "### Density\n",
    "\n",
    "See the distribution of your data, gaussian ? Bigger left tail ? ..."
   ]
  },
  {
   "cell_type": "code",
   "execution_count": 23,
   "id": "99dfb0a1",
   "metadata": {},
   "outputs": [
    {
     "data": {
      "image/png": "[encoded data removed]",
      "text/plain": [
       "<Figure size 432x288 with 1 Axes>"
      ]
     },
     "metadata": {
      "needs_background": "light"
     },
     "output_type": "display_data"
    }
   ],
   "source": [
    "import matplotlib.pyplot as plt\n",
    "import numpy as np\n",
    "from scipy.stats import gaussian_kde\n",
    "\n",
    "df = pd.read_csv(\"data/california_housing_train.csv\")\n",
    "density = gaussian_kde(df[\"housing_median_age\"])\n",
    "xs = np.linspace(0,100,100)\n",
    "density.covariance_factor = lambda : .25\n",
    "density._compute_covariance()\n",
    "plt.plot(xs,density(xs))\n",
    "plt.show()"
   ]
  },
  {
   "cell_type": "markdown",
   "id": "4985705a",
   "metadata": {},
   "source": [
    "<a name=\"Regex\"></a>\n",
    "### Regex\n",
    "\n",
    "Big data also means messy data: chances are you will have text data and you need to parse it to get the information you want. The easiest way to parse text data is to use regular expression (regex). \n",
    "\n",
    "\"A regular expression is a sequence of characters that specifies a search pattern. Usually such patterns are used by string-searching algorithms for \"find\" or \"find and replace\" operations on strings, or for input validation. It is a technique developed in theoretical computer science and formal language theory.\" If you want to learn more go check https://github.com/ziishaned/learn-regex.\n",
    "\n",
    "In python you have the \"re\" package that facilitates regex operations. IMO don't try to learn everything, have the basic gist of it and then do small example."
   ]
  },
  {
   "cell_type": "code",
   "execution_count": 2,
   "id": "40f0232f",
   "metadata": {},
   "outputs": [
    {
     "name": "stdout",
     "output_type": "stream",
     "text": [
      "found a phone number in  Hello, my name is Kevin and I work at the university of Strasbourg, phone number is 9978838975, you can find me in room 153 at avenue de la foret noire \n",
      "found an email in Last just for an email you know kevin.wirtz@unistra.fr\n"
     ]
    }
   ],
   "source": [
    "import re\n",
    "\n",
    "random_text = [\" Hello, my name is Kevin and I work at the university of Strasbourg, phone number is 9978838975, you can find me in room 153 at avenue de la foret noire \",\n",
    "\"Last just for an email you know kevin.wirtz@unistra.fr\"]\n",
    "\n",
    "for text in random_text:\n",
    "    # here IGNORECASE is not needed but just to show you\n",
    "    if re.search('[\\w]+@[\\w]+', text, re.IGNORECASE):\n",
    "        print(\"found an email in\", text)\n",
    "    if re.search('[0-9]{10,11}', text):\n",
    "        print(\"found a phone number in\",text)\n",
    "\n",
    "#%% Short parantheses for regular expression (regex) ####\n",
    "# Most common ^ = startswith the next character, () = group characters, . any charac,! not like next charac, $ ends with\n",
    "# https://www.w3schools.com/python/python_regex.asp https://docs.python.org/3/library/re.html\n",
    "# re.search(\"^(/wiki/)((?!:).)*$\",\"/wiki/tqtt?\")\n",
    "# re.compile = specify pattern\n",
    "\n",
    "# re.search(\"^(/wiki/)((?!:).)*$\",\"/wiki/tqtt?\") \n",
    "# equivalent to \n",
    "# patt = re.compile(\"^(/wiki/)((?!:).)*$\")\n",
    "# patt.search(\"/wiki/tqtt?\")\n"
   ]
  },
  {
   "cell_type": "markdown",
   "id": "37c03790",
   "metadata": {},
   "source": [
    "<a name=\"Beautiful Soup\"></a>\n",
    "### Webscraping:  Beautiful Soup\n",
    "\n",
    "Let’s say we want to \"scrap\" information on a Website (e.g:http://quotes.toscrape.com/) Where do we start ? One way would be to download the html file that generated the web page. To do this we can use the package requests:"
   ]
  },
  {
   "cell_type": "code",
   "execution_count": 1,
   "id": "01cd7bac",
   "metadata": {},
   "outputs": [
    {
     "name": "stdout",
     "output_type": "stream",
     "text": [
      "200\n",
      "b'<!DOCTYPE html>\\n<html lang=\"en\">\\n<head>\\n\\t<meta charset=\"UTF-8\">\\n\\t<title>Quotes to Scrape</title>\\n    <link rel=\"stylesheet\" href=\"/static/bootstrap.min.css\">\\n    <link rel=\"stylesheet\" href=\"/static/main.css\">\\n</head>\\n<body>\\n    <div class=\"container\">\\n        <div class=\"row header-box\">\\n            <div class=\"col-md-8\">\\n                <h1>\\n                    <a href=\"/\" style=\"text-decoration: none\">Quotes to Scrape</a>\\n                </h1>\\n            </div>\\n            <div class=\"col-md-4\">\\n                <p>\\n                \\n                    <a href=\"/login\">Login</a>\\n                \\n                </p>\\n            </div>\\n        </div>\\n    \\n\\n<div class=\"row\">\\n    <div class=\"col-md-8\">\\n\\n    <div class=\"quote\" itemscope itemtype=\"http://schema.org/CreativeWork\">\\n        <span class=\"text\" itemprop=\"text\">\\xe2\\x80\\x9cThe world as we have created it is a process of our thinking. It cannot be changed without changing our thinking.\\xe2\\x80\\x9d</span>\\n        <span>by <small class=\"author\" itemprop=\"author\">Albert Einstein</small>\\n        <a href=\"/author/Albert-Einstein\">(about)</a>\\n        </span>\\n        <div class=\"tags\">\\n            Tags:\\n            <meta class=\"keywords\" itemprop=\"keywords\" content=\"change,deep-thoughts,thinking,world\" /    > \\n            \\n            <a class=\"tag\" href=\"/tag/change/page/1/\">change</a>\\n            \\n            <a class=\"tag\" href=\"/tag/deep-thoughts/page/1/\">deep-thoughts</a>\\n            \\n            <a class=\"tag\" href=\"/tag/thinking/page/1/\">thinking</a>\\n            \\n            <a class=\"tag\" href=\"/tag/world/page/1/\">world</a>\\n            \\n        </div>\\n    </div>\\n\\n    <div class=\"quote\" itemscope itemtype=\"http://schema.org/CreativeWork\">\\n        <span class=\"text\" itemprop=\"text\">\\xe2\\x80\\x9cIt is our choices, Harry, that show what we truly are, far more than our abilities.\\xe2\\x80\\x9d</span>\\n        <span>by <small class=\"author\" itemprop=\"author\">J.K. Rowling</small>\\n        <a href=\"/author/J-K-Rowling\">(about)</a>\\n        </span>\\n        <div class=\"tags\">\\n            Tags:\\n            <meta class=\"keywords\" itemprop=\"keywords\" content=\"abilities,choices\" /    > \\n            \\n            <a class=\"tag\" href=\"/tag/abilities/page/1/\">abilities</a>\\n            \\n            <a class=\"tag\" href=\"/tag/choices/page/1/\">choices</a>\\n            \\n        </div>\\n    </div>\\n\\n    <div class=\"quote\" itemscope itemtype=\"http://schema.org/CreativeWork\">\\n        <span class=\"text\" itemprop=\"text\">\\xe2\\x80\\x9cThere are only two ways to live your life. One is as though nothing is a miracle. The other is as though everything is a miracle.\\xe2\\x80\\x9d</span>\\n        <span>by <small class=\"author\" itemprop=\"author\">Albert Einstein</small>\\n        <a href=\"/author/Albert-Einstein\">(about)</a>\\n        </span>\\n        <div class=\"tags\">\\n            Tags:\\n            <meta class=\"keywords\" itemprop=\"keywords\" content=\"inspirational,life,live,miracle,miracles\" /    > \\n            \\n            <a class=\"tag\" href=\"/tag/inspirational/page/1/\">inspirational</a>\\n            \\n            <a class=\"tag\" href=\"/tag/life/page/1/\">life</a>\\n            \\n            <a class=\"tag\" href=\"/tag/live/page/1/\">live</a>\\n            \\n            <a class=\"tag\" href=\"/tag/miracle/page/1/\">miracle</a>\\n            \\n            <a class=\"tag\" href=\"/tag/miracles/page/1/\">miracles</a>\\n            \\n        </div>\\n    </div>\\n\\n    <div class=\"quote\" itemscope itemtype=\"http://schema.org/CreativeWork\">\\n        <span class=\"text\" itemprop=\"text\">\\xe2\\x80\\x9cThe person, be it gentleman or lady, who has not pleasure in a good novel, must be intolerably stupid.\\xe2\\x80\\x9d</span>\\n        <span>by <small class=\"author\" itemprop=\"author\">Jane Austen</small>\\n        <a href=\"/author/Jane-Austen\">(about)</a>\\n        </span>\\n        <div class=\"tags\">\\n            Tags:\\n            <meta class=\"keywords\" itemprop=\"keywords\" content=\"aliteracy,books,classic,humor\" /    > \\n            \\n            <a class=\"tag\" href=\"/tag/aliteracy/page/1/\">aliteracy</a>\\n            \\n            <a class=\"tag\" href=\"/tag/books/page/1/\">books</a>\\n            \\n            <a class=\"tag\" href=\"/tag/classic/page/1/\">classic</a>\\n            \\n            <a class=\"tag\" href=\"/tag/humor/page/1/\">humor</a>\\n            \\n        </div>\\n    </div>\\n\\n    <div class=\"quote\" itemscope itemtype=\"http://schema.org/CreativeWork\">\\n        <span class=\"text\" itemprop=\"text\">\\xe2\\x80\\x9cImperfection is beauty, madness is genius and it&#39;s better to be absolutely ridiculous than absolutely boring.\\xe2\\x80\\x9d</span>\\n        <span>by <small class=\"author\" itemprop=\"author\">Marilyn Monroe</small>\\n        <a href=\"/author/Marilyn-Monroe\">(about)</a>\\n        </span>\\n        <div class=\"tags\">\\n            Tags:\\n            <meta class=\"keywords\" itemprop=\"keywords\" content=\"be-yourself,inspirational\" /    > \\n            \\n            <a class=\"tag\" href=\"/tag/be-yourself/page/1/\">be-yourself</a>\\n            \\n            <a class=\"tag\" href=\"/tag/inspirational/page/1/\">inspirational</a>\\n            \\n        </div>\\n    </div>\\n\\n    <div class=\"quote\" itemscope itemtype=\"http://schema.org/CreativeWork\">\\n        <span class=\"text\" itemprop=\"text\">\\xe2\\x80\\x9cTry not to become a man of success. Rather become a man of value.\\xe2\\x80\\x9d</span>\\n        <span>by <small class=\"author\" itemprop=\"author\">Albert Einstein</small>\\n        <a href=\"/author/Albert-Einstein\">(about)</a>\\n        </span>\\n        <div class=\"tags\">\\n            Tags:\\n            <meta class=\"keywords\" itemprop=\"keywords\" content=\"adulthood,success,value\" /    > \\n            \\n            <a class=\"tag\" href=\"/tag/adulthood/page/1/\">adulthood</a>\\n            \\n            <a class=\"tag\" href=\"/tag/success/page/1/\">success</a>\\n            \\n            <a class=\"tag\" href=\"/tag/value/page/1/\">value</a>\\n            \\n        </div>\\n    </div>\\n\\n    <div class=\"quote\" itemscope itemtype=\"http://schema.org/CreativeWork\">\\n        <span class=\"text\" itemprop=\"text\">\\xe2\\x80\\x9cIt is better to be hated for what you are than to be loved for what you are not.\\xe2\\x80\\x9d</span>\\n        <span>by <small class=\"author\" itemprop=\"author\">Andr\\xc3\\xa9 Gide</small>\\n        <a href=\"/author/Andre-Gide\">(about)</a>\\n        </span>\\n        <div class=\"tags\">\\n            Tags:\\n            <meta class=\"keywords\" itemprop=\"keywords\" content=\"life,love\" /    > \\n            \\n            <a class=\"tag\" href=\"/tag/life/page/1/\">life</a>\\n            \\n            <a class=\"tag\" href=\"/tag/love/page/1/\">love</a>\\n            \\n        </div>\\n    </div>\\n\\n    <div class=\"quote\" itemscope itemtype=\"http://schema.org/CreativeWork\">\\n        <span class=\"text\" itemprop=\"text\">\\xe2\\x80\\x9cI have not failed. I&#39;ve just found 10,000 ways that won&#39;t work.\\xe2\\x80\\x9d</span>\\n        <span>by <small class=\"author\" itemprop=\"author\">Thomas A. Edison</small>\\n        <a href=\"/author/Thomas-A-Edison\">(about)</a>\\n        </span>\\n        <div class=\"tags\">\\n            Tags:\\n            <meta class=\"keywords\" itemprop=\"keywords\" content=\"edison,failure,inspirational,paraphrased\" /    > \\n            \\n            <a class=\"tag\" href=\"/tag/edison/page/1/\">edison</a>\\n            \\n            <a class=\"tag\" href=\"/tag/failure/page/1/\">failure</a>\\n            \\n            <a class=\"tag\" href=\"/tag/inspirational/page/1/\">inspirational</a>\\n            \\n            <a class=\"tag\" href=\"/tag/paraphrased/page/1/\">paraphrased</a>\\n            \\n        </div>\\n    </div>\\n\\n    <div class=\"quote\" itemscope itemtype=\"http://schema.org/CreativeWork\">\\n        <span class=\"text\" itemprop=\"text\">\\xe2\\x80\\x9cA woman is like a tea bag; you never know how strong it is until it&#39;s in hot water.\\xe2\\x80\\x9d</span>\\n        <span>by <small class=\"author\" itemprop=\"author\">Eleanor Roosevelt</small>\\n        <a href=\"/author/Eleanor-Roosevelt\">(about)</a>\\n        </span>\\n        <div class=\"tags\">\\n            Tags:\\n            <meta class=\"keywords\" itemprop=\"keywords\" content=\"misattributed-eleanor-roosevelt\" /    > \\n            \\n            <a class=\"tag\" href=\"/tag/misattributed-eleanor-roosevelt/page/1/\">misattributed-eleanor-roosevelt</a>\\n            \\n        </div>\\n    </div>\\n\\n    <div class=\"quote\" itemscope itemtype=\"http://schema.org/CreativeWork\">\\n        <span class=\"text\" itemprop=\"text\">\\xe2\\x80\\x9cA day without sunshine is like, you know, night.\\xe2\\x80\\x9d</span>\\n        <span>by <small class=\"author\" itemprop=\"author\">Steve Martin</small>\\n        <a href=\"/author/Steve-Martin\">(about)</a>\\n        </span>\\n        <div class=\"tags\">\\n            Tags:\\n            <meta class=\"keywords\" itemprop=\"keywords\" content=\"humor,obvious,simile\" /    > \\n            \\n            <a class=\"tag\" href=\"/tag/humor/page/1/\">humor</a>\\n            \\n            <a class=\"tag\" href=\"/tag/obvious/page/1/\">obvious</a>\\n            \\n            <a class=\"tag\" href=\"/tag/simile/page/1/\">simile</a>\\n            \\n        </div>\\n    </div>\\n\\n    <nav>\\n        <ul class=\"pager\">\\n            \\n            \\n            <li class=\"next\">\\n                <a href=\"/page/2/\">Next <span aria-hidden=\"true\">&rarr;</span></a>\\n            </li>\\n            \\n        </ul>\\n    </nav>\\n    </div>\\n    <div class=\"col-md-4 tags-box\">\\n        \\n            <h2>Top Ten tags</h2>\\n            \\n            <span class=\"tag-item\">\\n            <a class=\"tag\" style=\"font-size: 28px\" href=\"/tag/love/\">love</a>\\n            </span>\\n            \\n            <span class=\"tag-item\">\\n            <a class=\"tag\" style=\"font-size: 26px\" href=\"/tag/inspirational/\">inspirational</a>\\n            </span>\\n            \\n            <span class=\"tag-item\">\\n            <a class=\"tag\" style=\"font-size: 26px\" href=\"/tag/life/\">life</a>\\n            </span>\\n            \\n            <span class=\"tag-item\">\\n            <a class=\"tag\" style=\"font-size: 24px\" href=\"/tag/humor/\">humor</a>\\n            </span>\\n            \\n            <span class=\"tag-item\">\\n            <a class=\"tag\" style=\"font-size: 22px\" href=\"/tag/books/\">books</a>\\n            </span>\\n            \\n            <span class=\"tag-item\">\\n            <a class=\"tag\" style=\"font-size: 14px\" href=\"/tag/reading/\">reading</a>\\n            </span>\\n            \\n            <span class=\"tag-item\">\\n            <a class=\"tag\" style=\"font-size: 10px\" href=\"/tag/friendship/\">friendship</a>\\n            </span>\\n            \\n            <span class=\"tag-item\">\\n            <a class=\"tag\" style=\"font-size: 8px\" href=\"/tag/friends/\">friends</a>\\n            </span>\\n            \\n            <span class=\"tag-item\">\\n            <a class=\"tag\" style=\"font-size: 8px\" href=\"/tag/truth/\">truth</a>\\n            </span>\\n            \\n            <span class=\"tag-item\">\\n            <a class=\"tag\" style=\"font-size: 6px\" href=\"/tag/simile/\">simile</a>\\n            </span>\\n            \\n        \\n    </div>\\n</div>\\n\\n    </div>\\n    <footer class=\"footer\">\\n        <div class=\"container\">\\n            <p class=\"text-muted\">\\n                Quotes by: <a href=\"https://www.goodreads.com/quotes\">GoodReads.com</a>\\n            </p>\\n            <p class=\"copyright\">\\n                Made with <span class=\\'zyte\\'>\\xe2\\x9d\\xa4</span> by <a class=\\'zyte\\' href=\"https://www.zyte.com\">Zyte</a>\\n            </p>\\n        </div>\\n    </footer>\\n</body>\\n</html>'\n"
     ]
    }
   ],
   "source": [
    "import requests # If you want to fetch some information on internet, chances are you are going to use requests\n",
    "\n",
    "starting_url = \"http://quotes.toscrape.com/\" \n",
    "response = requests.get(url = starting_url)\n",
    "print(response.status_code) # Most common code: 200,403,404,503; extensive list https://github.com/psf/requests/blob/master/requests/status_codes.py\n",
    "result = response.content\n",
    "print(result) "
   ]
  },
  {
   "cell_type": "markdown",
   "id": "60e5f5d6",
   "metadata": {},
   "source": [
    "We now have information of the web page but we need to parse the results to get the data we want. This could be done manually with some regex but the easiest way is to use a package, in this case: Beautiful Soup !"
   ]
  },
  {
   "cell_type": "code",
   "execution_count": 5,
   "id": "b9e0cb5c",
   "metadata": {},
   "outputs": [
    {
     "name": "stdout",
     "output_type": "stream",
     "text": [
      "Collecting beautifulsoup4\n",
      "  Downloading beautifulsoup4-4.12.2-py3-none-any.whl (142 kB)\n",
      "     ---------------------------------------- 0.0/143.0 kB ? eta -:--:--\n",
      "     ----------- --------------------------- 41.0/143.0 kB 2.0 MB/s eta 0:00:01\n",
      "     ------------------------- ------------- 92.2/143.0 kB 2.6 MB/s eta 0:00:01\n",
      "     -------------------------------------- 143.0/143.0 kB 1.2 MB/s eta 0:00:00\n",
      "Collecting soupsieve>1.2 (from beautifulsoup4)\n",
      "  Obtaining dependency information for soupsieve>1.2 from https://files.pythonhosted.org/packages/4c/f3/038b302fdfbe3be7da016777069f26ceefe11a681055ea1f7817546508e3/soupsieve-2.5-py3-none-any.whl.metadata\n",
      "  Downloading soupsieve-2.5-py3-none-any.whl.metadata (4.7 kB)\n",
      "Downloading soupsieve-2.5-py3-none-any.whl (36 kB)\n",
      "Installing collected packages: soupsieve, beautifulsoup4\n",
      "Successfully installed beautifulsoup4-4.12.2 soupsieve-2.5\n"
     ]
    }
   ],
   "source": [
    "!pip install beautifulsoup4"
   ]
  },
  {
   "cell_type": "code",
   "execution_count": 2,
   "id": "2d202df0",
   "metadata": {},
   "outputs": [
    {
     "name": "stdout",
     "output_type": "stream",
     "text": [
      "<class 'bs4.BeautifulSoup'>\n",
      "<!DOCTYPE html>\n",
      "<html lang=\"en\">\n",
      " <head>\n",
      "  <meta charset=\"utf-8\"/>\n",
      "  <title>\n",
      "   Quotes to Scrape\n",
      "  </title>\n",
      "  <link href=\"/static/bootstrap.min.css\" rel=\"stylesheet\"/>\n",
      "  <link href=\"/static/main.css\" rel=\"stylesheet\"/>\n",
      " </head>\n",
      " <body>\n",
      "  <div class=\"container\">\n",
      "   <div class=\"row header-box\">\n",
      "    <div class=\"col-md-8\">\n",
      "     <h1>\n",
      "      <a href=\"/\" style=\"text-decoration: none\">\n",
      "       Quotes to Scrape\n",
      "      </a>\n",
      "     </h1>\n",
      "    </div>\n",
      "    <div class=\"col-md-4\">\n",
      "     <p>\n",
      "      <a href=\"/login\">\n",
      "       Login\n",
      "      </a>\n",
      "     </p>\n",
      "    </div>\n",
      "   </div>\n",
      "   <div class=\"row\">\n",
      "    <div class=\"col-md-8\">\n",
      "     <div class=\"quote\" itemscope=\"\" itemtype=\"http://schema.org/CreativeWork\">\n",
      "      <span class=\"text\" itemprop=\"text\">\n",
      "       “The world as we have created it is a process of our thinking. It cannot be changed without changing our thinking.”\n",
      "      </span>\n",
      "      <span>\n",
      "       by\n",
      "       <small class=\"author\" itemprop=\"author\">\n",
      "        Albert Einstein\n",
      "       </small>\n",
      "       <a href=\"/author/Albert-Einstein\">\n",
      "        (about)\n",
      "       </a>\n",
      "      </span>\n",
      "      <div class=\"tags\">\n",
      "       Tags:\n",
      "       <meta class=\"keywords\" content=\"change,deep-thoughts,thinking,world\" itemprop=\"keywords\"/>\n",
      "       <a class=\"tag\" href=\"/tag/change/page/1/\">\n",
      "        change\n",
      "       </a>\n",
      "       <a class=\"tag\" href=\"/tag/deep-thoughts/page/1/\">\n",
      "        deep-thoughts\n",
      "       </a>\n",
      "       <a class=\"tag\" href=\"/tag/thinking/page/1/\">\n",
      "        thinking\n",
      "       </a>\n",
      "       <a class=\"tag\" href=\"/tag/world/page/1/\">\n",
      "        world\n",
      "       </a>\n",
      "      </div>\n",
      "     </div>\n",
      "     <div class=\"quote\" itemscope=\"\" itemtype=\"http://schema.org/CreativeWork\">\n",
      "      <span class=\"text\" itemprop=\"text\">\n",
      "       “It is our choices, Harry, that show what we truly are, far more than our abilities.”\n",
      "      </span>\n",
      "      <span>\n",
      "       by\n",
      "       <small class=\"author\" itemprop=\"author\">\n",
      "        J.K. Rowling\n",
      "       </small>\n",
      "       <a href=\"/author/J-K-Rowling\">\n",
      "        (about)\n",
      "       </a>\n",
      "      </span>\n",
      "      <div class=\"tags\">\n",
      "       Tags:\n",
      "       <meta class=\"keywords\" content=\"abilities,choices\" itemprop=\"keywords\"/>\n",
      "       <a class=\"tag\" href=\"/tag/abilities/page/1/\">\n",
      "        abilities\n",
      "       </a>\n",
      "       <a class=\"tag\" href=\"/tag/choices/page/1/\">\n",
      "        choices\n",
      "       </a>\n",
      "      </div>\n",
      "     </div>\n",
      "     <div class=\"quote\" itemscope=\"\" itemtype=\"http://schema.org/CreativeWork\">\n",
      "      <span class=\"text\" itemprop=\"text\">\n",
      "       “There are only two ways to live your life. One is as though nothing is a miracle. The other is as though everything is a miracle.”\n",
      "      </span>\n",
      "      <span>\n",
      "       by\n",
      "       <small class=\"author\" itemprop=\"author\">\n",
      "        Albert Einstein\n",
      "       </small>\n",
      "       <a href=\"/author/Albert-Einstein\">\n",
      "        (about)\n",
      "       </a>\n",
      "      </span>\n",
      "      <div class=\"tags\">\n",
      "       Tags:\n",
      "       <meta class=\"keywords\" content=\"inspirational,life,live,miracle,miracles\" itemprop=\"keywords\"/>\n",
      "       <a class=\"tag\" href=\"/tag/inspirational/page/1/\">\n",
      "        inspirational\n",
      "       </a>\n",
      "       <a class=\"tag\" href=\"/tag/life/page/1/\">\n",
      "        life\n",
      "       </a>\n",
      "       <a class=\"tag\" href=\"/tag/live/page/1/\">\n",
      "        live\n",
      "       </a>\n",
      "       <a class=\"tag\" href=\"/tag/miracle/page/1/\">\n",
      "        miracle\n",
      "       </a>\n",
      "       <a class=\"tag\" href=\"/tag/miracles/page/1/\">\n",
      "        miracles\n",
      "       </a>\n",
      "      </div>\n",
      "     </div>\n",
      "     <div class=\"quote\" itemscope=\"\" itemtype=\"http://schema.org/CreativeWork\">\n",
      "      <span class=\"text\" itemprop=\"text\">\n",
      "       “The person, be it gentleman or lady, who has not pleasure in a good novel, must be intolerably stupid.”\n",
      "      </span>\n",
      "      <span>\n",
      "       by\n",
      "       <small class=\"author\" itemprop=\"author\">\n",
      "        Jane Austen\n",
      "       </small>\n",
      "       <a href=\"/author/Jane-Austen\">\n",
      "        (about)\n",
      "       </a>\n",
      "      </span>\n",
      "      <div class=\"tags\">\n",
      "       Tags:\n",
      "       <meta class=\"keywords\" content=\"aliteracy,books,classic,humor\" itemprop=\"keywords\"/>\n",
      "       <a class=\"tag\" href=\"/tag/aliteracy/page/1/\">\n",
      "        aliteracy\n",
      "       </a>\n",
      "       <a class=\"tag\" href=\"/tag/books/page/1/\">\n",
      "        books\n",
      "       </a>\n",
      "       <a class=\"tag\" href=\"/tag/classic/page/1/\">\n",
      "        classic\n",
      "       </a>\n",
      "       <a class=\"tag\" href=\"/tag/humor/page/1/\">\n",
      "        humor\n",
      "       </a>\n",
      "      </div>\n",
      "     </div>\n",
      "     <div class=\"quote\" itemscope=\"\" itemtype=\"http://schema.org/CreativeWork\">\n",
      "      <span class=\"text\" itemprop=\"text\">\n",
      "       “Imperfection is beauty, madness is genius and it's better to be absolutely ridiculous than absolutely boring.”\n",
      "      </span>\n",
      "      <span>\n",
      "       by\n",
      "       <small class=\"author\" itemprop=\"author\">\n",
      "        Marilyn Monroe\n",
      "       </small>\n",
      "       <a href=\"/author/Marilyn-Monroe\">\n",
      "        (about)\n",
      "       </a>\n",
      "      </span>\n",
      "      <div class=\"tags\">\n",
      "       Tags:\n",
      "       <meta class=\"keywords\" content=\"be-yourself,inspirational\" itemprop=\"keywords\"/>\n",
      "       <a class=\"tag\" href=\"/tag/be-yourself/page/1/\">\n",
      "        be-yourself\n",
      "       </a>\n",
      "       <a class=\"tag\" href=\"/tag/inspirational/page/1/\">\n",
      "        inspirational\n",
      "       </a>\n",
      "      </div>\n",
      "     </div>\n",
      "     <div class=\"quote\" itemscope=\"\" itemtype=\"http://schema.org/CreativeWork\">\n",
      "      <span class=\"text\" itemprop=\"text\">\n",
      "       “Try not to become a man of success. Rather become a man of value.”\n",
      "      </span>\n",
      "      <span>\n",
      "       by\n",
      "       <small class=\"author\" itemprop=\"author\">\n",
      "        Albert Einstein\n",
      "       </small>\n",
      "       <a href=\"/author/Albert-Einstein\">\n",
      "        (about)\n",
      "       </a>\n",
      "      </span>\n",
      "      <div class=\"tags\">\n",
      "       Tags:\n",
      "       <meta class=\"keywords\" content=\"adulthood,success,value\" itemprop=\"keywords\"/>\n",
      "       <a class=\"tag\" href=\"/tag/adulthood/page/1/\">\n",
      "        adulthood\n",
      "       </a>\n",
      "       <a class=\"tag\" href=\"/tag/success/page/1/\">\n",
      "        success\n",
      "       </a>\n",
      "       <a class=\"tag\" href=\"/tag/value/page/1/\">\n",
      "        value\n",
      "       </a>\n",
      "      </div>\n",
      "     </div>\n",
      "     <div class=\"quote\" itemscope=\"\" itemtype=\"http://schema.org/CreativeWork\">\n",
      "      <span class=\"text\" itemprop=\"text\">\n",
      "       “It is better to be hated for what you are than to be loved for what you are not.”\n",
      "      </span>\n",
      "      <span>\n",
      "       by\n",
      "       <small class=\"author\" itemprop=\"author\">\n",
      "        André Gide\n",
      "       </small>\n",
      "       <a href=\"/author/Andre-Gide\">\n",
      "        (about)\n",
      "       </a>\n",
      "      </span>\n",
      "      <div class=\"tags\">\n",
      "       Tags:\n",
      "       <meta class=\"keywords\" content=\"life,love\" itemprop=\"keywords\"/>\n",
      "       <a class=\"tag\" href=\"/tag/life/page/1/\">\n",
      "        life\n",
      "       </a>\n",
      "       <a class=\"tag\" href=\"/tag/love/page/1/\">\n",
      "        love\n",
      "       </a>\n",
      "      </div>\n",
      "     </div>\n",
      "     <div class=\"quote\" itemscope=\"\" itemtype=\"http://schema.org/CreativeWork\">\n",
      "      <span class=\"text\" itemprop=\"text\">\n",
      "       “I have not failed. I've just found 10,000 ways that won't work.”\n",
      "      </span>\n",
      "      <span>\n",
      "       by\n",
      "       <small class=\"author\" itemprop=\"author\">\n",
      "        Thomas A. Edison\n",
      "       </small>\n",
      "       <a href=\"/author/Thomas-A-Edison\">\n",
      "        (about)\n",
      "       </a>\n",
      "      </span>\n",
      "      <div class=\"tags\">\n",
      "       Tags:\n",
      "       <meta class=\"keywords\" content=\"edison,failure,inspirational,paraphrased\" itemprop=\"keywords\"/>\n",
      "       <a class=\"tag\" href=\"/tag/edison/page/1/\">\n",
      "        edison\n",
      "       </a>\n",
      "       <a class=\"tag\" href=\"/tag/failure/page/1/\">\n",
      "        failure\n",
      "       </a>\n",
      "       <a class=\"tag\" href=\"/tag/inspirational/page/1/\">\n",
      "        inspirational\n",
      "       </a>\n",
      "       <a class=\"tag\" href=\"/tag/paraphrased/page/1/\">\n",
      "        paraphrased\n",
      "       </a>\n",
      "      </div>\n",
      "     </div>\n",
      "     <div class=\"quote\" itemscope=\"\" itemtype=\"http://schema.org/CreativeWork\">\n",
      "      <span class=\"text\" itemprop=\"text\">\n",
      "       “A woman is like a tea bag; you never know how strong it is until it's in hot water.”\n",
      "      </span>\n",
      "      <span>\n",
      "       by\n",
      "       <small class=\"author\" itemprop=\"author\">\n",
      "        Eleanor Roosevelt\n",
      "       </small>\n",
      "       <a href=\"/author/Eleanor-Roosevelt\">\n",
      "        (about)\n",
      "       </a>\n",
      "      </span>\n",
      "      <div class=\"tags\">\n",
      "       Tags:\n",
      "       <meta class=\"keywords\" content=\"misattributed-eleanor-roosevelt\" itemprop=\"keywords\"/>\n",
      "       <a class=\"tag\" href=\"/tag/misattributed-eleanor-roosevelt/page/1/\">\n",
      "        misattributed-eleanor-roosevelt\n",
      "       </a>\n",
      "      </div>\n",
      "     </div>\n",
      "     <div class=\"quote\" itemscope=\"\" itemtype=\"http://schema.org/CreativeWork\">\n",
      "      <span class=\"text\" itemprop=\"text\">\n",
      "       “A day without sunshine is like, you know, night.”\n",
      "      </span>\n",
      "      <span>\n",
      "       by\n",
      "       <small class=\"author\" itemprop=\"author\">\n",
      "        Steve Martin\n",
      "       </small>\n",
      "       <a href=\"/author/Steve-Martin\">\n",
      "        (about)\n",
      "       </a>\n",
      "      </span>\n",
      "      <div class=\"tags\">\n",
      "       Tags:\n",
      "       <meta class=\"keywords\" content=\"humor,obvious,simile\" itemprop=\"keywords\"/>\n",
      "       <a class=\"tag\" href=\"/tag/humor/page/1/\">\n",
      "        humor\n",
      "       </a>\n",
      "       <a class=\"tag\" href=\"/tag/obvious/page/1/\">\n",
      "        obvious\n",
      "       </a>\n",
      "       <a class=\"tag\" href=\"/tag/simile/page/1/\">\n",
      "        simile\n",
      "       </a>\n",
      "      </div>\n",
      "     </div>\n",
      "     <nav>\n",
      "      <ul class=\"pager\">\n",
      "       <li class=\"next\">\n",
      "        <a href=\"/page/2/\">\n",
      "         Next\n",
      "         <span aria-hidden=\"true\">\n",
      "          →\n",
      "         </span>\n",
      "        </a>\n",
      "       </li>\n",
      "      </ul>\n",
      "     </nav>\n",
      "    </div>\n",
      "    <div class=\"col-md-4 tags-box\">\n",
      "     <h2>\n",
      "      Top Ten tags\n",
      "     </h2>\n",
      "     <span class=\"tag-item\">\n",
      "      <a class=\"tag\" href=\"/tag/love/\" style=\"font-size: 28px\">\n",
      "       love\n",
      "      </a>\n",
      "     </span>\n",
      "     <span class=\"tag-item\">\n",
      "      <a class=\"tag\" href=\"/tag/inspirational/\" style=\"font-size: 26px\">\n",
      "       inspirational\n",
      "      </a>\n",
      "     </span>\n",
      "     <span class=\"tag-item\">\n",
      "      <a class=\"tag\" href=\"/tag/life/\" style=\"font-size: 26px\">\n",
      "       life\n",
      "      </a>\n",
      "     </span>\n",
      "     <span class=\"tag-item\">\n",
      "      <a class=\"tag\" href=\"/tag/humor/\" style=\"font-size: 24px\">\n",
      "       humor\n",
      "      </a>\n",
      "     </span>\n",
      "     <span class=\"tag-item\">\n",
      "      <a class=\"tag\" href=\"/tag/books/\" style=\"font-size: 22px\">\n",
      "       books\n",
      "      </a>\n",
      "     </span>\n",
      "     <span class=\"tag-item\">\n",
      "      <a class=\"tag\" href=\"/tag/reading/\" style=\"font-size: 14px\">\n",
      "       reading\n",
      "      </a>\n",
      "     </span>\n",
      "     <span class=\"tag-item\">\n",
      "      <a class=\"tag\" href=\"/tag/friendship/\" style=\"font-size: 10px\">\n",
      "       friendship\n",
      "      </a>\n",
      "     </span>\n",
      "     <span class=\"tag-item\">\n",
      "      <a class=\"tag\" href=\"/tag/friends/\" style=\"font-size: 8px\">\n",
      "       friends\n",
      "      </a>\n",
      "     </span>\n",
      "     <span class=\"tag-item\">\n",
      "      <a class=\"tag\" href=\"/tag/truth/\" style=\"font-size: 8px\">\n",
      "       truth\n",
      "      </a>\n",
      "     </span>\n",
      "     <span class=\"tag-item\">\n",
      "      <a class=\"tag\" href=\"/tag/simile/\" style=\"font-size: 6px\">\n",
      "       simile\n",
      "      </a>\n",
      "     </span>\n",
      "    </div>\n",
      "   </div>\n",
      "  </div>\n",
      "  <footer class=\"footer\">\n",
      "   <div class=\"container\">\n",
      "    <p class=\"text-muted\">\n",
      "     Quotes by:\n",
      "     <a href=\"https://www.goodreads.com/quotes\">\n",
      "      GoodReads.com\n",
      "     </a>\n",
      "    </p>\n",
      "    <p class=\"copyright\">\n",
      "     Made with\n",
      "     <span class=\"zyte\">\n",
      "      ❤\n",
      "     </span>\n",
      "     by\n",
      "     <a class=\"zyte\" href=\"https://www.zyte.com\">\n",
      "      Zyte\n",
      "     </a>\n",
      "    </p>\n",
      "   </div>\n",
      "  </footer>\n",
      " </body>\n",
      "</html>\n",
      "\n"
     ]
    }
   ],
   "source": [
    "import requests # If you want to fetch some information on internet, chances are you are going to use requests\n",
    "from bs4 import BeautifulSoup\n",
    "\n",
    "starting_url = \"http://quotes.toscrape.com/\"\n",
    "response = requests.get(url = starting_url)\n",
    "result = response.content\n",
    "soup = BeautifulSoup(result, 'html.parser')\n",
    "print(type(soup))\n",
    "print(soup.prettify()) # FYI, human readable = look for something, but web developpment tool > prettify\n"
   ]
  },
  {
   "cell_type": "code",
   "execution_count": 3,
   "id": "d2526709",
   "metadata": {},
   "outputs": [
    {
     "name": "stdout",
     "output_type": "stream",
     "text": [
      "<Response [200]>\n"
     ]
    }
   ],
   "source": [
    "print(response)"
   ]
  },
  {
   "cell_type": "markdown",
   "id": "00c31f2a",
   "metadata": {},
   "source": [
    "Some key vocabulary to understand html:\n",
    "\n",
    "- < TAG ATTRIBUTES>  Text\n",
    "- Most common Tag = < div> < a> < span>\n",
    "- List of tags:\n",
    "- https://www.w3schools.com/tags\n",
    "- Most common attributes = class,href,id,....\n",
    "- WARNING, irl might be messy\n"
   ]
  },
  {
   "cell_type": "code",
   "execution_count": 4,
   "id": "6f785946",
   "metadata": {},
   "outputs": [
    {
     "name": "stdout",
     "output_type": "stream",
     "text": [
      "list_div: [<span class=\"text\" itemprop=\"text\">“The world as we have created it is a process of our thinking. It cannot be changed without changing our thinking.”</span>, <span class=\"text\" itemprop=\"text\">“It is our choices, Harry, that show what we truly are, far more than our abilities.”</span>, <span class=\"text\" itemprop=\"text\">“There are only two ways to live your life. One is as though nothing is a miracle. The other is as though everything is a miracle.”</span>, <span class=\"text\" itemprop=\"text\">“The person, be it gentleman or lady, who has not pleasure in a good novel, must be intolerably stupid.”</span>, <span class=\"text\" itemprop=\"text\">“Imperfection is beauty, madness is genius and it's better to be absolutely ridiculous than absolutely boring.”</span>, <span class=\"text\" itemprop=\"text\">“Try not to become a man of success. Rather become a man of value.”</span>, <span class=\"text\" itemprop=\"text\">“It is better to be hated for what you are than to be loved for what you are not.”</span>, <span class=\"text\" itemprop=\"text\">“I have not failed. I've just found 10,000 ways that won't work.”</span>, <span class=\"text\" itemprop=\"text\">“A woman is like a tea bag; you never know how strong it is until it's in hot water.”</span>, <span class=\"text\" itemprop=\"text\">“A day without sunshine is like, you know, night.”</span>]\n",
      "“The world as we have created it is a process of our thinking. It cannot be changed without changing our thinking.”\n",
      "“It is our choices, Harry, that show what we truly are, far more than our abilities.”\n",
      "“There are only two ways to live your life. One is as though nothing is a miracle. The other is as though everything is a miracle.”\n",
      "“The person, be it gentleman or lady, who has not pleasure in a good novel, must be intolerably stupid.”\n",
      "“Imperfection is beauty, madness is genius and it's better to be absolutely ridiculous than absolutely boring.”\n",
      "“Try not to become a man of success. Rather become a man of value.”\n",
      "“It is better to be hated for what you are than to be loved for what you are not.”\n",
      "“I have not failed. I've just found 10,000 ways that won't work.”\n",
      "“A woman is like a tea bag; you never know how strong it is until it's in hot water.”\n",
      "“A day without sunshine is like, you know, night.”\n"
     ]
    }
   ],
   "source": [
    "# finding all <span> that has a \"class\" attribute \"text\"\n",
    "\n",
    "list_div = soup.find_all(name = \"span\",attrs={'class':'text'}) \n",
    "print(\"list_div:\", list_div)\n",
    "\n",
    "\n",
    "# We used find_all => iterative => loop\n",
    "quotes = []\n",
    "for div in list_div:\n",
    "    quote = div.text\n",
    "    print(quote)\n",
    "    quotes.append(quote)\n",
    "\n",
    "quotes = [div.text for div in list_div] # does the same thing as above but more efficiently\n",
    "\n",
    "\n",
    "# What if there's multiple \"span\" = \"text\" ?\n",
    "\n",
    "list_div = soup.find_all(\"div\",attrs={'class':'quote'})\n",
    "\n",
    "quotes = []\n",
    "for quote_div in list_div:\n",
    "    quote = quote_div.find(\"span\",attrs={'class':'text'}).get_text() # Note we use .find this time\n",
    "    quotes.append(quote)\n",
    "\n",
    "quotes = [div.find(\"span\",attrs={'class':'text'}).text for div in list_div]\n",
    "\n",
    "# Get the authors name and get href \n",
    "\n",
    "list_div = soup.find_all(\"small\",attrs={'class':'author'})\n",
    "authors = [div.text for div in list_div]\n",
    "\n",
    "list_div = soup.find_all(\"div\",attrs={'class':'quote'})\n",
    "quotes = [div.find(\"a\").get(\"href\") for div in list_div]\n",
    "\n",
    "# For the moment we only scraped one page. we want to scrap all the pages\n",
    "\n",
    "\n",
    "next_page_url = \"\"\n",
    "quotes = []\n",
    "\n",
    "while next_page_url != None:\n",
    "    url = starting_url + next_page_url\n",
    "    response = requests.get(url)\n",
    "    result = response.content\n",
    "    soup = BeautifulSoup(result, 'html.parser')\n",
    "    list_div = soup.find_all(\"div\",attrs={'class':'quote'})\n",
    "    quotes += [div.text for div in list_div]\n",
    "    try:\n",
    "        next_page_url = soup.find(\"li\",attrs={'class':'next'}).find(\"a\").get(\"href\")\n",
    "    except:\n",
    "        next_page_url = None\n"
   ]
  },
  {
   "cell_type": "code",
   "execution_count": null,
   "id": "09ccae0b",
   "metadata": {},
   "outputs": [],
   "source": []
  },
  {
   "cell_type": "markdown",
   "id": "62f026c5",
   "metadata": {},
   "source": [
    "<a name=\"machine\"></a>\n",
    "## Know your machine\n",
    "\n",
    "![friends](img/know_your_machine.png)"
   ]
  },
  {
   "cell_type": "markdown",
   "id": "f7d29efc",
   "metadata": {},
   "source": [
    "Multiple tools to monitor and check your resources: \n",
    "- [CPU-Z](https://www.cpuid.com/softwares/cpu-z.html)\n",
    "- [OHM](https://openhardwaremonitor.org/downloads/)\n",
    "- Taskmanager\n",
    "- Device manager\n",
    "\n",
    "So what exactly is in a PC ?\n",
    "\n",
    "- Motherboard.<br />\n",
    "![MBirl](img/motherboardirl.jpg)\n",
    "- CPU. (Cores,threads = Important for multi-threading and multi-processings tasks, Higher GHz = faster operation)<br />\n",
    "![cpu](img/cpu.jpg)\n",
    "- RAM. One of the most basic limitation when working with big data.<br />\n",
    "![ram](img/ram.png)\n",
    "- HDD/SSD. Writing/Copy/Paste/Launching apps.<br />\n",
    "![hdd](img/hdd.jpeg)\n",
    "- GPU. Your friend when it comes to highly parallelizable code<br />\n",
    "![gpu](img/gpu.jpg)\n",
    "- Network card. (In terminal : ports = netstat, ip = ipconfig)"
   ]
  }
 ],
 "metadata": {
  "kernelspec": {
   "display_name": "Python 3 (ipykernel)",
   "language": "python",
   "name": "python3"
  },
  "language_info": {
   "codemirror_mode": {
    "name": "ipython",
    "version": 3
   },
   "file_extension": ".py",
   "mimetype": "text/x-python",
   "name": "python",
   "nbconvert_exporter": "python",
   "pygments_lexer": "ipython3",
   "version": "3.11.2"
  }
 },
 "nbformat": 4,
 "nbformat_minor": 5
}
