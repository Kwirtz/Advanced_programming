{
 "cells": [
  {
   "cell_type": "markdown",
   "id": "657642ec",
   "metadata": {},
   "source": [
    "# Introduction.\n",
    "\n",
    "This notebook is made to go through the fundamentals. You should already know all of this and if you don't now is the time ! I'm not gonna dive in basic operations (+,\\**,%,...), control flow statements like if/else and for/while loops and built-in types (int,float).  We will discuss more the bytes and ram usage in advanced concept section \n",
    "\n",
    "Structure:\n",
    "- [Environments](#env)\n",
    "- [Built-in types](#types)\n",
    "- [Built-in data structures](#data)\n",
    "    - [List](#List)\n",
    "    - [Tuples](#Tuples)\n",
    "    - [Dict](#Dict)\n",
    "    - [Set](#Set)\n",
    "- [Functions](#Functions)\n",
    "- [Useful libraries](#libraries)\n",
    "    - [Numpy](#Numpy)\n",
    "    - [Pandas](#Pandas)\n",
    "    - [Matplotlib](#Matplotlib)\n",
    "        - [Scatterplot](#Scatterplot)\n",
    "        - [Lineplot](#Lineplot)\n",
    "        - [Barplot](#Barplot)   \n",
    "        - [Density](#Density)\n",
    "- [Regex](#Regex)\n",
    "- [Know your machine](#machine)\n",
    "\n",
    "<a name=\"env\"></a>\n",
    "## Environments\n",
    "\n",
    "Before going into the coding details let's talk about \"Environments\".\n",
    "\n",
    "<a name=\"types\"></a>\n",
    "## Built-in types\n",
    "\n",
    "Here are the built-in types in python https://www.informit.com/articles/article.aspx?p=453682&seqNum=5. Not going into much details for str and int just beware of the built-in number types when working with python. Most libraries use some kind of inference to define automatically the built-in types (if NaN in pandas dataframe => float) and it might lead to inneficient ram usage. If you want an idea of which int type to use depending on your data check here https://numpy.org/doc/stable/user/basics.types.html. (For example RGB = [0-255] uint8 seems like the best type for images.)\n",
    "\n",
    "<a name=\"data\"></a>\n",
    "## Built-in data structures\n",
    "\n",
    "A good understanding of built-in data structures is imperative to feel comfortable in Python. Next is a reminder of how to use the most prominent data structures.\n",
    "\n",
    "<a name=\"List\"></a>\n",
    "### List\n",
    "\n",
    "Lists are a mutable built-in data type in python that can stores multiples item from any built-in data type and any built-in types (int,float,...). \n",
    "\n"
   ]
  },
  {
   "cell_type": "code",
   "execution_count": 2,
   "id": "cc95b01b",
   "metadata": {},
   "outputs": [
    {
     "name": "stdout",
     "output_type": "stream",
     "text": [
      "[1, 2, 3, 4, 5]\n",
      "first_position 1\n",
      "last_position 5\n",
      "interval_position [1, 2]\n",
      "appended [1, 2, 3, 4, 5, [3]]\n",
      "removed [1, 2, 3, 4, 5]\n",
      "[10, 2, 3, 4, 5]\n",
      "['__add__', '__class__', '__contains__', '__delattr__', '__delitem__', '__dir__', '__doc__', '__eq__', '__format__', '__ge__', '__getattribute__', '__getitem__', '__gt__', '__hash__', '__iadd__', '__imul__', '__init__', '__init_subclass__', '__iter__', '__le__', '__len__', '__lt__', '__mul__', '__ne__', '__new__', '__reduce__', '__reduce_ex__', '__repr__', '__reversed__', '__rmul__', '__setattr__', '__setitem__', '__sizeof__', '__str__', '__subclasshook__', 'append', 'clear', 'copy', 'count', 'extend', 'index', 'insert', 'pop', 'remove', 'reverse', 'sort']\n",
      "1695821409024\n",
      "[10, 2, 3, 4, 5, 10, 2, 3, 4, 5]\n",
      "1695821409024\n"
     ]
    }
   ],
   "source": [
    "# init list\n",
    "x = [1,2,3,4,5]\n",
    "print(x)\n",
    "\n",
    "\n",
    "# slicing\n",
    "first_position = x[0]\n",
    "print(\"first_position\",first_position)\n",
    "\n",
    "last_position = x[-1]\n",
    "print(\"last_position\",last_position)\n",
    "\n",
    "interval_position = x[0:2]\n",
    "print(\"interval_position\",interval_position)\n",
    "\n",
    "## mutable part\n",
    "\n",
    "# add object\n",
    "x.append([3])\n",
    "print(\"appended\",x)\n",
    "# remove object\n",
    "x.remove([3])\n",
    "print(\"removed\",x)\n",
    "\n",
    "x[0] = 10\n",
    "print(x)\n",
    "print(dir(x))\n",
    "\n",
    "print(id(x))\n",
    "x += x\n",
    "print(x)\n",
    "print(id(x))\n"
   ]
  },
  {
   "cell_type": "markdown",
   "id": "f26bdc09",
   "metadata": {},
   "source": [
    "<a name=\"Tuples\"></a>\n",
    "### Tuples\n",
    "\n",
    "Tuples are just like list except they are immutable"
   ]
  },
  {
   "cell_type": "code",
   "execution_count": 4,
   "id": "d3f9777a",
   "metadata": {},
   "outputs": [
    {
     "name": "stdout",
     "output_type": "stream",
     "text": [
      "(1, 2, 3, 4, 5)\n",
      "first_position 1\n",
      "last_position 5\n",
      "interval_position (1, 2)\n",
      "Where is 2 ? 1\n",
      "['__add__', '__class__', '__contains__', '__delattr__', '__dir__', '__doc__', '__eq__', '__format__', '__ge__', '__getattribute__', '__getitem__', '__getnewargs__', '__gt__', '__hash__', '__init__', '__init_subclass__', '__iter__', '__le__', '__len__', '__lt__', '__mul__', '__ne__', '__new__', '__reduce__', '__reduce_ex__', '__repr__', '__rmul__', '__setattr__', '__sizeof__', '__str__', '__subclasshook__', 'count', 'index']\n",
      "1695821220336\n",
      "(1, 2, 3, 4, 5, 1, 2, 3, 4, 5)\n",
      "1695820966080\n"
     ]
    }
   ],
   "source": [
    "x = (1,2,3,4,5)\n",
    "print(x)\n",
    "\n",
    "# slicing\n",
    "first_position = x[0]\n",
    "print(\"first_position\",first_position)\n",
    "\n",
    "last_position = x[-1]\n",
    "print(\"last_position\",last_position)\n",
    "\n",
    "interval_position = x[0:2]\n",
    "print(\"interval_position\",interval_position)\n",
    "\n",
    "# Misc\n",
    "print(\"Where is 2 ?\", x.index(2))\n",
    "print(dir(x))\n",
    "\n",
    "#immutable\n",
    "\n",
    "#x[0] = 10\n",
    "\n",
    "#  cant append or change value but you can still create a new variable building on a previous one\n",
    "print(id(x))\n",
    "x += x\n",
    "print(x)\n",
    "print(id(x))"
   ]
  },
  {
   "cell_type": "markdown",
   "id": "2b85a733",
   "metadata": {},
   "source": [
    "<a name=\"Dict\"></a>\n",
    "### Dict"
   ]
  },
  {
   "cell_type": "markdown",
   "id": "c22e780f",
   "metadata": {},
   "source": [
    "A dictionary is a collection which can be ordered (depending on your python version), read more about order in dict: [1](https://stackoverflow.com/questions/39980323/are-dictionaries-ordered-in-python-3-6),[2](https://gandenberger.org/2018/03/10/ordered-dicts-vs-ordereddict/),[3](https://medium.com/junior-dev/python-dictionaries-are-ordered-now-but-how-and-why-5d5a40ee327f). It is mutable and does not allow duplicates."
   ]
  },
  {
   "cell_type": "code",
   "execution_count": 5,
   "id": "1a54e9b9",
   "metadata": {},
   "outputs": [
    {
     "name": "stdout",
     "output_type": "stream",
     "text": [
      "{'First name': 'Kevin', 'Last name': 'Wirtz', 'Lecture': 'Advanced Programming'}\n",
      "{'First name': 'other', 'Last name': 'Wirtz', 'Lecture': 'Advanced Programming'}\n",
      "['__class__', '__contains__', '__delattr__', '__delitem__', '__dir__', '__doc__', '__eq__', '__format__', '__ge__', '__getattribute__', '__getitem__', '__gt__', '__hash__', '__init__', '__init_subclass__', '__iter__', '__le__', '__len__', '__lt__', '__ne__', '__new__', '__reduce__', '__reduce_ex__', '__repr__', '__reversed__', '__setattr__', '__setitem__', '__sizeof__', '__str__', '__subclasshook__', 'clear', 'copy', 'fromkeys', 'get', 'items', 'keys', 'pop', 'popitem', 'setdefault', 'update', 'values']\n"
     ]
    }
   ],
   "source": [
    "# {key:value} key must be a str, avoid special characters, value can be any python object\n",
    "x = {\"First name\": \"Kevin\",\n",
    "    \"Last name\": \"Wirtz\",\n",
    "    \"Lecture\": \"Advanced Programming\"}\n",
    "print(x)\n",
    "\n",
    "# mutable\n",
    "x.update({\"First name\": \"other\"})\n",
    "print(x)\n",
    "\n",
    "print(dir(x))"
   ]
  },
  {
   "cell_type": "markdown",
   "id": "80da9105",
   "metadata": {},
   "source": [
    "<a name=\"Set\"></a>\n",
    "### Set"
   ]
  },
  {
   "cell_type": "markdown",
   "id": "ebfeb712",
   "metadata": {},
   "source": [
    "A set unordered, unindexed and contains only unique elements, it is mutable you can add and remove elements (unlikle tuples). Sets can't contain a list or a dict since they are mutable but it can contain a tuple."
   ]
  },
  {
   "cell_type": "code",
   "execution_count": 7,
   "id": "ef2f4427",
   "metadata": {},
   "outputs": [
    {
     "name": "stdout",
     "output_type": "stream",
     "text": [
      "{1, 2, 3, 4, (1, 2, 3)}\n",
      "1695820982976\n",
      "{1, 2, 3, 4, 10, (1, 2, 3)}\n",
      "1695820982976\n",
      "['__and__', '__class__', '__contains__', '__delattr__', '__dir__', '__doc__', '__eq__', '__format__', '__ge__', '__getattribute__', '__gt__', '__hash__', '__iand__', '__init__', '__init_subclass__', '__ior__', '__isub__', '__iter__', '__ixor__', '__le__', '__len__', '__lt__', '__ne__', '__new__', '__or__', '__rand__', '__reduce__', '__reduce_ex__', '__repr__', '__ror__', '__rsub__', '__rxor__', '__setattr__', '__sizeof__', '__str__', '__sub__', '__subclasshook__', '__xor__', 'add', 'clear', 'copy', 'difference', 'difference_update', 'discard', 'intersection', 'intersection_update', 'isdisjoint', 'issubset', 'issuperset', 'pop', 'remove', 'symmetric_difference', 'symmetric_difference_update', 'union', 'update']\n"
     ]
    }
   ],
   "source": [
    "myset = {1,3,2,3,(1,2,3),(1,2,3),4}\n",
    "print(myset)\n",
    "\n",
    "print(id(myset))\n",
    "myset.update([10,(1,2,3)])\n",
    "print(myset)\n",
    "print(id(myset))\n",
    "print(dir(myset))"
   ]
  },
  {
   "cell_type": "markdown",
   "id": "1f4cfde4",
   "metadata": {},
   "source": [
    "<a name=\"Functions\"></a>\n",
    "## Functions\n",
    "\n",
    "Expect input (parameters), return output, only run when called.\n"
   ]
  },
  {
   "cell_type": "code",
   "execution_count": 8,
   "id": "4e377451",
   "metadata": {},
   "outputs": [
    {
     "name": "stdout",
     "output_type": "stream",
     "text": [
      "Fizz !\n",
      "Buzz !\n"
     ]
    }
   ],
   "source": [
    "def fizzbuzz(n):\n",
    "    if (n % 3) == 0:\n",
    "        print(\"Fizz !\")\n",
    "    if (n % 5) == 0:\n",
    "        print(\"Buzz !\")\n",
    "\n",
    "fizzbuzz(15)"
   ]
  },
  {
   "cell_type": "markdown",
   "id": "c06eac05",
   "metadata": {},
   "source": [
    "<a name=\"libraries\"></a>\n",
    "## Useful libraries"
   ]
  },
  {
   "cell_type": "markdown",
   "id": "e88c22e2",
   "metadata": {},
   "source": [
    "<a name=\"Numpy\"></a>\n",
    "### Numpy\n",
    "Numpy is the library of choice when working on arrays in Python, Why: \n",
    "- NumPy is written in C = it's fast. \n",
    "- Compatible with different libraries and specifically machine learning libraries.\n",
    "- Built-in functions (random array for example)\n",
    "- Universal functions that allows vectorization ( apply a function to every element instead of iterating through each one)"
   ]
  },
  {
   "cell_type": "code",
   "execution_count": 9,
   "id": "bce7c69a",
   "metadata": {},
   "outputs": [
    {
     "name": "stdout",
     "output_type": "stream",
     "text": [
      "[[1 2 3]\n",
      " [4 5 6]\n",
      " [7 8 9]]\n",
      "(3, 3)\n",
      "[[ 4  8  1]\n",
      " [ 2  4 10]\n",
      " [13 12 11]]\n",
      "(3, 3)\n",
      "[[ 5 10  4]\n",
      " [ 6  9 16]\n",
      " [20 20 20]]\n",
      "[[-3 -6  2]\n",
      " [ 2  1 -4]\n",
      " [-6 -4 -2]]\n",
      "[[ 47  52  54]\n",
      " [104 124 120]\n",
      " [161 196 186]]\n",
      "[[ 4 16  3]\n",
      " [ 8 20 60]\n",
      " [91 96 99]]\n",
      "[[ 1.05263158e-01  2.89473684e-01 -2.77555756e-17]\n",
      " [ 1.27819549e-01  3.51503759e-01  2.14285714e-01]\n",
      " [ 1.50375940e-01  4.13533835e-01  4.28571429e-01]]\n",
      "[[0.25       0.25       3.        ]\n",
      " [2.         1.25       0.6       ]\n",
      " [0.53846154 0.66666667 0.81818182]]\n"
     ]
    }
   ],
   "source": [
    "import numpy as np\n",
    "\n",
    "# Basic operation\n",
    "\n",
    "x = np.array([[1,2,3],[4,5,6],[7,8,9]])\n",
    "print(x)\n",
    "print(x.shape)\n",
    "\n",
    "y = np.array([[4,8,1,2,4,10,13,12,11]])\n",
    "y = y.reshape((3,3))\n",
    "print(y)\n",
    "print(y.shape)\n",
    "\n",
    "#addition\n",
    "print(x+y)\n",
    "\n",
    "# substraction\n",
    "print(x-y)\n",
    "\n",
    "# dot product\n",
    "print(np.matmul(x,y))\n",
    "\n",
    "# Hadamard product\n",
    "print(np.multiply(x,y))\n",
    "\n",
    "# Division\n",
    "print(np.matmul(x,np.linalg.inv(y)))\n",
    "\n",
    "# Hadamard division\n",
    "print(np.divide(x,y))"
   ]
  },
  {
   "cell_type": "markdown",
   "id": "ef05d71c",
   "metadata": {},
   "source": [
    "Ram efficiency is really important to take into consideration wen scaling up your application. To understand a bit more about numpy and space occupied by a numpy object you need to understand the concept of Strides"
   ]
  },
  {
   "cell_type": "code",
   "execution_count": 10,
   "id": "bb47e435",
   "metadata": {},
   "outputs": [
    {
     "name": "stdout",
     "output_type": "stream",
     "text": [
      "array([[0, 0, 0, 0],\n",
      "       [0, 0, 0, 0],\n",
      "       [0, 0, 0, 0],\n",
      "       [0, 0, 0, 0]])\n",
      "int32\n",
      "(4, 4)\n",
      "(16, 4)\n"
     ]
    }
   ],
   "source": [
    "# Ram efficiency\n",
    "\n",
    "x = np.zeros(shape=(4,4), dtype=np.int32)\n",
    "print(repr(x))\n",
    "print(x.dtype)\n",
    "print(x.shape)\n",
    "# reminder 8 bits = 1 byte\n",
    "# Stride[0] = number of bytes to go from 1 array to an other\n",
    "# Stride[1] = number of bytes to go from an element of an array to another one\n",
    "# int32 = 32 bits = 4 bytes\n",
    "\n",
    "print(x.strides)"
   ]
  },
  {
   "cell_type": "markdown",
   "id": "993cb1c0",
   "metadata": {},
   "source": [
    "Imagine now a squared matrix 100000x100000 in int64 vs int8"
   ]
  },
  {
   "cell_type": "code",
   "execution_count": 11,
   "id": "641f9761",
   "metadata": {},
   "outputs": [
    {
     "name": "stdout",
     "output_type": "stream",
     "text": [
      "in int 64 takes  80.0 GB of ram\n",
      "in int 8 takes  10.0 GB of ram\n"
     ]
    }
   ],
   "source": [
    "print(\"in int 64 takes \",100000**2*8*10**-9, \"GB of ram\")\n",
    "print(\"in int 8 takes \",100000**2*1*10**-9, \"GB of ram\")"
   ]
  },
  {
   "cell_type": "markdown",
   "id": "284e02bb",
   "metadata": {},
   "source": [
    "This does not mean that you need to use int8 everywhere (reminder int8 ranges between -128 to 127) but don't let the automatic float64 everytime, think of your problem and matrix. \n",
    "\n",
    "Another way to manage ram issue is using sparse matrix. Sparse matrix are used when you have a matrix with a lot of 0's."
   ]
  },
  {
   "cell_type": "code",
   "execution_count": 13,
   "id": "f91828cb",
   "metadata": {},
   "outputs": [
    {
     "name": "stdout",
     "output_type": "stream",
     "text": [
      "x: \n",
      "   (0, 0)\t1\n",
      "  (0, 1)\t2\n",
      "  (0, 2)\t20\n",
      "  (1, 2)\t3\n",
      "  (2, 0)\t4\n",
      "  (2, 2)\t5\n",
      "y: \n",
      "   (0, 0)\t1\n",
      "  (0, 1)\t2\n",
      "  (0, 2)\t2\n",
      "  (1, 2)\t3\n",
      "  (2, 0)\t4\n",
      "  (2, 2)\t5\n",
      "x+y: \n",
      "   (0, 0)\t2\n",
      "  (0, 1)\t4\n",
      "  (0, 2)\t22\n",
      "  (1, 2)\t6\n",
      "  (2, 0)\t8\n",
      "  (2, 2)\t10\n",
      "x*y: \n",
      "   (0, 2)\t108\n",
      "  (0, 1)\t2\n",
      "  (0, 0)\t81\n",
      "  (1, 2)\t15\n",
      "  (1, 0)\t12\n",
      "  (2, 2)\t33\n",
      "  (2, 1)\t8\n",
      "  (2, 0)\t24\n",
      "x/y: \n",
      "   (0, 0)\t1.0\n",
      "  (0, 1)\t5.999999999999999\n",
      "  (1, 1)\t1.0\n",
      "  (2, 2)\t1.0\n",
      "x/y: \n",
      "   (0, 0)\t1\n",
      "  (0, 1)\t1\n",
      "  (0, 2)\t10\n",
      "  (1, 2)\t1\n",
      "  (2, 0)\t1\n",
      "  (2, 2)\t1\n"
     ]
    },
    {
     "name": "stderr",
     "output_type": "stream",
     "text": [
      "C:\\Users\\kevin\\anaconda3\\lib\\site-packages\\scipy\\sparse\\linalg\\dsolve\\linsolve.py:144: SparseEfficiencyWarning: spsolve requires A be CSC or CSR matrix format\n",
      "  warn('spsolve requires A be CSC or CSR matrix format',\n",
      "C:\\Users\\kevin\\anaconda3\\lib\\site-packages\\scipy\\sparse\\linalg\\dsolve\\linsolve.py:215: SparseEfficiencyWarning: spsolve is more efficient when sparse b is in the CSC matrix format\n",
      "  warn('spsolve is more efficient when sparse b '\n"
     ]
    }
   ],
   "source": [
    "from scipy.sparse import csr_matrix\n",
    "from scipy.sparse.linalg import inv\n",
    "import numpy as np\n",
    "x = csr_matrix([[1, 2, 20], [0, 0, 3], [4, 0, 5]])\n",
    "print(\"x: \\n\", x)\n",
    "\n",
    "y = csr_matrix([[1, 2, 2, 0, 0, 3, 4, 0, 5]])\n",
    "y = y.reshape((3,3))\n",
    "print(\"y: \\n\", y)\n",
    "\n",
    "print(\"x+y: \\n\",x+y)\n",
    "print(\"x*y: \\n\",x.dot(y))\n",
    "print(\"x/y: \\n\",x.dot(inv(y)))\n",
    "print(\"x/y: \\n\",x._divide(y))"
   ]
  },
  {
   "cell_type": "code",
   "execution_count": 14,
   "id": "50cf98de",
   "metadata": {},
   "outputs": [
    {
     "name": "stdout",
     "output_type": "stream",
     "text": [
      "size of sparse in bytes : 48\n",
      "size of numpy in bytes : 625000112\n"
     ]
    }
   ],
   "source": [
    "#size comparison\n",
    "import sys\n",
    "x = csr_matrix((25000, 25000), dtype = np.int8)\n",
    "y = np.zeros((25000, 25000), dtype = np.int8)\n",
    "print(\"size of sparse in bytes :\",sys.getsizeof(x))\n",
    "print(\"size of numpy in bytes :\",sys.getsizeof(y))"
   ]
  },
  {
   "cell_type": "markdown",
   "id": "855095cb",
   "metadata": {},
   "source": [
    "Few things to know when handling sparse marix (as always read docs). Best way to iterate through a sparse matrix is in the coo format. Best way to update value one by one is using the lilmatrix format. Best way to do matrix operation is using the csr format."
   ]
  },
  {
   "cell_type": "code",
   "execution_count": null,
   "id": "e7e86172",
   "metadata": {},
   "outputs": [],
   "source": [
    "# Converting is easy\n",
    "x.tolil()\n",
    "x = x.tocoo()\n",
    "for i,j,v in zip(x.row, x.col, x.data):\n",
    "    print(i,j,v)"
   ]
  },
  {
   "cell_type": "markdown",
   "id": "1c59c737",
   "metadata": {},
   "source": [
    "Another option is numpy memmap. Instead of using the ram it uses the disk space to store the numpy object."
   ]
  },
  {
   "cell_type": "code",
   "execution_count": null,
   "id": "f864f740",
   "metadata": {},
   "outputs": [],
   "source": [
    "import numpy as np\n",
    "\n",
    "nrows, ncols = 1000000, 100\n",
    "\n",
    "f = np.memmap('data/memmapped.dat', dtype=np.float32,\n",
    "              mode='w+', shape=(nrows, ncols))\n",
    "\n",
    "for i in range(ncols):\n",
    "    f[:, i] = np.random.rand(nrows)\n",
    "    \n",
    "x = f[:, -1]\n",
    "\n",
    "f._mmap.close()"
   ]
  },
  {
   "cell_type": "code",
   "execution_count": null,
   "id": "f45499ea",
   "metadata": {},
   "outputs": [],
   "source": [
    "f = np.memmap('data/memmapped.dat', dtype=np.float32,\n",
    "              mode='r+', shape=(nrows, ncols))\n",
    "print(f[900000,90])\n",
    "f[900000,90] += 1\n",
    "print(f[900000,90])"
   ]
  },
  {
   "cell_type": "markdown",
   "id": "b7aeffad",
   "metadata": {},
   "source": [
    "Another important concept to optimize the speed of computation is vectorization. In numpy this concept can be applied using universal function. NumPy defines a \"universal function\" (\"ufunc\" for short) to be a function that operates on each element in an array, or combine single elements from several input arrays. A ufunc takes as inputs arrays with different numbers of dimensions, or even scalar values, and returns a new array. The process by which array elements are matched up is called broadcasting."
   ]
  },
  {
   "cell_type": "code",
   "execution_count": null,
   "id": "2332512c",
   "metadata": {},
   "outputs": [],
   "source": [
    "a = np.array([1, 2, 3, 4])\n",
    "b = np.array([10, 20, 30, 40])\n",
    "\n",
    "np.add(a, b)\n",
    "np.add(a, 100)\n"
   ]
  },
  {
   "cell_type": "markdown",
   "id": "ab1a1f1a",
   "metadata": {},
   "source": [
    "In addition to all the standard basic math operations (+,-,*,/), NumPy offers many additional classes of functions:\n",
    "\n",
    "- Lineary algebra\n",
    "- Special math functions (trig, exp/log, polynomials)\n",
    "- Cumulative functions\n",
    "- Logical (bool) operations\n",
    "- Random number generation\n",
    "\n",
    "Most of these functions are implemented using compiled C code, so they execute much faster than regular Python code. It is a good idea to be familiar with the array functions that NumPy offers so you don't reinvent the wheel in your own code.\n",
    "\n",
    "One big limitation of numpy is that when you want to create or work with a numpy array without using ufunc it becomes significantly slower. Using ufunc in every case becomes quickly unreadable."
   ]
  },
  {
   "cell_type": "markdown",
   "id": "73d01b92",
   "metadata": {},
   "source": [
    "<a name=\"Pandas\"></a>\n",
    "### Pandas\n",
    "\n",
    "\"pandas is a fast, powerful, flexible and easy to use open source data analysis and manipulation tool,\n",
    "built on top of the Python programming language.\"\n",
    "\n",
    "It is built on the Numpy package and its key data structure is called the DataFrame. DataFrames allow you to store and manipulate tabular data in rows of observations and columns of variables.\n",
    "\n",
    "Basically you have a csv, you want stats and plot asap: use pandas. \n",
    "\n",
    "https://pandas.pydata.org/pandas-docs/stable/reference/frame.html"
   ]
  },
  {
   "cell_type": "code",
   "execution_count": 15,
   "id": "53d6820e",
   "metadata": {},
   "outputs": [
    {
     "name": "stdout",
     "output_type": "stream",
     "text": [
      "   longitude  latitude  housing_median_age  total_rooms  total_bedrooms  \\\n",
      "0    -114.31     34.19                15.0       5612.0          1283.0   \n",
      "1    -114.47     34.40                19.0       7650.0          1901.0   \n",
      "2    -114.56     33.69                17.0        720.0           174.0   \n",
      "3    -114.57     33.64                14.0       1501.0           337.0   \n",
      "4    -114.57     33.57                20.0       1454.0           326.0   \n",
      "\n",
      "   population  households  median_income  median_house_value  \n",
      "0      1015.0       472.0         1.4936             66900.0  \n",
      "1      1129.0       463.0         1.8200             80100.0  \n",
      "2       333.0       117.0         1.6509             85700.0  \n",
      "3       515.0       226.0         3.1917             73400.0  \n",
      "4       624.0       262.0         1.9250             65500.0  \n",
      "Index(['longitude', 'latitude', 'housing_median_age', 'total_rooms',\n",
      "       'total_bedrooms', 'population', 'households', 'median_income',\n",
      "       'median_house_value'],\n",
      "      dtype='object')\n",
      "longitude             float64\n",
      "latitude              float64\n",
      "housing_median_age    float64\n",
      "total_rooms           float64\n",
      "total_bedrooms        float64\n",
      "population            float64\n",
      "households            float64\n",
      "median_income         float64\n",
      "median_house_value    float64\n",
      "dtype: object\n",
      "longitude             float32\n",
      "latitude              float32\n",
      "housing_median_age      int16\n",
      "total_rooms             int32\n",
      "total_bedrooms          int32\n",
      "population              int32\n",
      "households              int32\n",
      "median_income         float32\n",
      "median_house_value    float32\n",
      "dtype: object\n"
     ]
    }
   ],
   "source": [
    "import pandas as pd\n",
    "\n",
    "df = pd.read_csv(\"data/california_housing_train.csv\")\n",
    "print(df.head())\n",
    "print(df.columns)\n",
    "print(df.dtypes)\n",
    "\n",
    "dtype={'longitude':np.float32, 'latitude':np.float32, 'housing_median_age':np.int16, 'total_rooms':np.int32,\n",
    "       'total_bedrooms':np.int32, 'population':np.int32, 'households':np.int32, 'median_income':np.float32,\n",
    "       'median_house_value':np.float32}\n",
    "df_opti = pd.read_csv(\"data/california_housing_train.csv\",dtype=dtype)\n",
    "print(df_opti.dtypes)"
   ]
  },
  {
   "cell_type": "code",
   "execution_count": 16,
   "id": "cf8c4bb9",
   "metadata": {},
   "outputs": [
    {
     "data": {
      "text/plain": [
       "<matplotlib.axes._subplots.AxesSubplot at 0x18aff683220>"
      ]
     },
     "execution_count": 16,
     "metadata": {},
     "output_type": "execute_result"
    },
    {
     "data": {
      "image/png": "[encoded data removed]",
      "text/plain": [
       "<Figure size 432x288 with 1 Axes>"
      ]
     },
     "metadata": {
      "needs_background": "light"
     },
     "output_type": "display_data"
    }
   ],
   "source": [
    "df.plot.scatter(x= \"median_house_value\",\n",
    "                y = \"total_bedrooms\")"
   ]
  },
  {
   "cell_type": "code",
   "execution_count": null,
   "id": "b997892b",
   "metadata": {},
   "outputs": [],
   "source": [
    "# Slicing\n",
    "\n",
    "# Get column\n",
    "# df[3] does not work\n",
    "print(\"Get column: \\n\", df[\"longitude\"])\n",
    "# select rows\n",
    "print(\"\\n Get rows: \\n\", df[3:5])\n",
    "# select rows and columns\n",
    "print(\"\\n Select rows and columns:\", df.iloc[0:3,1:3])\n",
    "# not working df.iloc[0, ['longitude', 'latitude']]\n",
    "\n",
    "# Query by index\n",
    "print(\"\\n Search row with index\", df.loc[1])\n",
    "\n",
    "# get a boolean array for a condition \n",
    "print(\"\\n Bolean array with index where condition is respected\", df[\"latitude\"]>34)\n",
    "\n",
    "# get data where this condition is true\n",
    "print(\"\\n Get df where condition is true:\",df[df[\"latitude\"]>34])\n",
    "print(\"Double condition\", df[(df[\"latitude\"]>34) & (df[\"longitude\"]>-115)])\n",
    "\n",
    "print(\"\\n Get value where row = 1 and colname = longitude\", df.at[1,\"longitude\"])\n",
    "df.at[1,\"longitude\"] = 3\n",
    "print(\"\\n Get value where row = 1 and colname = longitude\", df.at[1,\"longitude\"])"
   ]
  },
  {
   "cell_type": "markdown",
   "id": "3ea49206",
   "metadata": {},
   "source": [
    "Too big of a dataset ? read it chunk by chunk (for example to feed to a machine learning algorithm)"
   ]
  },
  {
   "cell_type": "code",
   "execution_count": null,
   "id": "05fd1deb",
   "metadata": {},
   "outputs": [],
   "source": [
    "import numpy as np\n",
    "import pandas as pd\n",
    "from tqdm import tqdm_notebook as tqdm\n",
    "\n",
    "df = pd.read_csv(\"data/california_housing_train.csv\")\n",
    "chunksize = 100       \n",
    "chunks = pd.read_csv( \"data/california_housing_train.csv\", chunksize=chunksize)\n",
    "\n",
    "for chunk in tqdm(chunks):\n",
    "    pass\n",
    "print(chunk)"
   ]
  },
  {
   "cell_type": "markdown",
   "id": "544b8abd",
   "metadata": {},
   "source": [
    "Like numpy, there's a sparse pandas format."
   ]
  },
  {
   "cell_type": "code",
   "execution_count": null,
   "id": "1d4367d8",
   "metadata": {},
   "outputs": [],
   "source": [
    "import numpy as np\n",
    "import pandas as pd\n",
    "\n",
    "# From a numpy array\n",
    "arr = np.random.randn(10)\n",
    "arr[2:-2] = 0\n",
    "df = pd.Series(pd.arrays.SparseArray(arr))\n",
    "print(df)\n",
    "print(df.sparse.density)\n",
    "df = pd.Series(pd.arrays.SparseArray(arr,fill_value=0))\n",
    "print(df)\n",
    "print(df.sparse.density)\n",
    "\n",
    "# From a pandas dataframe\n",
    "\n",
    "df = pd.DataFrame(np.random.randn(10000, 4))\n",
    "df.iloc[:9998] = np.nan\n",
    "sdf = df.astype(pd.SparseDtype(\"float\", np.nan))\n",
    "print(sdf)\n",
    "print(sdf.sparse.density)"
   ]
  },
  {
   "cell_type": "markdown",
   "id": "45ff8ed9",
   "metadata": {},
   "source": [
    "Need to first import data before transforming it to sparse which is annoying, heres a nice trick (found here https://stackoverflow.com/questions/31888856/read-a-large-csv-into-a-sparse-pandas-dataframe-in-a-memory-efficient-way)"
   ]
  },
  {
   "cell_type": "code",
   "execution_count": null,
   "id": "5efa1fa5",
   "metadata": {},
   "outputs": [],
   "source": [
    "import pandas as pd\n",
    "\n",
    "\n",
    "dtype={'longitude':np.float32, 'latitude':np.float32, 'housing_median_age':np.int16, 'total_rooms':np.int32,\n",
    "       'total_bedrooms':np.int32, 'population':np.int32, 'households':np.int32, 'median_income':np.float32,\n",
    "       'median_house_value':np.float32}\n",
    "\n",
    "chunksize = 100       \n",
    "chunks = pd.read_csv( \"data/california_housing_train.csv\", chunksize=chunksize, dtype=dtype )\n",
    "sdf = pd.concat( chunk.astype(pd.SparseDtype(fill_value=0)) for chunk in chunks )\n",
    "print(sdf.dtypes)"
   ]
  },
  {
   "cell_type": "markdown",
   "id": "132081ce",
   "metadata": {},
   "source": [
    "<a name=\"Matplotlib\"></a>\n",
    "### Matplotlib\n",
    "\n",
    "Basic visualization library in Python. Tbh it is not as easy to learn as ggplot so my recommendation: don't loose too much time trying. If you need something just search on stackoverflow, you will find what you need you'll just have to improvise some code to make it work on your code. In this section we will only see a non exhaustive list of popular plots. Note we won't go into details but there's two package that make it easier to plot data today in python: seaborn and plotly, I really recommend you check them out instead of matplotlib."
   ]
  },
  {
   "cell_type": "markdown",
   "id": "b700d870",
   "metadata": {},
   "source": [
    "<a name=\"Scatterplot\"></a>\n",
    "### Scatterplot\n",
    "\n",
    "Relation between two variables"
   ]
  },
  {
   "cell_type": "code",
   "execution_count": null,
   "id": "3e96da2f",
   "metadata": {},
   "outputs": [],
   "source": [
    "import matplotlib.pyplot as plt\n",
    "import pandas as pd\n",
    "\n",
    "df = pd.read_csv(\"data/california_housing_train.csv\")\n",
    "\n",
    "fig, ax = plt.subplots()\n",
    "ax.scatter(x = df[\"median_house_value\"],y = df[\"total_rooms\"], alpha=0.5)\n",
    "\n",
    "ax.set_xlabel('median house value', fontsize=15)\n",
    "ax.set_ylabel('total rooms', fontsize=15)\n",
    "ax.set_title('Relation between number of rooms and house pricing')\n",
    "\n",
    "ax.grid(True)\n",
    "fig.tight_layout()\n",
    "\n",
    "plt.show()"
   ]
  },
  {
   "cell_type": "markdown",
   "id": "38afc566",
   "metadata": {},
   "source": [
    "<a name=\"Lineplot\"></a>\n",
    "### Lineplot\n",
    "\n",
    "Use it when you want to see a variable over time for example"
   ]
  },
  {
   "cell_type": "code",
   "execution_count": null,
   "id": "0529dd94",
   "metadata": {},
   "outputs": [],
   "source": [
    "import matplotlib.pyplot as plt\n",
    "import pandas as pd\n",
    "\n",
    "years = ['2010', '2011', '2012', '2013', '2014']\n",
    "household_median_age = [23,25,30,27,33]\n",
    "plt.plot(years, household_median_age, linewidth=2, markersize=12)"
   ]
  },
  {
   "cell_type": "markdown",
   "id": "ee07a13b",
   "metadata": {},
   "source": [
    "<a name=\"Barplot\"></a>\n",
    "### Barplot\n",
    "\n",
    "Compare categories"
   ]
  },
  {
   "cell_type": "code",
   "execution_count": null,
   "id": "0d3d0815",
   "metadata": {},
   "outputs": [],
   "source": [
    "import matplotlib.pyplot as plt\n",
    "import pandas as pd\n",
    "\n",
    "fig, ax = plt.subplots()\n",
    "years = ['2010', '2011', '2012', '2013', '2014']\n",
    "household_median_age = [23,25,30,27,33]\n",
    "ax.bar(years,household_median_age)\n",
    "plt.show()"
   ]
  },
  {
   "cell_type": "markdown",
   "id": "7e708c3c",
   "metadata": {},
   "source": [
    "<a name=\"Density\"></a>\n",
    "### Density\n",
    "\n",
    "See the distribution of your data, gaussian ? Bigger left tail ? ..."
   ]
  },
  {
   "cell_type": "code",
   "execution_count": null,
   "id": "7af61878",
   "metadata": {},
   "outputs": [],
   "source": [
    "import matplotlib.pyplot as plt\n",
    "import numpy as np\n",
    "from scipy.stats import gaussian_kde\n",
    "\n",
    "df = pd.read_csv(\"data/california_housing_train.csv\")\n",
    "density = gaussian_kde(df[\"housing_median_age\"])\n",
    "xs = np.linspace(0,100,100)\n",
    "density.covariance_factor = lambda : .25\n",
    "density._compute_covariance()\n",
    "plt.plot(xs,density(xs))\n",
    "plt.show()"
   ]
  },
  {
   "cell_type": "markdown",
   "id": "305b060a",
   "metadata": {},
   "source": [
    "<a name=\"Regex\"></a>\n",
    "### Regex\n",
    "\n",
    "Big data also means messy data: chances are you will have text data and you need to parse it to get the information you want. The easiest way to parse text data is to use regular expression (regex). \n",
    "\n",
    "\"A regular expression is a sequence of characters that specifies a search pattern. Usually such patterns are used by string-searching algorithms for \"find\" or \"find and replace\" operations on strings, or for input validation. It is a technique developed in theoretical computer science and formal language theory.\" If you want to learn more go check https://github.com/ziishaned/learn-regex.\n",
    "\n",
    "In python you have the \"re\" package that facilitates regex operations. IMO don't try to learn everything, have the basic gist of it and then do small example."
   ]
  },
  {
   "cell_type": "code",
   "execution_count": null,
   "id": "488b5b95",
   "metadata": {},
   "outputs": [],
   "source": [
    "import re\n",
    "\n",
    "random_text = [\" Hello, my name is Kevin and I work at the university of Strasbourg, phone number is 9978838975, you can find me in room 153 at avenue de la foret noire \",\n",
    "\"Last just for an email you know kevin.wirtz@unistra.fr\"]\n",
    "\n",
    "for text in random_text:\n",
    "    # here IGNORECASE is not needed but just to show you\n",
    "    if re.search('[\\w]+@[\\w]+', text, re.IGNORECASE):\n",
    "        print(\"found an email in\", text)\n",
    "    if re.search('[0-9]{10,11}', text):\n",
    "        print(\"found a phone number in\",text)\n",
    "\n",
    "#%% Short parantheses for regular expression (regex) ####\n",
    "# Most common ^ = startswith the next character, () = group characters, . any charac,! not like next charac, $ ends with\n",
    "# https://www.w3schools.com/python/python_regex.asp https://docs.python.org/3/library/re.html\n",
    "# re.search(\"^(/wiki/)((?!:).)*$\",\"/wiki/tqtt?\")\n",
    "# re.compile = specify pattern\n",
    "\n",
    "# re.search(\"^(/wiki/)((?!:).)*$\",\"/wiki/tqtt?\") \n",
    "# equivalent to \n",
    "# patt = re.compile(\"^(/wiki/)((?!:).)*$\")\n",
    "# patt.search(\"/wiki/tqtt?\")\n"
   ]
  },
  {
   "cell_type": "markdown",
   "id": "afefa09f",
   "metadata": {},
   "source": [
    "<a name=\"Beautiful Soup\"></a>\n",
    "### Webscraping:  Beautiful Soup\n",
    "\n",
    "Let’s say we want to \"scrap\" information on a Website (e.g:http://quotes.toscrape.com/) Where do we start ? One way would be to download the html file that generated the web page. To do this we can use the package requests:"
   ]
  },
  {
   "cell_type": "code",
   "execution_count": null,
   "id": "60c3a4b5",
   "metadata": {},
   "outputs": [],
   "source": [
    "import requests # If you want to fetch some information on internet, chances are you are going to use requests\n",
    "\n",
    "starting_url = \"http://quotes.toscrape.com/\" \n",
    "response = requests.get(url = starting_url)\n",
    "response.status_code # Most common code: 200,403,404,503; extensive list https://github.com/psf/requests/blob/master/requests/status_codes.py\n",
    "result = response.content\n",
    "print(result) "
   ]
  },
  {
   "cell_type": "markdown",
   "id": "2939f326",
   "metadata": {},
   "source": [
    "We now have information of the web page but we need to parse the results to get the data we want. This could be done manually with some regex but the easiest way is to use a package, in this case: Beautiful Soup !"
   ]
  },
  {
   "cell_type": "code",
   "execution_count": null,
   "id": "54034b39",
   "metadata": {},
   "outputs": [],
   "source": [
    "!pip install beautifulsoup4"
   ]
  },
  {
   "cell_type": "code",
   "execution_count": null,
   "id": "e469314d",
   "metadata": {},
   "outputs": [],
   "source": [
    "import requests # If you want to fetch some information on internet, chances are you are going to use requests\n",
    "from bs4 import BeautifulSoup\n",
    "\n",
    "starting_url = \"http://quotes.toscrape.com/\"\n",
    "response = requests.get(url = starting_url)\n",
    "result = response.content\n",
    "soup = BeautifulSoup(result, 'html.parser')\n",
    "print(type(soup))\n",
    "print(soup.prettify()) # FYI, human readable = look for something, but web developpment tool > prettify\n"
   ]
  },
  {
   "cell_type": "markdown",
   "id": "380e47ec",
   "metadata": {},
   "source": [
    "Some key vocabulary to understand html:\n",
    "\n",
    "- \\<TAG ATTRIBUTES>  Text\n",
    "- Most common Tag = \\<div> \\<a> \\<span>\n",
    "- List of tags:\n",
    "- https://www.w3schools.com/tags\n",
    "- Most common attributes = class,href,id,....\n",
    "- WARNING, irl might be messy\n"
   ]
  },
  {
   "cell_type": "code",
   "execution_count": null,
   "id": "c76cd5db",
   "metadata": {},
   "outputs": [],
   "source": [
    "# finding all <span> that has a \"class\" attribute \"text\"\n",
    "\n",
    "list_div = soup.find_all(name = \"span\",attrs={'class':'text'}) \n",
    "list_div\n",
    "\n",
    "\n",
    "# We used find_all => iterative => loop\n",
    "quotes = []\n",
    "for div in list_div:\n",
    "    quote = div.text\n",
    "    print(quote)\n",
    "    quotes.append(quote)\n",
    "\n",
    "quotes = [div.text for div in list_div] # does the same thing as above but more efficiently\n",
    "\n",
    "\n",
    "# What if there's multiple \"span\" = \"text\" ?\n",
    "\n",
    "list_div = soup.find_all(\"div\",attrs={'class':'quote'})\n",
    "\n",
    "quotes = []\n",
    "for quote_div in list_div:\n",
    "    quote = quote_div.find(\"span\",attrs={'class':'text'}).get_text() # Note we use .find this time\n",
    "    quotes.append(quote)\n",
    "\n",
    "quotes = [div.find(\"span\",attrs={'class':'text'}).text for div in list_div]\n",
    "\n",
    "# Get the authors name and get href \n",
    "\n",
    "list_div = soup.find_all(\"small\",attrs={'class':'author'})\n",
    "authors = [div.text for div in list_div]\n",
    "\n",
    "list_div = soup.find_all(\"div\",attrs={'class':'quote'})\n",
    "quotes = [div.find(\"a\").get(\"href\") for div in list_div]\n",
    "\n",
    "# For the moment we only scraped one page. we want to scrap all the pages\n",
    "\n",
    "\n",
    "next_page_url = \"\"\n",
    "quotes = []\n",
    "\n",
    "while next_page_url != None:\n",
    "    url = urljoin(starting_url, next_page_url)\n",
    "    response = requests.get(url)\n",
    "    result = response.content\n",
    "    soup = BeautifulSoup(result, 'html.parser')\n",
    "    list_div = soup.find_all(\"div\",attrs={'class':'quote'})\n",
    "    quotes += [div.text for div in list_div]\n",
    "    try:\n",
    "        next_page_url = soup.find(\"li\",attrs={'class':'next'}).find(\"a\").get(\"href\")\n",
    "    except:\n",
    "        next_page_url = None\n"
   ]
  },
  {
   "cell_type": "markdown",
   "id": "525634b5",
   "metadata": {},
   "source": [
    "<a name=\"machine\"></a>\n",
    "## Know your machine\n",
    "\n",
    "![friends](img/know_your_machine.png)"
   ]
  },
  {
   "cell_type": "markdown",
   "id": "9f34f455",
   "metadata": {},
   "source": [
    "Multiple tools to monitor and check your resources: \n",
    "- [CPU-Z](https://www.cpuid.com/softwares/cpu-z.html)\n",
    "- [OHM](https://openhardwaremonitor.org/downloads/)\n",
    "- Taskmanager\n",
    "- Device manager\n",
    "\n",
    "So what exactly is in a PC ?\n",
    "\n",
    "- Motherboard.<br />\n",
    "![MBirl](img/motherboardirl.jpg)\n",
    "- CPU. (Cores,threads = Important for multi-threading and multi-processings tasks, Higher GHz = faster operation)<br />\n",
    "![cpu](img/cpu.jpg)\n",
    "- RAM. One of the most basic limitation when working with big data.<br />\n",
    "![ram](img/ram.png)\n",
    "- HDD/SSD. Writing/Copy/Paste/Launching apps.<br />\n",
    "![hdd](img/hdd.jpeg)\n",
    "- GPU. Your friend when it comes to highly parallelizable code<br />\n",
    "![gpu](img/gpu.jpg)\n",
    "- Network card. (In terminal : ports = netstat, ip = ipconfig)"
   ]
  }
 ],
 "metadata": {
  "kernelspec": {
   "display_name": "Python 3 (ipykernel)",
   "language": "python",
   "name": "python3"
  },
  "language_info": {
   "codemirror_mode": {
    "name": "ipython",
    "version": 3
   },
   "file_extension": ".py",
   "mimetype": "text/x-python",
   "name": "python",
   "nbconvert_exporter": "python",
   "pygments_lexer": "ipython3",
   "version": "3.9.7"
  }
 },
 "nbformat": 4,
 "nbformat_minor": 5
}
