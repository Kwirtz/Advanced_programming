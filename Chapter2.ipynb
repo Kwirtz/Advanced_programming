{
 "cells": [
  {
   "cell_type": "markdown",
   "id": "5a5dccc7",
   "metadata": {},
   "source": [
    "# Chapter 2: Advanced concept.\n",
    "\n",
    "The goal of this chapter is to give you sufficent programming tools to have a basic understanding of any code you'll read. It also introduce some key aspect of data treatment that you might need in the future.\n",
    "\n",
    "Structure:\n",
    "- [Object-Oriented Programming (OOP) and Class](#OOP)\n",
    "- [Decorators](#Decorators)\n",
    "- [Generators](#Generators)\n",
    "- [Coroutines](#Coroutines)\n",
    "- [Threading](#Thread)\n",
    "- [Parallel](#Parallel)\n",
    "- [Images, videos and audio processing](#Images)\n",
    "- [SSH](#SSH)\n",
    "- [Git](#Git)\n",
    "- [Time complexity](#Time)\n",
    "- [pep8](#pep8)\n",
    "- [TODO](#TODO)"
   ]
  },
  {
   "cell_type": "markdown",
   "id": "f9c82d81",
   "metadata": {},
   "source": [
    "<a name=\"OOP\"></a>\n",
    "## Object-Oriented Programming (OOP) and Class\n",
    "\n",
    "Python is an Object Oriented Programming language. Everything in Python is an object (List, dict, tuples, ...) and you can create your own object using classes. Objects can have methods (e.g:for the list there’s append(),remove(), ...)  and attributes but also functions. \n",
    "\n",
    "If you want to read more on this idea:\n",
    "- https://alyssa-e-easterly.medium.com/functional-programming-vs-object-oriented-program-d696c7075ffc\n",
    "- https://www.tutorialspoint.com/python/python_classes_objects.htm\n",
    "\n",
    "In our case we will focus on the practical side of OOP and what it means for us. Maybe you have noticed some weird behavior when you say a = b. In R for example if you change b then a won't change yet in python changing b changes also a. Why ?\n",
    "\n",
    "From Ramalho L. Fluent python:  Clear, concise, and effective programming:\n",
    "\n",
    "![OOP](img/OOP.png)\n"
   ]
  },
  {
   "cell_type": "code",
   "execution_count": null,
   "id": "15855f3e",
   "metadata": {},
   "outputs": [],
   "source": [
    "a = [1,2,3]\n",
    "b = a\n",
    "print(a == b, a is b)\n",
    "print(id(a),id(b))\n",
    "\n",
    "b = list(a)\n",
    "print(a == b , a is b)\n",
    "print(id(a),id(b))\n",
    "\n",
    "# finding attribute of an object\n",
    "\n",
    "dir(b)\n"
   ]
  },
  {
   "cell_type": "markdown",
   "id": "8c59a7c1",
   "metadata": {},
   "source": [
    "Ok so we have discussed the fact that object is composed of code and data. Python classes are a way to create your own object .  When to create a class ?\n",
    "- You want to keep the state of functions.\n",
    "- You want a structured and well organized code.\n",
    "\n",
    "Let's see an example using the fibonacci sequence (https://en.wikipedia.org/wiki/Fibonacci_number). "
   ]
  },
  {
   "cell_type": "code",
   "execution_count": null,
   "id": "90e0f1a9",
   "metadata": {},
   "outputs": [],
   "source": [
    "def fibo_recu(n):\n",
    "    # fibo(0) = 0\n",
    "    if n == 0:\n",
    "        return 0\n",
    "    # fibo(1)=1\n",
    "    if n == 1:\n",
    "        return 1\n",
    "    # fibo(n) = fibo(n-1) + fibo(n-2)\n",
    "    else:\n",
    "        return(fibo_recu(n-1)+ fibo_recu(n-2))\n",
    "\n",
    "print(fibo_recu(12))\n",
    "\n",
    "# Not really efficient since for fibo(n) you calculate fibo(n-2) but you recalculate it for (fibo(n-1))\n",
    "\n",
    "def fibo_list(n):\n",
    "    if n == 0:\n",
    "        return 0\n",
    "    if n == 1:\n",
    "        return 1\n",
    "    else:\n",
    "        starting_list = [0,1,1]\n",
    "        for i in range(3,n+1):\n",
    "            starting_list.append(starting_list[i-1]+starting_list[i-2])\n",
    "        return starting_list[-1]\n",
    "\n",
    "print(fibo_list(12))\n",
    "\n",
    "# Nice but what if i want to compute the next one ? state of function = dumped => class"
   ]
  },
  {
   "cell_type": "code",
   "execution_count": null,
   "id": "0b5914cd-255a-4669-85d6-726972613fee",
   "metadata": {},
   "outputs": [],
   "source": [
    "# class of Name Fibo\n",
    "class Fibo:\n",
    "    '''\n",
    "    Description\n",
    "    -----------\n",
    "    Calculate the fibonacci sequence            \n",
    "    '''      \n",
    "    \n",
    "    # Double underscore method are common to any class\n",
    "    def __init__(self):\n",
    "        '''\n",
    "        Parameters\n",
    "        ----------            \n",
    "        '''        \n",
    "        self.list = [0,1,1]\n",
    "    \n",
    "    def calculate(self, n):\n",
    "        '''\n",
    "        Description\n",
    "        -----------\n",
    "        Calculate the next n steps of the fibonnaci sequence\n",
    "        Parameters\n",
    "        ----------\n",
    "        n : int\n",
    "            value of the n next of the fibonnaci sequence is returned\n",
    "        '''     \n",
    "        if n == 0:\n",
    "            return 0\n",
    "        if n == 1:\n",
    "            return 1\n",
    "        if (len(self.list)-1) > n:\n",
    "            return self.list[n]\n",
    "        elif (len(self.list)-1) <= n:\n",
    "            for i in range((len(self.list)-1),n):\n",
    "                self.list.append(self.list[-1] + self.list[-2])\n",
    "            return self.list[-1]\n",
    "# Create instant of class\n",
    "test = Fibo()\n",
    "# Print the return\n",
    "print(test.calculate(12))\n",
    "# Print the attribute list\n",
    "print(test.list)"
   ]
  },
  {
   "cell_type": "markdown",
   "id": "d3a6e55a-b0e2-47da-abb8-7a053e11eeba",
   "metadata": {},
   "source": [
    "Read more on underscore uses:\n",
    "- https://dbader.org/blog/meaning-of-underscores-in-python\n",
    "\n",
    "Here are further examples:"
   ]
  },
  {
   "cell_type": "code",
   "execution_count": null,
   "id": "3a690323",
   "metadata": {},
   "outputs": [],
   "source": [
    "class StringManip:\n",
    "    '''\n",
    "    Description\n",
    "    -----------\n",
    "    Takes a text as input and clean it        \n",
    "    '''            \n",
    "    def __init__(self):\n",
    "        '''\n",
    "        Parameters\n",
    "        ----------            \n",
    "        '''        \n",
    "        pass\n",
    "    \n",
    "    def get_String(self):\n",
    "        '''\n",
    "        Description\n",
    "        -----------\n",
    "        Aks for a text\n",
    "        Parameters\n",
    "        ----------            \n",
    "        '''  \n",
    "        self.text = input()\n",
    "    \n",
    "    def print_String(self):\n",
    "        '''\n",
    "        Description\n",
    "        -----------\n",
    "        Print text in upper case\n",
    "        Parameters\n",
    "        ----------            \n",
    "        '''  \n",
    "        print(self.text.upper())\n",
    "        \n",
    "test = StringManip()\n",
    "test.get_String()\n",
    "test.print_String()"
   ]
  },
  {
   "cell_type": "code",
   "execution_count": null,
   "id": "75aaa267-4774-423e-b28c-668d072e39f5",
   "metadata": {},
   "outputs": [],
   "source": [
    "test.text"
   ]
  },
  {
   "cell_type": "code",
   "execution_count": null,
   "id": "d236e92a",
   "metadata": {},
   "outputs": [],
   "source": [
    "class Person:\n",
    "    '''\n",
    "    Description\n",
    "    -----------\n",
    "    Create a dict with different Person in it\n",
    "    ''' \n",
    "    def __init__(self):\n",
    "        '''\n",
    "        Parameters\n",
    "        ----------            \n",
    "        Persons: dict\n",
    "            contains the characteristics of individual\n",
    "        id_: int\n",
    "            id_ of person created for further query\n",
    "        '''        \n",
    "        self.Persons = {}\n",
    "        self.id_ = 0\n",
    "    \n",
    "    def create_person(self, name, surname, age):\n",
    "        '''\n",
    "        Description\n",
    "        -----------\n",
    "        Create a dict with different Person in it\n",
    "        Parameters\n",
    "        ----------            \n",
    "        Persons: dict\n",
    "            contains the characteristics of individual\n",
    "        id_: int\n",
    "            id_ of person created for further query\n",
    "        '''        \n",
    "        self.Persons[str(self.id_)] = {\"age\":age,\n",
    "                              \"surname\":surname,\n",
    "                              \"name\":name}\n",
    "        self.id_ +=1\n",
    "        \n",
    "    def create_mail(self,id_):\n",
    "        '''\n",
    "        Description\n",
    "        -----------\n",
    "        Add mail to data\n",
    "        Parameters\n",
    "        ----------            \n",
    "        id_: int\n",
    "            id_ of person you want to add mail\n",
    "        '''   \n",
    "        self.Persons[str(id_)].update({\"email\": self.Persons[str(id_)][\"name\"] + \".\" + self.Persons[str(id_)][\"surname\"]+\"@outlook.fr\"})\n",
    "\n",
    "test = Person()\n",
    "print(test.id_)\n",
    "test.create_person(\"Bianchini\",\"Stefano\",35)\n",
    "test.create_mail(0)\n"
   ]
  },
  {
   "cell_type": "code",
   "execution_count": null,
   "id": "be5cc660-9bb0-43c5-a4a0-11643079b567",
   "metadata": {},
   "outputs": [],
   "source": [
    "test.Persons"
   ]
  },
  {
   "cell_type": "code",
   "execution_count": null,
   "id": "fe888e3b-34a7-4ca2-b044-03560c72303a",
   "metadata": {},
   "outputs": [],
   "source": [
    "test.create_person(\"Bianchini\",\"Stefano\",35)\n",
    "test.create_mail(1)"
   ]
  },
  {
   "cell_type": "markdown",
   "id": "ed4eeff4",
   "metadata": {},
   "source": [
    "More interesting features @classmethod and @staticmethod. \n",
    "\n",
    "Read more on them here:\n",
    "- https://stackoverflow.com/questions/12179271/meaning-of-classmethod-and-staticmethod-for-beginner\n",
    "- https://julien.danjou.info/guide-python-static-class-abstract-methods/"
   ]
  },
  {
   "cell_type": "code",
   "execution_count": null,
   "id": "bd8d7928",
   "metadata": {},
   "outputs": [],
   "source": [
    "class Game:\n",
    "    '''\n",
    "    Description\n",
    "    -----------\n",
    "    Calculate a value in fibonnaci and apply some transformation to the result\n",
    "    ''' \n",
    "    # class variable shared between instances\n",
    "    list = [0,1,1] \n",
    "    result = None\n",
    "    def __init__(self,just_for_fun):\n",
    "        '''\n",
    "        Parameters\n",
    "        ----------            \n",
    "        just_for_fun: \n",
    "            Random variable with no real importance\n",
    "        '''        \n",
    "        # instance variable unique to each instance\n",
    "        self.just_for_fun = just_for_fun \n",
    "\n",
    "    # representation of object, for other developper, goal is to be unambiguous\n",
    "    def __repr__(self): \n",
    "        return \"Results = None, list = [0,0,1]: {},{}\".format(self.list,self.result)\n",
    "    \n",
    "    # readable representation, for end-user, goal is to be readable\n",
    "    def __str__(self): \n",
    "        return \"Results needs to be none and list has the first three fibo value: {},{}\".format(self.list,self.result)\n",
    "    \n",
    "    # What to do when Instance 1 + instance 2\n",
    "    def __add__(self,other):\n",
    "        return self.result + other.result\n",
    "    \n",
    "    def fibo(self, n):\n",
    "        '''\n",
    "        Description\n",
    "        -----------\n",
    "        Calculate the next n steps of the fibonnaci sequence\n",
    "        Parameters\n",
    "        ----------\n",
    "        n : int\n",
    "            value of the n next of the fibonnaci sequence is returned\n",
    "        '''   \n",
    "        if n == 0:\n",
    "            self.result = 0\n",
    "        if n == 1:\n",
    "            self.result = 1\n",
    "        if (len(self.list)-1) > n:\n",
    "            self.result = self.list[n]\n",
    "        elif (len(self.list)-1) <= n:\n",
    "            for i in range((len(self.list)-1),n):\n",
    "                self.list.append(self.list[-1] + self.list[-2])\n",
    "            self.result = self.list[-1]\n",
    "    \n",
    "    def collatz(self,n):\n",
    "        '''\n",
    "        Description\n",
    "        -----------\n",
    "        Perform collatz operation on self.result from fibo\n",
    "        Parameters\n",
    "        ----------\n",
    "        n : int\n",
    "            Number of time to repeat the operation\n",
    "        ''' \n",
    "        for i in range(n):\n",
    "            if self.result % 2 == 0:\n",
    "                self.result = self.result/2\n",
    "            else :\n",
    "                self.result = self.result*3+1\n",
    "                \n",
    "    @classmethod\n",
    "    def random_sequence(cls,n,result):\n",
    "        '''\n",
    "        Description\n",
    "        -----------\n",
    "        Square n times result\n",
    "        Parameters\n",
    "        ----------\n",
    "        n : int\n",
    "            Number of time to repeat the operation\n",
    "        result: int\n",
    "            which number to square\n",
    "        ''' \n",
    "        for i in range(n):\n",
    "            cls.result = result**2\n",
    "    \n",
    "    @staticmethod\n",
    "    def is_even(x):\n",
    "        '''\n",
    "        Description\n",
    "        -----------\n",
    "        check if x is even\n",
    "        Parameters\n",
    "        ----------\n",
    "        x : int\n",
    "            number to be checked\n",
    "        ''' \n",
    "        if x % 2 == 0:\n",
    "            print(\"x is even\")\n",
    "        else:\n",
    "            print(\"x is odd\")\n",
    "\n",
    "\n",
    "\n",
    "play = Game(\"just_for_fun\")\n",
    "print(repr(play))\n",
    "print(str(play))\n",
    "play.fibo(10)\n",
    "play.collatz(20)\n",
    "play.random_sequence(2,play.result)\n",
    "play.is_even(play.result)\n"
   ]
  },
  {
   "cell_type": "code",
   "execution_count": null,
   "id": "c94a9e7a-2376-4b62-b1f6-2aa8c9b7f59c",
   "metadata": {},
   "outputs": [],
   "source": [
    "print(play.list)\n",
    "play.result"
   ]
  },
  {
   "cell_type": "code",
   "execution_count": null,
   "id": "9f28445d-ec94-4829-8299-ea258f0cdab8",
   "metadata": {},
   "outputs": [],
   "source": [
    "play2 = Game(\"just_for_fun\")\n",
    "play2.result"
   ]
  },
  {
   "cell_type": "code",
   "execution_count": null,
   "id": "6f2de25d-10b0-49b8-9e6c-3374b6dec744",
   "metadata": {},
   "outputs": [],
   "source": [
    "play + play2"
   ]
  },
  {
   "cell_type": "markdown",
   "id": "505dd2f0",
   "metadata": {},
   "source": [
    "Last interesting feature that we will discuss concerning classes is inheritance (https://www.w3schools.com/python/python_inheritance.asp)."
   ]
  },
  {
   "cell_type": "code",
   "execution_count": null,
   "id": "721e3d3e",
   "metadata": {},
   "outputs": [],
   "source": [
    "# inheritance\n",
    "\n",
    "class price_of_item(Game):\n",
    "    pass\n",
    "\n",
    "play = price_of_item(\"just_for_fun\")\n",
    "play.fibo(50)\n",
    "play.list\n",
    "print(help(price_of_item))"
   ]
  },
  {
   "cell_type": "code",
   "execution_count": null,
   "id": "d470c905-7cbc-4a47-a5ea-480f2753907e",
   "metadata": {},
   "outputs": [],
   "source": [
    "play.result"
   ]
  },
  {
   "cell_type": "markdown",
   "id": "7df45499",
   "metadata": {},
   "source": [
    "Last class example, the Monty hall game show:"
   ]
  },
  {
   "cell_type": "code",
   "execution_count": null,
   "id": "c72c226f",
   "metadata": {},
   "outputs": [],
   "source": [
    "import numpy as np\n",
    "import matplotlib.pyplot as plt\n",
    "import tqdm\n",
    "\n",
    "class MontyHall:\n",
    "    '''\n",
    "    Description\n",
    "    -----------\n",
    "    Simulation of the monty hall problem. \n",
    "    3 Doors, behind one = car, \n",
    "    Choose one door then presentator opens one of the two remaining\n",
    "    Stay or change your choice\n",
    "    '''         \n",
    "    def __init__(self):\n",
    "        '''\n",
    "        Parameters\n",
    "        ----------            \n",
    "        '''        \n",
    "        self.n_win = 0\n",
    "        self.n_played = 0\n",
    "        self.list_doors = [0,1,2]\n",
    "        self.prop = []\n",
    "        \n",
    "    def random_door(self):\n",
    "        '''\n",
    "        Description\n",
    "        -----------\n",
    "        Random selection of the winning door\n",
    "        '''      \n",
    "        self.door_win = np.random.random([3]).argmax()\n",
    "    \n",
    "    def choose_door(self,first_choice):\n",
    "        '''\n",
    "        Description\n",
    "        -----------\n",
    "        Select the door you want\n",
    "        \n",
    "        Parameters\n",
    "        ----------\n",
    "        first_choice : int\n",
    "            The door you select at the beginning\n",
    "        '''       \n",
    "        self.door_choosed = first_choice\n",
    "    \n",
    "    def presentator(self):\n",
    "        '''\n",
    "        Description\n",
    "        -----------\n",
    "        The presentator remove one door from the option\n",
    "        \n",
    "        Parameters\n",
    "        ----------\n",
    "        '''    \n",
    "        if self.door_win == self.door_choosed:\n",
    "            self.door_open = np.random.random([3]).argmax()\n",
    "            while self.door_open == self.door_win:\n",
    "                self.door_open = np.random.random([3]).argmax()\n",
    "            print(\"Door opened: \", self.door_open)\n",
    "        else:\n",
    "            do_not_choose_from = [self.door_choosed,self.door_win]\n",
    "            self.door_open = [i for i in self.list_doors if i not in do_not_choose_from][0]\n",
    "            print(\"Door opened: \", self.door_open)\n",
    "            \n",
    "    def player(self,decision):\n",
    "        '''\n",
    "        Description\n",
    "        -----------\n",
    "        You decide to switch or stay\n",
    "        \n",
    "        Parameters\n",
    "        ----------\n",
    "        decision: str\n",
    "            stay or change\n",
    "        '''   \n",
    "        if decision == \"stay\":\n",
    "            pass\n",
    "        else:\n",
    "            do_not_choose_from = [self.door_open,self.door_choosed]\n",
    "            self.door_choosed = [i for i in self.list_doors if i not in do_not_choose_from][0]\n",
    "\n",
    "    def win_or_loose(self):\n",
    "        '''\n",
    "        Description\n",
    "        -----------\n",
    "        Check if you choosed the right door\n",
    "        \n",
    "        Parameters\n",
    "        ----------\n",
    "        '''   \n",
    "        if self.door_choosed == self.door_win:\n",
    "            self.n_win += 1\n",
    "            self.n_played += 1\n",
    "            print(\"YOU WIN !!!!!\")\n",
    "        else:\n",
    "            self.n_played +=1\n",
    "            print(\"You loose :( \")\n",
    "        self.prop.append(self.n_win/self.n_played)\n",
    "    \n",
    "    def plot_prop(self):\n",
    "        plt.plot(self.prop)\n",
    "        plt.show()        \n",
    "\n",
    "game = MontyHall()        \n",
    "n_simulation = 1000\n",
    "for i in tqdm.tqdm(range(n_simulation)): \n",
    "    game.random_door()\n",
    "    game.choose_door(1)\n",
    "    game.presentator()\n",
    "    game.player(decision = \"change\")\n",
    "    game.win_or_loose()\n",
    "\n"
   ]
  },
  {
   "cell_type": "code",
   "execution_count": null,
   "id": "1dc75980-7f81-4d06-95c4-07acd159f32d",
   "metadata": {},
   "outputs": [],
   "source": [
    "game.plot_prop()"
   ]
  },
  {
   "cell_type": "markdown",
   "id": "70150f6c",
   "metadata": {},
   "source": [
    "<a name=\"Decorators\"></a>\n",
    "## Decorators\n",
    "\n",
    "Python decorators is a function that takes as input a function and returns a function. In order to apply said decorator to a function you can add @my_decorator on top of the function\n",
    "\n",
    "Using a decorator allows users to add new functionality to an existingfunction without modifying its structure. This makes it useful when working on a large project with a lot of people.\n",
    "\n",
    "Small parantheses into *args and **kwargs. A function expect some input which are usually fixed. But in some cases you want to have a more flexible function ( Could be in developpement or production). For example looking back at our Class Person maybe there's some additional characteristics we have not thought of. Using *args and **kwargs we don't have to think about every possible characteristics and the function handles well changes. Indeed you can iterate through your args or kwargs and store them the same way as we did before. Some small examples here: https://www.programiz.com/python-programming/args-and-kwargs "
   ]
  },
  {
   "cell_type": "code",
   "execution_count": 1,
   "id": "4312e358",
   "metadata": {},
   "outputs": [
    {
     "name": "stdout",
     "output_type": "stream",
     "text": [
      "[0.00000000s] fibo_list \n",
      "[0.00000000s] fibo_recu \n",
      "[0.00000000s] fibo_recu \n",
      "[0.00000000s] fibo_recu \n",
      "[0.00000000s] fibo_recu \n",
      "[0.00000000s] fibo_recu \n"
     ]
    },
    {
     "data": {
      "text/plain": [
       "2"
      ]
     },
     "execution_count": 1,
     "metadata": {},
     "output_type": "execute_result"
    }
   ],
   "source": [
    "# Let's start with a simple decorator to time the function\n",
    "\n",
    "import time\n",
    "import re\n",
    "\n",
    "def timeit(func):\n",
    "    # We take as input a function we need to return a function hence the wrapper\n",
    "    def wrapper(*args): #*args = we don't know how many args, makes it easy to apply the decorator on any function.\n",
    "        start = time.time()\n",
    "        result = func(*args)\n",
    "        name = func.__name__\n",
    "        end = time.time()\n",
    "        elapsed = end-start\n",
    "        print('[%0.8fs] %s ' % (elapsed, name))\n",
    "        return result\n",
    "    return wrapper\n",
    "\n",
    "@timeit\n",
    "def fibo_recu(n):\n",
    "    if n == 0:\n",
    "        return 0\n",
    "    if n == 1:\n",
    "        return 1\n",
    "    else:\n",
    "        return(fibo_recu(n-1)+ fibo_recu(n-2))\n",
    "\n",
    "@timeit\n",
    "def fibo_list(n):\n",
    "    if n == 0:\n",
    "        return 0\n",
    "    if n == 1:\n",
    "        return 1\n",
    "    else:\n",
    "        starting_list = [0,1,1]\n",
    "        for i in range(3,n+1):\n",
    "            starting_list.append(starting_list[i-1]+starting_list[i-2])\n",
    "        return starting_list[-1]\n",
    "\n",
    "fibo_list(3)\n",
    "\n",
    "fibo_recu(3)"
   ]
  },
  {
   "cell_type": "markdown",
   "id": "9b99f0e4-ad97-4c94-9ae9-e2528d240ac2",
   "metadata": {},
   "source": [
    "Decorators are being applied bottom to top in case of multiple decorators"
   ]
  },
  {
   "cell_type": "code",
   "execution_count": 2,
   "id": "21b55641-5494-427c-8bc7-039a0ff3bae2",
   "metadata": {},
   "outputs": [
    {
     "name": "stdout",
     "output_type": "stream",
     "text": [
      "[0.00952125s] wrapper \n"
     ]
    },
    {
     "data": {
      "text/plain": [
       "'this is a random messy text pls clean it before usage.'"
      ]
     },
     "execution_count": 2,
     "metadata": {},
     "output_type": "execute_result"
    }
   ],
   "source": [
    "import re\n",
    "\n",
    "# New decorator to clean text\n",
    "def clean(func):\n",
    "    def wrapper(*args):\n",
    "        txt = func(*args)\n",
    "        txt = re.sub(r'None',\" \",txt)\n",
    "        txt = re.sub(r'\\n',\" \",txt)\n",
    "        txt = re.sub(r'\\n      ',\" \",txt)\n",
    "        txt = re.sub(r'\\t',\" \",txt)\n",
    "        txt = re.sub(r'\\t\\t',\" \",txt)\n",
    "        txt = re.sub(r'\\n\\t\\t',\" \",txt)\n",
    "        txt = re.sub(r'  +', ' ', txt)\n",
    "        txt = re.sub('>\\s<', '><', txt)\n",
    "        txt = txt.lower()\n",
    "        return(txt)\n",
    "    return(wrapper)\n",
    "\n",
    "# create dirty text\n",
    "with open(\"data/Chap2/dirty_text\",\"w+\") as f:\n",
    "    f.write(\"ThiS iS \\n a random \\t messy text\\n\\n pLs Clean it before    Usage.\")\n",
    "\n",
    "file_path = \"data/Chap2/dirty_text\"\n",
    "\n",
    "# Open text, clean it and time the operation\n",
    "@timeit\n",
    "@clean\n",
    "def open_text(file_path):\n",
    "    with open(file_path,\"r\") as f:\n",
    "        txt = f.read()\n",
    "    return(txt)\n",
    "\n",
    "open_text(\"data/Chap2/dirty_text\")\n"
   ]
  },
  {
   "cell_type": "code",
   "execution_count": 3,
   "id": "e6197fb6-f1db-4f35-9a93-9a8cffb2da69",
   "metadata": {},
   "outputs": [
    {
     "name": "stdout",
     "output_type": "stream",
     "text": [
      "[0.00000000s] wrapper \n",
      "[0.00000000s] wrapper \n",
      "[0.00000000s] wrapper \n",
      "[0.00000000s] wrapper \n",
      "[0.00000000s] wrapper \n"
     ]
    },
    {
     "data": {
      "text/plain": [
       "4"
      ]
     },
     "execution_count": 3,
     "metadata": {},
     "output_type": "execute_result"
    }
   ],
   "source": [
    "# New decorator, sauqre the result of a function\n",
    "def square(func):\n",
    "    def wrapper(*args):\n",
    "        result = func(*args)\n",
    "        result = result ** 2\n",
    "        return(result)\n",
    "    return(wrapper)\n",
    "\n",
    "@timeit\n",
    "@square\n",
    "def fibo_recu(n):\n",
    "    if n == 0:\n",
    "        return 0\n",
    "    if n == 1:\n",
    "        return 1\n",
    "    else:\n",
    "        return(fibo_recu(n-1)+ fibo_recu(n-2))\n",
    "\n",
    "fibo_recu(3)"
   ]
  },
  {
   "cell_type": "markdown",
   "id": "3592027c",
   "metadata": {},
   "source": [
    "<a name=\"Generators\"></a>\n",
    "## Generators\n",
    "\n",
    "Iterables like lists are really useful. Once in memory you can do a loop to access every element. Problems arise when the object we want to iterate through is too big(Imagine importing thousands of images, or a DB with 5-6 TB). To overcome this there are Generators. With a Generator, the values are generated \"lazily\" meaning only when they are asked.\n",
    "\n",
    "From https://nvie.com/posts/iterators-vs-generators/:\n",
    "\n",
    "![iter](img/iter.png)"
   ]
  },
  {
   "cell_type": "code",
   "execution_count": 4,
   "id": "ffb2a4d0",
   "metadata": {},
   "outputs": [
    {
     "name": "stdout",
     "output_type": "stream",
     "text": [
      "['__add__', '__class__', '__contains__', '__delattr__', '__delitem__', '__dir__', '__doc__', '__eq__', '__format__', '__ge__', '__getattribute__', '__getitem__', '__gt__', '__hash__', '__iadd__', '__imul__', '__init__', '__init_subclass__', '__iter__', '__le__', '__len__', '__lt__', '__mul__', '__ne__', '__new__', '__reduce__', '__reduce_ex__', '__repr__', '__reversed__', '__rmul__', '__setattr__', '__setitem__', '__sizeof__', '__str__', '__subclasshook__', 'append', 'clear', 'copy', 'count', 'extend', 'index', 'insert', 'pop', 'remove', 'reverse', 'sort']\n",
      "['__class__', '__delattr__', '__dir__', '__doc__', '__eq__', '__format__', '__ge__', '__getattribute__', '__gt__', '__hash__', '__init__', '__init_subclass__', '__iter__', '__le__', '__length_hint__', '__lt__', '__ne__', '__new__', '__next__', '__reduce__', '__reduce_ex__', '__repr__', '__setattr__', '__setstate__', '__sizeof__', '__str__', '__subclasshook__']\n"
     ]
    },
    {
     "data": {
      "text/plain": [
       "1"
      ]
     },
     "execution_count": 4,
     "metadata": {},
     "output_type": "execute_result"
    }
   ],
   "source": [
    "#%% Generators and yield\n",
    "\n",
    "# Iterable vs Iterators vs generators\n",
    "# Iterable = you can loop over, in dir there's the dunder method __iter__ \n",
    "# Iterator = you loop over but one element at the time, dunder method __next__\n",
    "# generator = Iterator but easier to create.\n",
    "\n",
    "# a list is an Iterable\n",
    "a = [1,2,3]\n",
    "print(dir(a))\n",
    "print(dir(a.__iter__()))\n",
    "a = a.__iter__()\n",
    "next(a)\n"
   ]
  },
  {
   "cell_type": "code",
   "execution_count": 5,
   "id": "495cab84-7c2c-47f7-a81f-75da58fc055c",
   "metadata": {},
   "outputs": [
    {
     "ename": "TypeError",
     "evalue": "'range' object is not an iterator",
     "output_type": "error",
     "traceback": [
      "\u001b[1;31m---------------------------------------------------------------------------\u001b[0m",
      "\u001b[1;31mTypeError\u001b[0m                                 Traceback (most recent call last)",
      "\u001b[1;32m<ipython-input-5-f56db66f6e39>\u001b[0m in \u001b[0;36m<module>\u001b[1;34m\u001b[0m\n\u001b[0;32m      1\u001b[0m \u001b[1;31m# What is the type of a range ?\u001b[0m\u001b[1;33m\u001b[0m\u001b[1;33m\u001b[0m\u001b[1;33m\u001b[0m\u001b[0m\n\u001b[0;32m      2\u001b[0m \u001b[1;33m\u001b[0m\u001b[0m\n\u001b[1;32m----> 3\u001b[1;33m \u001b[0mnext\u001b[0m\u001b[1;33m(\u001b[0m\u001b[0mrange\u001b[0m\u001b[1;33m(\u001b[0m\u001b[1;36m5\u001b[0m\u001b[1;33m)\u001b[0m\u001b[1;33m)\u001b[0m\u001b[1;33m\u001b[0m\u001b[1;33m\u001b[0m\u001b[0m\n\u001b[0m",
      "\u001b[1;31mTypeError\u001b[0m: 'range' object is not an iterator"
     ]
    }
   ],
   "source": [
    "# What is the type of a range ?\n",
    "\n",
    "next(range(5))"
   ]
  },
  {
   "cell_type": "code",
   "execution_count": 6,
   "id": "7263b541-6abc-4685-84fa-bdd9ce62e388",
   "metadata": {},
   "outputs": [
    {
     "data": {
      "text/plain": [
       "4"
      ]
     },
     "execution_count": 6,
     "metadata": {},
     "output_type": "execute_result"
    }
   ],
   "source": [
    "range(5)[-1]"
   ]
  },
  {
   "cell_type": "code",
   "execution_count": 7,
   "id": "2cb59ae0",
   "metadata": {},
   "outputs": [
    {
     "name": "stdout",
     "output_type": "stream",
     "text": [
      "['__bool__', '__class__', '__contains__', '__delattr__', '__dir__', '__doc__', '__eq__', '__format__', '__ge__', '__getattribute__', '__getitem__', '__gt__', '__hash__', '__init__', '__init_subclass__', '__iter__', '__le__', '__len__', '__lt__', '__ne__', '__new__', '__reduce__', '__reduce_ex__', '__repr__', '__reversed__', '__setattr__', '__sizeof__', '__str__', '__subclasshook__', 'count', 'index', 'start', 'step', 'stop']\n",
      "[range(0, 5)]\n"
     ]
    }
   ],
   "source": [
    "import tqdm\n",
    "\n",
    "print(dir(range(5)))\n",
    "print([range(5)])\n",
    "x = [i for i in range(5)]"
   ]
  },
  {
   "cell_type": "code",
   "execution_count": 8,
   "id": "9e497b60",
   "metadata": {},
   "outputs": [
    {
     "name": "stdout",
     "output_type": "stream",
     "text": [
      "Memory (Before): [36.62890625]MB\n",
      "Memory (After) : [75.296875]MB\n",
      "Memory (Before): [75.296875]MB\n",
      "Memory (After) : [75.3125]MB\n"
     ]
    },
    {
     "data": {
      "text/plain": [
       "0"
      ]
     },
     "execution_count": 8,
     "metadata": {},
     "output_type": "execute_result"
    }
   ],
   "source": [
    "import types\n",
    "import memory_profiler as mem_profile\n",
    "# creating a generator expression\n",
    "print('Memory (Before): ' + str(mem_profile.memory_usage()) + 'MB' )\n",
    "stocked = [i for i in range(1000000)]\n",
    "print('Memory (After) : ' + str(mem_profile.memory_usage()) + 'MB')\n",
    "\n",
    "print('Memory (Before): ' + str(mem_profile.memory_usage()) + 'MB' )\n",
    "genexp = (i for i in range(1000000))\n",
    "print('Memory (After) : ' + str(mem_profile.memory_usage()) + 'MB')\n",
    "\n",
    "\n",
    "isinstance(genexp, types.GeneratorType)\n",
    "next(genexp)"
   ]
  },
  {
   "cell_type": "code",
   "execution_count": null,
   "id": "e1ec60d4",
   "metadata": {},
   "outputs": [],
   "source": [
    "# creating a generators function.\n",
    "\n",
    "def gen(n):\n",
    "    for n1 in range(n):\n",
    "        for n2 in range(n):\n",
    "            for n3 in range(n):\n",
    "                yield(n1,n2,n3)\n",
    "\n",
    "isinstance(gen(10), types.GeneratorType)\n",
    "\n",
    "func = gen(10)\n",
    "next(func)\n",
    "for (n1,n2,n3) in func:\n",
    "    print(n1,n2,n3)\n"
   ]
  },
  {
   "cell_type": "code",
   "execution_count": 12,
   "id": "cd00ac5a-49d3-4e32-aba6-a8345770cdb4",
   "metadata": {},
   "outputs": [
    {
     "ename": "StopIteration",
     "evalue": "",
     "output_type": "error",
     "traceback": [
      "\u001b[1;31m---------------------------------------------------------------------------\u001b[0m",
      "\u001b[1;31mStopIteration\u001b[0m                             Traceback (most recent call last)",
      "\u001b[1;32m<ipython-input-12-c79afc12ef62>\u001b[0m in \u001b[0;36m<module>\u001b[1;34m\u001b[0m\n\u001b[1;32m----> 1\u001b[1;33m \u001b[0mnext\u001b[0m\u001b[1;33m(\u001b[0m\u001b[0mfunc\u001b[0m\u001b[1;33m)\u001b[0m\u001b[1;33m\u001b[0m\u001b[1;33m\u001b[0m\u001b[0m\n\u001b[0m",
      "\u001b[1;31mStopIteration\u001b[0m: "
     ]
    }
   ],
   "source": [
    "next(func)"
   ]
  },
  {
   "cell_type": "code",
   "execution_count": 13,
   "id": "7f5aa02d",
   "metadata": {},
   "outputs": [
    {
     "name": "stdout",
     "output_type": "stream",
     "text": [
      "[3.05581450s] square_iterable \n",
      "[3.03525472s] square_iterator \n",
      "[3.14178348s] square_gen \n"
     ]
    },
    {
     "data": {
      "text/plain": [
       "99999980000001"
      ]
     },
     "execution_count": 13,
     "metadata": {},
     "output_type": "execute_result"
    }
   ],
   "source": [
    "# benchmark between generator, iterator, iterable\n",
    "\n",
    "@timeit\n",
    "def square_iterable(n):\n",
    "    stocked = [i for i in range(n)]    \n",
    "    for i in stocked:\n",
    "        result = i ** 2\n",
    "    return(result)\n",
    "\n",
    "\n",
    "@timeit\n",
    "def square_iterator(n):\n",
    "    stocked = [i for i in range(n)] \n",
    "    for i in stocked.__iter__():\n",
    "        result = i ** 2\n",
    "    return(result)\n",
    "\n",
    "\n",
    "@timeit\n",
    "def square_gen(n):\n",
    "    stocked = (i for i in range(n))   \n",
    "    for i in stocked:\n",
    "        result = i ** 2\n",
    "    return(result)\n",
    "\n",
    "square_iterable(10000000)\n",
    "square_iterator(10000000)\n",
    "square_gen(10000000)"
   ]
  },
  {
   "cell_type": "code",
   "execution_count": 14,
   "id": "c4bf3abc-3d4f-43fd-ac53-de8b30d81b9b",
   "metadata": {},
   "outputs": [
    {
     "name": "stdout",
     "output_type": "stream",
     "text": [
      "[2.98577118s] square_iterable \n",
      "[2.98836875s] square_iterable \n",
      "[2.98468399s] square_iterable \n",
      "[3.02585292s] square_iterable \n",
      "[2.99924040s] square_iterable \n",
      "[2.99401760s] square_iterable \n",
      "[3.00924873s] square_iterable \n",
      "[2.99622536s] square_iterable \n",
      "3 s ± 12.6 ms per loop (mean ± std. dev. of 7 runs, 1 loop each)\n"
     ]
    }
   ],
   "source": [
    "%%timeit\n",
    "square_iterable(10000000)"
   ]
  },
  {
   "cell_type": "code",
   "execution_count": 15,
   "id": "92fe1eee-2b25-4e11-a431-f96574f0a2bb",
   "metadata": {},
   "outputs": [
    {
     "name": "stdout",
     "output_type": "stream",
     "text": [
      "[3.09730005s] square_iterator \n",
      "[3.10080099s] square_iterator \n",
      "[3.27415609s] square_iterator \n",
      "[3.03747869s] square_iterator \n",
      "[3.05234981s] square_iterator \n",
      "[3.09185219s] square_iterator \n",
      "[2.98622322s] square_iterator \n",
      "[3.00725484s] square_iterator \n",
      "3.08 s ± 88.4 ms per loop (mean ± std. dev. of 7 runs, 1 loop each)\n"
     ]
    }
   ],
   "source": [
    "%%timeit\n",
    "square_iterator(10000000)"
   ]
  },
  {
   "cell_type": "code",
   "execution_count": 16,
   "id": "a6f3505c-16e4-4e0d-a482-ddbd6594f3fd",
   "metadata": {},
   "outputs": [
    {
     "name": "stdout",
     "output_type": "stream",
     "text": [
      "[3.31705499s] square_gen \n",
      "[3.11624384s] square_gen \n",
      "[3.32543039s] square_gen \n",
      "[3.13918018s] square_gen \n",
      "[3.08988714s] square_gen \n",
      "[3.10006166s] square_gen \n",
      "[3.16327906s] square_gen \n",
      "[3.12424183s] square_gen \n",
      "3.15 s ± 74.6 ms per loop (mean ± std. dev. of 7 runs, 1 loop each)\n"
     ]
    }
   ],
   "source": [
    "%%timeit\n",
    "square_gen(10000000)"
   ]
  },
  {
   "cell_type": "markdown",
   "id": "9b904e6f",
   "metadata": {},
   "source": [
    "<a name=\"Coroutines\"></a>\n",
    "## Coroutines\n",
    "Coroutines is an extension of the generator (i.e:  it uses the yield concept). During the execution of a function you can pause and complete another function\n",
    "\n",
    "When to use coroutines ?  \n",
    "- Order of response. IF you want smaller task to be done first then use coroutines (Bots answering questions, website sending data,....)   \n",
    "- Server requests. You have to wait the loading: do something else meanwhile.\n",
    "\n",
    "You can indeed perform coroutines using yield statement but it might be complex to setup on your own. The library asyncio helps you in performing coroutines."
   ]
  },
  {
   "cell_type": "code",
   "execution_count": 17,
   "id": "5fc5f969",
   "metadata": {},
   "outputs": [
    {
     "ename": "RuntimeError",
     "evalue": "This event loop is already running",
     "output_type": "error",
     "traceback": [
      "\u001b[1;31m---------------------------------------------------------------------------\u001b[0m",
      "\u001b[1;31mRuntimeError\u001b[0m                              Traceback (most recent call last)",
      "\u001b[1;32m<ipython-input-17-a3e8ff265679>\u001b[0m in \u001b[0;36m<module>\u001b[1;34m\u001b[0m\n\u001b[0;32m     34\u001b[0m \u001b[0mloop\u001b[0m \u001b[1;33m=\u001b[0m \u001b[0masyncio\u001b[0m\u001b[1;33m.\u001b[0m\u001b[0mget_event_loop\u001b[0m\u001b[1;33m(\u001b[0m\u001b[1;33m)\u001b[0m\u001b[1;33m\u001b[0m\u001b[1;33m\u001b[0m\u001b[0m\n\u001b[0;32m     35\u001b[0m \u001b[1;31m# Start the tasks\u001b[0m\u001b[1;33m\u001b[0m\u001b[1;33m\u001b[0m\u001b[1;33m\u001b[0m\u001b[0m\n\u001b[1;32m---> 36\u001b[1;33m \u001b[0mloop\u001b[0m\u001b[1;33m.\u001b[0m\u001b[0mrun_until_complete\u001b[0m\u001b[1;33m(\u001b[0m\u001b[0mmain\u001b[0m\u001b[1;33m(\u001b[0m\u001b[1;33m)\u001b[0m\u001b[1;33m)\u001b[0m\u001b[1;33m\u001b[0m\u001b[1;33m\u001b[0m\u001b[0m\n\u001b[0m\u001b[0;32m     37\u001b[0m \u001b[0mhelp\u001b[0m\u001b[1;33m(\u001b[0m\u001b[0masyncio\u001b[0m\u001b[1;33m.\u001b[0m\u001b[0mget_event_loop\u001b[0m\u001b[1;33m(\u001b[0m\u001b[1;33m)\u001b[0m\u001b[1;33m)\u001b[0m\u001b[1;33m\u001b[0m\u001b[1;33m\u001b[0m\u001b[0m\n",
      "\u001b[1;32m~\\anaconda3\\envs\\368\\lib\\asyncio\\base_events.py\u001b[0m in \u001b[0;36mrun_until_complete\u001b[1;34m(self, future)\u001b[0m\n\u001b[0;32m    469\u001b[0m         \u001b[0mfuture\u001b[0m\u001b[1;33m.\u001b[0m\u001b[0madd_done_callback\u001b[0m\u001b[1;33m(\u001b[0m\u001b[0m_run_until_complete_cb\u001b[0m\u001b[1;33m)\u001b[0m\u001b[1;33m\u001b[0m\u001b[1;33m\u001b[0m\u001b[0m\n\u001b[0;32m    470\u001b[0m         \u001b[1;32mtry\u001b[0m\u001b[1;33m:\u001b[0m\u001b[1;33m\u001b[0m\u001b[1;33m\u001b[0m\u001b[0m\n\u001b[1;32m--> 471\u001b[1;33m             \u001b[0mself\u001b[0m\u001b[1;33m.\u001b[0m\u001b[0mrun_forever\u001b[0m\u001b[1;33m(\u001b[0m\u001b[1;33m)\u001b[0m\u001b[1;33m\u001b[0m\u001b[1;33m\u001b[0m\u001b[0m\n\u001b[0m\u001b[0;32m    472\u001b[0m         \u001b[1;32mexcept\u001b[0m\u001b[1;33m:\u001b[0m\u001b[1;33m\u001b[0m\u001b[1;33m\u001b[0m\u001b[0m\n\u001b[0;32m    473\u001b[0m             \u001b[1;32mif\u001b[0m \u001b[0mnew_task\u001b[0m \u001b[1;32mand\u001b[0m \u001b[0mfuture\u001b[0m\u001b[1;33m.\u001b[0m\u001b[0mdone\u001b[0m\u001b[1;33m(\u001b[0m\u001b[1;33m)\u001b[0m \u001b[1;32mand\u001b[0m \u001b[1;32mnot\u001b[0m \u001b[0mfuture\u001b[0m\u001b[1;33m.\u001b[0m\u001b[0mcancelled\u001b[0m\u001b[1;33m(\u001b[0m\u001b[1;33m)\u001b[0m\u001b[1;33m:\u001b[0m\u001b[1;33m\u001b[0m\u001b[1;33m\u001b[0m\u001b[0m\n",
      "\u001b[1;32m~\\anaconda3\\envs\\368\\lib\\asyncio\\base_events.py\u001b[0m in \u001b[0;36mrun_forever\u001b[1;34m(self)\u001b[0m\n\u001b[0;32m    423\u001b[0m         \u001b[0mself\u001b[0m\u001b[1;33m.\u001b[0m\u001b[0m_check_closed\u001b[0m\u001b[1;33m(\u001b[0m\u001b[1;33m)\u001b[0m\u001b[1;33m\u001b[0m\u001b[1;33m\u001b[0m\u001b[0m\n\u001b[0;32m    424\u001b[0m         \u001b[1;32mif\u001b[0m \u001b[0mself\u001b[0m\u001b[1;33m.\u001b[0m\u001b[0mis_running\u001b[0m\u001b[1;33m(\u001b[0m\u001b[1;33m)\u001b[0m\u001b[1;33m:\u001b[0m\u001b[1;33m\u001b[0m\u001b[1;33m\u001b[0m\u001b[0m\n\u001b[1;32m--> 425\u001b[1;33m             \u001b[1;32mraise\u001b[0m \u001b[0mRuntimeError\u001b[0m\u001b[1;33m(\u001b[0m\u001b[1;34m'This event loop is already running'\u001b[0m\u001b[1;33m)\u001b[0m\u001b[1;33m\u001b[0m\u001b[1;33m\u001b[0m\u001b[0m\n\u001b[0m\u001b[0;32m    426\u001b[0m         \u001b[1;32mif\u001b[0m \u001b[0mevents\u001b[0m\u001b[1;33m.\u001b[0m\u001b[0m_get_running_loop\u001b[0m\u001b[1;33m(\u001b[0m\u001b[1;33m)\u001b[0m \u001b[1;32mis\u001b[0m \u001b[1;32mnot\u001b[0m \u001b[1;32mNone\u001b[0m\u001b[1;33m:\u001b[0m\u001b[1;33m\u001b[0m\u001b[1;33m\u001b[0m\u001b[0m\n\u001b[0;32m    427\u001b[0m             raise RuntimeError(\n",
      "\u001b[1;31mRuntimeError\u001b[0m: This event loop is already running"
     ]
    },
    {
     "name": "stdout",
     "output_type": "stream",
     "text": [
      "starting fibo 400\n",
      "starting fibo 10000\n",
      "starting fibo 100\n",
      "ending fibo 100\n",
      "ending fibo 400\n",
      "ending fibo 10000\n"
     ]
    }
   ],
   "source": [
    "#%% Coroutines https://docs.python.org/3/library/asyncio.html\n",
    "\n",
    "import asyncio\n",
    "\n",
    "# To define a function that will be used in coroutines start with async\n",
    "async def fibo_list(n):\n",
    "    print(\"starting fibo {}\".format(n))\n",
    "    if n == 0:\n",
    "        return 0\n",
    "    if n == 1:\n",
    "        return 1\n",
    "    else:\n",
    "        starting_list = [0,1,1]\n",
    "        # Collatz stuff\n",
    "        for i in range(3,n+1):\n",
    "            if i % 100 == 0:\n",
    "                # every 100 it stop and run the next task if there is\n",
    "                await asyncio.sleep(0.0001)\n",
    "            starting_list.append(starting_list[i-1]+starting_list[i-2])\n",
    "        print(\"ending fibo {}\".format(n))\n",
    "        return starting_list[-1]\n",
    "\n",
    "\n",
    "async def main():\n",
    "    # Create the different task for the coroutines\n",
    "    fibo1 = loop.create_task(fibo_list(400))\n",
    "    fibo2 = loop.create_task(fibo_list(10000))\n",
    "    fibo3 = loop.create_task(fibo_list(100))\n",
    "    # asyncio the list of tasks\n",
    "    await asyncio.wait([fibo1,fibo2,fibo3])\n",
    "\n",
    "\n",
    "# init event loop\n",
    "loop = asyncio.get_event_loop()\n",
    "# Start the tasks\n",
    "loop.run_until_complete(main())\n",
    "help(asyncio.get_event_loop())"
   ]
  },
  {
   "cell_type": "code",
   "execution_count": 18,
   "id": "9b55f4e0",
   "metadata": {},
   "outputs": [],
   "source": [
    "# Note the ipython kernel itself runs on an event loop => nested so weird things, solution = nest_asyncio\n",
    "\n",
    "import nest_asyncio\n",
    "nest_asyncio.apply()\n",
    "\n",
    "import aiohttp # Basic library for http coroutines\n",
    "import asyncio\n",
    "import async_timeout\n",
    "import os\n",
    "\n",
    "async def download_coroutine(session, url):\n",
    "    filepath = \"data/Chap2\"\n",
    "    # Cancel a task if timed out\n",
    "    with async_timeout.timeout(10):\n",
    "        # coroutine on the session.get\n",
    "        async with session.get(url) as response:\n",
    "            filename = os.path.basename(url)+\".pdf\"\n",
    "            with open(os.path.join(filepath,filename), 'wb') as f_handle:\n",
    "                while True:\n",
    "                    # await the dl of 1024 during which do other tasks\n",
    "                    chunk = await response.content.read(1024)\n",
    "                    if not chunk:\n",
    "                        break\n",
    "                    f_handle.write(chunk)\n",
    "            # end the connection\n",
    "            return await response.release()\n",
    "\n",
    "async def main(loop):\n",
    "    #urls we will dl\n",
    "    urls = [\"https://arxiv.org/pdf/2009.00672\",\n",
    "        \"https://arxiv.org/pdf/2009.00694\",\n",
    "        \"https://arxiv.org/pdf/2009.00751\"]\n",
    "    async with aiohttp.ClientSession(loop=loop) as session:\n",
    "        # Create list of tasks\n",
    "        tasks = [download_coroutine(session, url) for url in urls]\n",
    "        await asyncio.gather(*tasks)\n",
    "\n",
    "loop = asyncio.get_event_loop()\n",
    "loop.run_until_complete(main(loop))\n"
   ]
  },
  {
   "cell_type": "markdown",
   "id": "b4c302ca",
   "metadata": {},
   "source": [
    "Coroutines is not to be confused with threading and parallelism. Coroutines does not run things simultaneously but stops the execution of one task to execute another."
   ]
  },
  {
   "cell_type": "markdown",
   "id": "516819e3",
   "metadata": {},
   "source": [
    "<a name=\"Thread\"></a>\n",
    "## Threading\n",
    "\n",
    "Each core is composed of (normally) 2 threads. You can use each threads to run operation simultaneously. Well that's in theory. Python has something called the Global Interpreter Lock (GIL) which makes it so that you can only use threads sequentially. The only difference with coroutines is that it runs task on multiple threads."
   ]
  },
  {
   "cell_type": "code",
   "execution_count": 22,
   "id": "21ec16fe",
   "metadata": {},
   "outputs": [
    {
     "data": {
      "text/plain": [
       "[None, None, None]"
      ]
     },
     "execution_count": 22,
     "metadata": {},
     "output_type": "execute_result"
    }
   ],
   "source": [
    "## joblib\n",
    "\n",
    "from joblib import Parallel, delayed\n",
    "import urllib.request\n",
    "\n",
    "def get_pdf(url):\n",
    "    filename = os.path.basename(url)+\".pdf\"\n",
    "    response = urllib.request.urlopen(url)    \n",
    "    file = open('data/Chap2/' + filename, 'wb')\n",
    "    file.write(response.read())\n",
    "    file.close()\n",
    "    \n",
    "urls = [\"https://arxiv.org/pdf/2009.00672\",\n",
    "        \"https://arxiv.org/pdf/2009.00694\",\n",
    "        \"https://arxiv.org/pdf/2009.00751\"]\n",
    "\n",
    "\n",
    "Parallel(n_jobs=16, backend = 'threading')(delayed(get_pdf)(i) for i in urls)\n"
   ]
  },
  {
   "cell_type": "code",
   "execution_count": 23,
   "id": "d75c54bc-a7b8-4cc4-9253-60fecfe7ca03",
   "metadata": {},
   "outputs": [
    {
     "name": "stdout",
     "output_type": "stream",
     "text": [
      "[0.0, 4, 1.0, 10, 2.0, 16, 3.0, 22, 4.0, 28]\n"
     ]
    }
   ],
   "source": [
    "\n",
    "from math import sqrt\n",
    "\n",
    "def collatz(n):\n",
    "    if n % 2 == 0:\n",
    "        return(n/2)\n",
    "    else:\n",
    "        return(3*n + 1)\n",
    "\n",
    "\n",
    "results = Parallel(n_jobs=2, backend = 'threading')(delayed(collatz)(i) for i in range(10))\n",
    "print(results)"
   ]
  },
  {
   "cell_type": "markdown",
   "id": "954bd0de",
   "metadata": {},
   "source": [
    "<a name=\"Parallel\"></a>\n",
    "## Parallel\n",
    "\n",
    "Tasks are executed simultaneously in multiple cores. The goal is to compute things faster. Not everything can be run in parallel. Limited by the ram."
   ]
  },
  {
   "cell_type": "code",
   "execution_count": 25,
   "id": "0337d50f",
   "metadata": {},
   "outputs": [
    {
     "data": {
      "text/plain": [
       "8"
      ]
     },
     "execution_count": 25,
     "metadata": {},
     "output_type": "execute_result"
    }
   ],
   "source": [
    "import psutil \n",
    "psutil.cpu_count(logical = True)"
   ]
  },
  {
   "cell_type": "code",
   "execution_count": 26,
   "id": "02705e83",
   "metadata": {},
   "outputs": [],
   "source": [
    "## Multiprocessing\n",
    "\n",
    "from multiprocessing.dummy import Pool\n",
    "import urllib.request\n",
    "import os\n",
    "\n",
    "def get_pdf(url):\n",
    "    filename = os.path.basename(url)+\".pdf\"\n",
    "    response = urllib.request.urlopen(url)    \n",
    "    file = open('data/Chap2/' + filename, 'wb')\n",
    "    file.write(response.read())\n",
    "    file.close()\n",
    "    \n",
    "urls = [\"https://arxiv.org/pdf/2009.00672\",\n",
    "        \"https://arxiv.org/pdf/2009.00694\",\n",
    "        \"https://arxiv.org/pdf/2009.00751\"]\n",
    "\n",
    "pool = Pool(2)\n",
    "results = pool.map(get_pdf, urls)\n"
   ]
  },
  {
   "cell_type": "code",
   "execution_count": 27,
   "id": "ca6f83a3",
   "metadata": {},
   "outputs": [],
   "source": [
    "def collatz(n):\n",
    "    if n % 2 == 0:\n",
    "        return(n/2)\n",
    "    else:\n",
    "        return(3*n + 1)\n",
    "    \n",
    "numbers_to_process = [i for i in range(10)]\n",
    "\n",
    "pool = Pool(2)\n",
    "results = pool.map(collatz, numbers_to_process)"
   ]
  },
  {
   "cell_type": "code",
   "execution_count": null,
   "id": "88869208",
   "metadata": {},
   "outputs": [],
   "source": [
    "## joblib\n",
    "\n",
    "from joblib import Parallel, delayed\n",
    "\n",
    "def get_pdf(url):\n",
    "    filename = os.path.basename(url)+\".pdf\"\n",
    "    response = urllib.request.urlopen(url)    \n",
    "    file = open('data/Chap2/' + filename, 'wb')\n",
    "    file.write(response.read())\n",
    "    file.close()\n",
    "    \n",
    "urls = [\"https://arxiv.org/pdf/2009.00672\",\n",
    "        \"https://arxiv.org/pdf/2009.00694\",\n",
    "        \"https://arxiv.org/pdf/2009.00751\"]\n",
    "\n",
    "\n",
    "Parallel(n_jobs=2)(delayed(get_pdf)(i) for i in urls)"
   ]
  },
  {
   "cell_type": "code",
   "execution_count": null,
   "id": "03f76f55",
   "metadata": {},
   "outputs": [],
   "source": [
    "from math import sqrt\n",
    "\n",
    "def collatz(n):\n",
    "    if n % 2 == 0:\n",
    "        return(n/2)\n",
    "    else:\n",
    "        return(3*n + 1)\n",
    "\n",
    "\n",
    "results = Parallel(n_jobs=2)(delayed(collatz)(i) for i in range(10))"
   ]
  },
  {
   "cell_type": "markdown",
   "id": "a249b287",
   "metadata": {},
   "source": [
    "As we have seen for threading, joblib can use different backend. The default backend is called \"loky\". Funny enough there's also a multiprocessing backend. Read more here https://www.tutorialdocs.com/tutorial/joblib/examples.html.\n",
    "Like for scrapping, parallel code tends to be another coding paradigm (even though years of work make it pretty easy to do some small stuff). The best way to learn it is to try on multiple problems."
   ]
  },
  {
   "cell_type": "markdown",
   "id": "dba3b2b2",
   "metadata": {},
   "source": [
    "<a name=\"Images\"></a>\n",
    "## Images, videos and audio processing\n",
    "\n",
    "In your line of work you might have to deal with unsual (unsual can be discussed depending your background) data type like audio or images. Here's a non exhaustive list of libraries that can help you work on some type of object.\n",
    "\n",
    "### Opencv\n",
    "Opencv is a library aimed at working with images and video inrealtime (for example with your webcam or camera).  With this library you can modify your photo or apply some algorithm to detect objects.\n",
    "\n",
    "```console\n",
    "pip install opencv-python\n",
    "```\n",
    "\n",
    "Let's start by downloading an image from google"
   ]
  },
  {
   "cell_type": "code",
   "execution_count": 29,
   "id": "159b8a98",
   "metadata": {},
   "outputs": [],
   "source": [
    "import requests\n",
    "\n",
    "img_data = requests.get(\"https://cdnb.artstation.com/p/assets/images/images/036/365/359/large/nuno-goncalves-anor-londo-001.jpg?1617472366\").content\n",
    "with open('data/Chap2/random_image.jpg', 'wb') as f:\n",
    "    f.write(img_data)"
   ]
  },
  {
   "cell_type": "code",
   "execution_count": 31,
   "id": "759cec78",
   "metadata": {},
   "outputs": [],
   "source": [
    "# Simple read\n",
    "\n",
    "import cv2\n",
    "import os\n",
    "import numpy as np\n",
    "\n",
    "\n",
    "img_path = \"data/Chap2/random_image.jpg\"\n",
    "\n",
    "# flags parameter\n",
    "# greyscale = 0\n",
    "# IMREAD_COLOR = 1\n",
    "# IMREAD_UNCHANGED = -1 \n",
    "img = cv2.imread(filename = img_path,flags = 0)\n",
    "\n",
    "# Show the img\n",
    "cv2.imshow('image',img)\n",
    "# Wait for any key\n",
    "cv2.waitKey(0)\n",
    "# Close img\n",
    "cv2.destroyAllWindows()"
   ]
  },
  {
   "cell_type": "code",
   "execution_count": 32,
   "id": "967b5128",
   "metadata": {},
   "outputs": [
    {
     "data": {
      "text/plain": [
       "True"
      ]
     },
     "execution_count": 32,
     "metadata": {},
     "output_type": "execute_result"
    }
   ],
   "source": [
    "# Resize image\n",
    "\n",
    "\n",
    "img_path = \"data/Chap2/random_image.jpg\"\n",
    "img = cv2.imread(filename = img_path, flags = cv2.IMREAD_UNCHANGED)\n",
    "\n",
    "# If you need to crop the image:\n",
    "#crop_img = img[45:205, 19:235] #[top:bottom,left:rigth]\n",
    "\n",
    "# If your img is png you need to add a white background for your image or some weird transformation will happen\n",
    "#trans_mask = img[:,:,3] == 0 \n",
    "#img[trans_mask] = [255, 255, 255, 255]\n",
    "\n",
    "resize_img = cv2.resize(img,(128,128))\n",
    "cv2.imwrite(\"data/Chap2/random_image_resized.jpg\", resize_img)"
   ]
  },
  {
   "cell_type": "code",
   "execution_count": 33,
   "id": "140bceab",
   "metadata": {},
   "outputs": [],
   "source": [
    "# Adding object on picture\n",
    "import cv2\n",
    "\n",
    "img_path = \"data/Chap2/random_image.jpg\"\n",
    "img = cv2.imread(filename = img_path, flags = cv2.IMREAD_UNCHANGED)\n",
    "\n",
    "#Param =  draw line on what, where start , where end, color of line(open cv BGR so blue = 255,0,0 green = 0,255,0,here white),optional line width \n",
    "cv2.line( img, (20,20), (100,150), (255,255,255), 5) \n",
    "#cv2.rectangle(img,(15,25),(100,50),(0,0,255),15) # draw secon = over line\n",
    "#cv2.circle(img,(30,63), 63, (0,255,0), -1)# on image, center, radius,color, -1 fill in or lwd\n",
    "\n",
    "# to write we need font\n",
    "font = cv2.FONT_HERSHEY_SIMPLEX \n",
    "cv2.putText(img,  text = 'OpenCV Tuts!', org = (10,20), fontFace = font, fontScale = 1, color = (200,255,155), thickness = 5, lineType = cv2.LINE_AA) \n",
    "\n",
    "cv2.imshow('image',img)\n",
    "cv2.waitKey(0)\n",
    "cv2.destroyAllWindows()\n"
   ]
  },
  {
   "cell_type": "code",
   "execution_count": 34,
   "id": "9640490d",
   "metadata": {},
   "outputs": [
    {
     "data": {
      "text/plain": [
       "True"
      ]
     },
     "execution_count": 34,
     "metadata": {},
     "output_type": "execute_result"
    }
   ],
   "source": [
    "# change the img using grayscale, resize, add some text, a circle and save it.\n",
    "\n",
    "img = cv2.imread(filename = img_path,flags = 0)\n",
    "resize_img = cv2.resize(img,(256,256))\n",
    "cv2.circle(resize_img,(30,63), 63, (0,255,0), -1)\n",
    "font = cv2.FONT_HERSHEY_SIMPLEX \n",
    "cv2.putText(resize_img,'OpenCV Tuts!',(10,20), font, 1, (200,255,155), 5, cv2.LINE_AA) \n",
    "cv2.imwrite(\"data/Chap2/cleaned.jpg\",resize_img)"
   ]
  },
  {
   "cell_type": "markdown",
   "id": "c3c8b0cd",
   "metadata": {},
   "source": [
    "Even though you could use algorithm on an image directly you have to realize that it an image is an heavy data source. AFor example a 4k image you is 3840x2160 pixel and each pixel has 3 channel (RGB). You basically have 24883200 int to work with. Grayscale already helps but you can go a level further and transform your data point from an int to a binary value. Grayscale goes from 0 (black) to 255 (white) the easy way to readuce even more this dimension would be to say that if pixel<125 then pixel = 0 else pixel = 1. This is a bit simplistic and the threshold is randomly assigned. Turns out there's already some more advanced type of threshold. Adaptive threshold consider not only the pixel value but also its neighbors."
   ]
  },
  {
   "cell_type": "code",
   "execution_count": 35,
   "id": "3d3d0eb1",
   "metadata": {},
   "outputs": [
    {
     "data": {
      "text/plain": [
       "True"
      ]
     },
     "execution_count": 35,
     "metadata": {},
     "output_type": "execute_result"
    }
   ],
   "source": [
    "# Threshold\n",
    "img_path = \"data/Chap2/random_image.jpg\"\n",
    "img = cv2.imread(img_path)\n",
    "img = cv2.resize(img,(512,512))\n",
    "grayscaled = cv2.cvtColor(img,cv2.COLOR_BGR2GRAY)\n",
    "# param: img, the output of the threshold (we want white), mean gaussian to compute the value of the pixel, binary: if <threshold then 0 else 255, the size of the neighbors, finetune the threshold value\n",
    "th = cv2.adaptiveThreshold(grayscaled, 255, cv2.ADAPTIVE_THRESH_GAUSSIAN_C, cv2.THRESH_BINARY, 115, 1)\n",
    "cv2.imshow('original',img)\n",
    "cv2.imshow('Adaptive threshold',th)\n",
    "cv2.waitKey(0)\n",
    "cv2.destroyAllWindows()\n",
    "cv2.imwrite(\"data/Chap2/img_cleaned.jpg\",th)"
   ]
  },
  {
   "cell_type": "markdown",
   "id": "8c308051",
   "metadata": {},
   "source": [
    "Having a binary output helps in the computation later but maybe you want to apply another change to your image depending on the context. Maybe a focus on the vertical lines, on the contour ? Different filters exists.\n",
    "For this part we will work on the feed of your webcam and not on images."
   ]
  },
  {
   "cell_type": "code",
   "execution_count": 36,
   "id": "355f3f6d",
   "metadata": {},
   "outputs": [],
   "source": [
    "# Get the webcam you want to use\n",
    "# 0 is my default in my case\n",
    "cap = cv2.VideoCapture(0)\n",
    " \n",
    "# Since its a webcam we want a continuous feed so while True \n",
    "\n",
    "while True:\n",
    "    # cap.read returns two infos, frame is what we will work on\n",
    "    ret, frame = cap.read()\n",
    "    #gray = cv2.cvtColor(frame, cv2.COLOR_BGR2GRAY)\n",
    "    font = cv2.FONT_HERSHEY_SIMPLEX # to write we need font\n",
    "    cv2.putText(frame,'OpenCV Tuts!',(10,20), font, 1, (200,255,155), 5, cv2.LINE_AA) \n",
    "    \n",
    "    # Apply laplacian filter to the frame, second arg is the size of the filter\n",
    "    # read more on laplacian here: https://docs.opencv.org/3.4/d5/db5/tutorial_laplace_operator.html\n",
    "    laplacian = cv2.Laplacian(frame,cv2.CV_64F)\n",
    "    # read more on sobel transformation here: https://docs.opencv.org/3.4/d2/d2c/tutorial_sobel_derivatives.html\n",
    "    sobelx = cv2.Sobel(frame,cv2.CV_64F,1,0,ksize=5)\n",
    "    sobely = cv2.Sobel(frame,cv2.CV_64F,0,1,ksize=5)\n",
    "    # read more on the canny edge here: https://docs.opencv.org/3.4/da/d5c/tutorial_canny_detector.html\n",
    "    canny = cv2.Canny(frame,100,100)\n",
    "    \n",
    "    cv2.imshow('Original',frame)\n",
    "    cv2.imshow('laplacian',laplacian)\n",
    "    cv2.imshow('sobelx',sobelx)\n",
    "    cv2.imshow('sobely',sobely)\n",
    "    cv2.imshow('canny',canny)    \n",
    "    if cv2.waitKey(1) & 0xFF == ord('q'):\n",
    "        break\n",
    "\n",
    "cap.release()\n",
    "cv2.destroyAllWindows()"
   ]
  },
  {
   "cell_type": "markdown",
   "id": "d7029685",
   "metadata": {},
   "source": [
    "Of course there's a lot more to be discussed on opencv, if you one day work with images I really recommend you look into it !"
   ]
  },
  {
   "cell_type": "markdown",
   "id": "64641ad1",
   "metadata": {},
   "source": [
    "### pytesseract\n",
    "\n",
    "Tesseract is an optical character recognition (OCR) tool. Transform written document(image format) to a machine readable document. To run tesseract you need to download the software here: https://github.com/UB-Mannheim/tesseract/wiki\n",
    "\n",
    "Next to interact with python\n",
    "```console\n",
    "pip install pytesseract\n",
    "```"
   ]
  },
  {
   "cell_type": "code",
   "execution_count": 37,
   "id": "27985ed2",
   "metadata": {},
   "outputs": [
    {
     "name": "stdout",
     "output_type": "stream",
     "text": [
      "BRASSERIE OU NEIL\n",
      "STE DU PUITS\n",
      "20 RUE DES CANETTES\n",
      "75006 PARIS FRANCE\n",
      "SIRET:28118030600023 HAF:5610A TUA:FR733B1100306\n",
      "04 46 333 666\n",
      "\n",
      "TABLE 614\n",
      "4 COUWERT SOIR BAR\n",
      "\n",
      "Reference : Num: 0022583/003\n",
      "Du 15-08-2047 19:59:49\n",
      "\n",
      "JUSTIFICATIF\n",
      "\n",
      "\"2017 19:59:24\n",
      "Cle vi 2-Caisse 2-Num: 00225837004\n",
      "PRIX NETS & SERVICE CO\n",
      "MERCI DE VOTRE visite\n",
      "A BIENTOT\n",
      "\n",
      " \n",
      "\f",
      "\n"
     ]
    }
   ],
   "source": [
    "from PIL import Image\n",
    "import pytesseract\n",
    "\n",
    "img_path = \"data/Chap2/receipt.jpg\"\n",
    "pytesseract.pytesseract.tesseract_cmd = 'C:\\\\Program Files\\\\Tesseract-OCR\\\\tesseract.exe'\n",
    "\n",
    "print(pytesseract.image_to_string(Image.open(img_path)))"
   ]
  },
  {
   "cell_type": "markdown",
   "id": "bb5fef9d",
   "metadata": {},
   "source": [
    "This example works well (I'm guessing one of the things it actually trained for). Probably morde dirty irl sor first clean the image using opencv before using tesseract"
   ]
  },
  {
   "cell_type": "markdown",
   "id": "99b39666",
   "metadata": {},
   "source": [
    "### moviePy\n",
    "\n",
    "moviePy is a Python library for video editing:  cutting, concatenations, title insertions, video compositing, video processing, and creation of custom effects. This time you need https://imagemagick.org/script/download.php. (You need to check the box install legacies during installation to have convert.exe if you are running it on windows)\n",
    "\n",
    "```console\n",
    "pip install moviepy\n",
    "```"
   ]
  },
  {
   "cell_type": "code",
   "execution_count": null,
   "id": "2c824263",
   "metadata": {},
   "outputs": [
    {
     "name": "stderr",
     "output_type": "stream",
     "text": [
      "\n",
      "chunk:   5%|██▉                                                           | 101/2139 [00:16<00:32, 62.34it/s, now=None]\u001b[A"
     ]
    }
   ],
   "source": [
    "import moviepy.editor as mp\n",
    "import pygame\n",
    "import os\n",
    "\n",
    "\n",
    "FFMPEG_BINARY = os.getenv('FFMPEG_BINARY', 'ffmpeg-imageio')\n",
    "IMAGEMAGICK_BINARY = os.getenv ('IMAGEMAGICK_BINARY', 'C:\\\\Program Files\\\\ImageMagick-7.1.0-Q16-HDRI\\\\convert.exe\"')\n",
    "\n",
    "clip = mp.VideoFileClip('data/Chap2/cat.mp4')\n",
    "txt_clip = (mp.TextClip(\"Interstellar cat\",fontsize=70,color='white')\n",
    "             .set_position('center')\n",
    "             .set_duration(10) )\n",
    "\n",
    "result = mp.CompositeVideoClip([clip, txt_clip]) # Overlay text on video\n",
    "result.write_videofile(\"data/Chap2/cat.webm\",fps=25) # Many options...\n",
    "\n",
    "clip = mp.VideoFileClip('data/Chap2/cat.mp4')\n",
    "clip.preview()\n"
   ]
  },
  {
   "cell_type": "markdown",
   "id": "6b2edb04",
   "metadata": {},
   "source": [
    "### Pydub\n",
    "\n",
    "”Pydub lets you do stuff to audio in a way that isn’t stupid.”(readme on github). On windows there might be some permission issue so simpleaudio is also required\n",
    "\n",
    "```console\n",
    "pip install pydub\n",
    "pip install simpleaudio\n",
    "```"
   ]
  },
  {
   "cell_type": "code",
   "execution_count": 6,
   "id": "466e37b0",
   "metadata": {},
   "outputs": [
    {
     "data": {
      "image/png": "[encoded data removed]",
      "text/plain": [
       "<Figure size 432x288 with 1 Axes>"
      ]
     },
     "metadata": {
      "needs_background": "light"
     },
     "output_type": "display_data"
    }
   ],
   "source": [
    "from pydub import AudioSegment\n",
    "from pydub.playback import play\n",
    "import numpy as np\n",
    "import matplotlib.pyplot as plt\n",
    "\n",
    "\n",
    "sound = AudioSegment.from_wav(\"data/Chap2/cat.wav\")\n",
    "samples = sound.get_array_of_samples()\n",
    "samples = np.array(samples)\n",
    "\n",
    "plt.figure(1)\n",
    "plt.title(\"Signal Wave...\")\n",
    "plt.plot(samples)\n",
    "plt.show()\n",
    "\n",
    "play(sound)\n"
   ]
  },
  {
   "cell_type": "code",
   "execution_count": 7,
   "id": "d17175b3",
   "metadata": {},
   "outputs": [
    {
     "data": {
      "image/png": "[encoded data removed]",
      "text/plain": [
       "<Figure size 432x288 with 1 Axes>"
      ]
     },
     "metadata": {
      "needs_background": "light"
     },
     "output_type": "display_data"
    }
   ],
   "source": [
    "sound = AudioSegment.from_wav(\"data/Chap2/cat.wav\")\n",
    "\n",
    "sound_processed = sound.high_pass_filter(10000)\n",
    "samples_processed = sound_processed.get_array_of_samples()\n",
    "samples_processed = np.array(samples_processed)\n",
    "\n",
    "plt.figure(1)\n",
    "plt.title(\"Signal Wave...\")\n",
    "plt.plot(samples_processed)\n",
    "plt.show()\n",
    "\n",
    "play(sound_processed)\n"
   ]
  },
  {
   "cell_type": "code",
   "execution_count": null,
   "id": "086e31ec",
   "metadata": {},
   "outputs": [],
   "source": [
    "# From stackoverflow\n",
    "\n",
    "def detect_leading_silence(sound, silence_threshold=-50.0, chunk_size=10):\n",
    "    '''\n",
    "    sound is a pydub.AudioSegment\n",
    "    silence_threshold in dB\n",
    "    chunk_size in ms\n",
    "\n",
    "    iterate over chunks until you find the first one with sound\n",
    "    '''\n",
    "    trim_ms = 0 # ms\n",
    "\n",
    "    assert chunk_size > 0 # to avoid infinite loop\n",
    "    while sound[trim_ms:trim_ms+chunk_size].dBFS < silence_threshold and trim_ms < len(sound):\n",
    "        trim_ms += chunk_size\n",
    "\n",
    "    return trim_ms\n",
    "\n",
    "start_trim = detect_leading_silence(sound)\n",
    "end_trim = detect_leading_silence(sound.reverse())\n",
    "\n",
    "duration = len(sound)    \n",
    "trimmed_sound = sound[start_trim:duration-end_trim]\n",
    "play(trimmed_sound.apply_gain(+10).high_pass_filter(200))"
   ]
  },
  {
   "cell_type": "markdown",
   "id": "6714c91d",
   "metadata": {},
   "source": [
    "<a name=\"SSH\"></a>\n",
    "## SSH\n",
    "\n",
    "\"Secure Shell (SSH) is a cryptographic network protocol for operating network services securely over an unsecured network.\" (Wikipedia). \n",
    "This protocol is composed of a client side called ssh and a server side called SSHD. The client side logs into a remote machine and can execute command on said machine. This logging can be done using ssh keys which provides a more secure method of authentification than using a password. Even though SSH was meant for unix systems at the beginning, it is popular enough that a tool for windows was created: OpenSSH. 2 years ago windows launched their terminal which also supports SSH. \n",
    "\n",
    "The goal of this section will only be to create the SSH encryption keys for the next section \"Git\". \n",
    "\n",
    "If you are interested in creating an sshd or connecting to one, here are some tutorials that go more in depth:\n",
    "- Understanding the idea behind ssh:\n",
    "    * https://www.hostinger.com/tutorials/ssh-tutorial-how-does-ssh-work\n",
    "- SSH on windows:\n",
    "    * https://winscp.net/eng/docs/guide_windows_openssh_server\n",
    "    * https://github.com/PowerShell/Win32-OpenSSH/wiki/Install-Win32-OpenSSH\n",
    "    * https://www.pugetsystems.com/labs/hpc/How-To-Use-SSH-Client-and-Server-on-Windows-10-1470/\n",
    "\n",
    "Now our goal will be to create our own SSHkeys. To do this you have two options:\n",
    "- PuTTy https://www.chiark.greenend.org.uk/~sgtatham/putty/latest.html. You can then use PuTTYgen to generate your keys (Some server will require a specific format, for example the OpenSSH format. to convert the one you got from PuTTY you can use this command line in the terminal) .\n",
    "\n",
    "```console\n",
    "ssh-keygen -i -f keyfile.pub > newkeyfile.pub\n",
    "```\n",
    "\n",
    "- Using your terminal\n",
    "\n",
    "```console\n",
    "ssh-keygen -t rsa -C \"your_email\"\n",
    "```\n",
    "\n",
    "Make sure this email is the same as on the websites you will use this SSH key on.\n",
    "\n",
    "If you want an additional security make sure to create a passphrase. If you do and dealing with it is to annoying make sure to create an agent (on windows: https://stackoverflow.com/questions/52113738/starting-ssh-agent-on-windows-10-fails-unable-to-start-ssh-agent-service-erro and dont forget to have OpenSSH)\n",
    "\n",
    "You will have a public and a private key. The private key can be use to generate the public key. **Never share your private key**. You need to give your public key to the server side but never the private. You will use the private when login onto the SSHD.\n",
    "\n",
    "If you missed any step or have any trouble you can also use this very well done tutorial: https://upcloud.com/community/tutorials/use-ssh-keys-authentication/\n",
    "\n",
    "Make sure to know where you save your private key for the following section."
   ]
  },
  {
   "cell_type": "markdown",
   "id": "2f33c637",
   "metadata": {},
   "source": [
    "<a name=\"Git\"></a> \n",
    "## Git WORK IN PROGRESS\n",
    "\n",
    "\"Git is a free and open source distributed version control system designed to handle everything from small to very large projects with speed and efficiency.\". Git allows you to work on different features and manage the version of your software (Or any code) in a simple way using branches. You are probably familiar with Github or Bitbucket. Well these websites **host** your git versioning. Note that if you are not interested in Git or SSH keys you can use github desktop (https://desktop.github.com/) which is a straightforward way to work with Github.\n",
    "\n",
    "For unix OS git is already installed, for windows you can download and install git here: https://git-scm.com/.\n",
    "For this tutorial we will use Github as our host platform. If you don't have an account: https://github.com/signup?ref_cta=Sign+up&ref_loc=header+logged+out&ref_page=%2F&source=header-home\n",
    "\n",
    "Once your Github account is up and running you can add your public SSH key in the settings. (note: github expect the OpenSSH format).\n",
    "You can test your connection using\n",
    "\n",
    "```console\n",
    "ssh -T git@github.com\n",
    "```\n",
    "\n",
    "Before starting I recommend you to create a Github folder somewhere that you can eassily access and run the following operation inside this Github folder. \n",
    "First create a repository on github. Then on your terminal run:\n",
    "\n",
    "\n",
    "```console\n",
    "git init\n",
    "git add .\n",
    "git commit -m \"First commit\"\n",
    "git remote add origin git@github.com:user_name/repository.git\n",
    "git branch -M main\n",
    "git push -u origin main\n",
    "```\n",
    "\n",
    "One of the main reason to use Github is to manage issue. People can submitt bug in your code and create an \"Issue\" on Github. You can then change your code and commit it:\n",
    "\n",
    "```console\n",
    "git commit -a -m \"fixes #1, adding infos in readme\"\n",
    "git push origin\n",
    "```\n",
    "\n",
    "Note that since we already added the readme we can directly push. This will close issue #1.\n",
    "\n",
    "We finish this section by talking about two important concepts in git: Fork and pull requests.\n",
    "Creating a fork from a repository is like cloning but cloning only replicates the folder locally (on your machine). With a Fork, the repository is replicated in your list of repository. This allows you to be the owner of the replicated repository which allows you to make contribution while keeping the original code clean. Pull requests are meant to fix an issue or to add a feature to the original repository. You submit your code, they review it and merge to their own repository if everything is fine.\n",
    "For example let's fork the NoSQL course of last year: https://github.com/master-ds2e/NoSQL\n",
    "\n",
    "Now you also want to have the folder locally so clone the forked repository:\n",
    "\n",
    "```console\n",
    "git clone https://github.com/YOUR_USERNAME/NoSQL\n",
    "```\n",
    "\n",
    "Useful commands that you need to remember:\n",
    "\n",
    "```console\n",
    "git log\n",
    "git branch -a\n",
    "```\n",
    "Remote banch = github. We are currently working on master local.\n",
    "First we want to create a new branch (Learn more about branch here https://git-scm.com/book/fr/v2/Les-branches-avec-Git-Les-branches-en-bref). Why ? Because the maintainers of the original will also work on master and it will cause an issue when doing the pull request.\n",
    "\n",
    "```console\n",
    "git branch modify_projects\n",
    "git checkout modify_projects\n",
    "```\n",
    "\n",
    "Now we can add change the ipynb from NoSQL that presented the projects and commit. Again the file already exist so no need to add .\n",
    "\n",
    "```console\n",
    "git commit -a -m \"adding projects\"\n",
    "```\n",
    "\n",
    "Before adding it to the remote you will need to change the url to use ssh:\n",
    "\n",
    "```console\n",
    "git remote set-url origin git@github.com:USERNAME/REPO.git\n",
    "git push origin modify_projects\n",
    "```\n",
    "\n",
    "Now you can send a pull request to the original repository.\n",
    "\n",
    "Read more here:\n",
    "- https://www.youtube.com/watch?v=D5QGiIM1j20\n",
    "- https://www.atlassian.com/git/tutorials/comparing-workflows/forking-workflow\n",
    "- https://learngitbranching.js.org/?locale=fr_FR\n",
    "- https://twitter.com/DataScienceDojo/status/1435740231525965826?s=19\n"
   ]
  },
  {
   "cell_type": "markdown",
   "id": "a31cd6fc",
   "metadata": {},
   "source": [
    "<a name=\"Time\"></a>\n",
    "## Time complexity\n",
    "\n",
    "I'm guessing you already encountered notation like O(n), O(log n), O(2<sup>n</sup>), ...\n",
    "<br /> This is how time complexity is expressed for algorithms. It shows the number of operation N required depending on input n. \n",
    "\n",
    "From https://en.wikipedia.org/wiki/Time_complexity:\n",
    "\n",
    "<img src=\"img/Time.png\" width=\"500\" height=\"500\" />\n",
    "\n",
    "This time complexity is different depending on your programming language (Some might be equivalent). Even if the time complexity is the same for two languages you can still have a different time of execution. Indeed time complexity is just meant to measure the variation depending on the input length but the actual time the program takes to run is still dependent to other factors (CPU for starter). So a time complexity is measured by keeping everything fixed (Computer, programming language) and just changing the size of the input.\n",
    "\n",
    "\"Time complexity is commonly estimated by counting the number of elementary operations performed by the algorithm, supposing that each elementary operation takes a fixed amount of time to perform\" Wikipedia. Hence we can use time instead of number of operation \n",
    "\n",
    "Let's do multiple example:\n",
    "https://compucademy.net/time-complexity-in-python-programming/\n",
    "https://www.javatpoint.com/post/time-complexity\n",
    "https://www.mygreatlearning.com/blog/why-is-time-complexity-essential/"
   ]
  },
  {
   "cell_type": "code",
   "execution_count": null,
   "id": "b7395835",
   "metadata": {},
   "outputs": [],
   "source": [
    "#First object of list\n",
    "\n",
    "import time\n",
    "import tqdm\n",
    "\n",
    "sim = [i for i in range(1,10000000,10000)]\n",
    "time_sim = []\n",
    "for b in tqdm.tqdm(sim):\n",
    "    x = [i for i in range(b)]\n",
    "    start = time.time()\n",
    "    test = x[0]\n",
    "    end = time.time()\n",
    "    time_sim.append(end-start)\n",
    "    \n",
    "\n",
    "import matplotlib.pyplot as plt\n",
    "plt.scatter(sim, time_sim)\n",
    "plt.show()"
   ]
  },
  {
   "cell_type": "code",
   "execution_count": null,
   "id": "56b64cc5",
   "metadata": {},
   "outputs": [],
   "source": [
    "# Simple addition\n",
    "import time\n",
    "import tqdm\n",
    "\n",
    "sim = [i for i in range(1,10000000,10000)]\n",
    "time_sim = []\n",
    "for b in tqdm.tqdm(sim):\n",
    "    start = time.time()\n",
    "\n",
    "    for i in range(b):\n",
    "        i + 1\n",
    "\n",
    "    end = time.time()\n",
    "    time_sim.append(end-start)\n",
    "    \n",
    "\n",
    "import matplotlib.pyplot as plt\n",
    "plt.scatter(sim, time_sim)\n",
    "plt.show()\n"
   ]
  },
  {
   "cell_type": "markdown",
   "id": "6159f70c",
   "metadata": {},
   "source": [
    "<a name=\"pep8\"></a>\n",
    "## pep8\n",
    "\n",
    "In order to facilitate coding review, there's some guidelines that have been created (kinda like import numpy as np): https://www.python.org/dev/peps/pep-0008/\n",
    "\n",
    "I don't always respect it but I really recommend you try to follow these guidelines as much as possible so that they become habits."
   ]
  },
  {
   "cell_type": "markdown",
   "id": "505ea9c2",
   "metadata": {},
   "source": [
    "<a name=\"TODO\"></a>\n",
    "## TODO\n",
    "\n",
    "Code review:"
   ]
  }
 ],
 "metadata": {
  "kernelspec": {
   "display_name": "Python 3",
   "language": "python",
   "name": "python3"
  },
  "language_info": {
   "codemirror_mode": {
    "name": "ipython",
    "version": 3
   },
   "file_extension": ".py",
   "mimetype": "text/x-python",
   "name": "python",
   "nbconvert_exporter": "python",
   "pygments_lexer": "ipython3",
   "version": "3.6.8"
  }
 },
 "nbformat": 4,
 "nbformat_minor": 5
}
