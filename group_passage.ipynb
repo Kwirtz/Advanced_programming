{
 "cells": [
  {
   "cell_type": "code",
   "execution_count": 9,
   "metadata": {},
   "outputs": [
    {
     "data": {
      "text/plain": [
       "13"
      ]
     },
     "execution_count": 9,
     "metadata": {},
     "output_type": "execute_result"
    }
   ],
   "source": [
    "Groups = [\n",
    "    (\"Dabzat Samira\", \"Khadidja Haroun Boukar\", \"Recommandation de livre\"),\n",
    "    (\"Benyahia Lyna\", \"Nessah Hakim\", \"Recommandation restaurants\"),\n",
    "    (\"Lemarquis Lothaire\", \"Kirchen Vincent\", \"Analyse prix immobilier\"),\n",
    "    (\"BATINA-AGASA Fervent\", \"PROMWANG Nattirat\", \"Comparateur de prix supermarché\"),\n",
    "    (\"PETIT-DANGEON Jeanne\", \"DOBROSSY Samuel\", \"Recettes\"),\n",
    "    (\"Marion SALLIOT\", \"Randonnée\"),\n",
    "    (\"Sow Assane\", \"Kebir Zied\", \"Recette\"),\n",
    "    (\"Salmane Louali\", \"Mouhsine M'Changama\", \"Foot\"),\n",
    "    (\"Khermouche Chafi\", \"UNLUBAYIR Rodi\", \"Amazon\"),\n",
    "    (\"Jason Morel\", \"Djenabou Diari Diallo\", \"doctolib\"),\n",
    "    (\"NASER Khalid\", \"RAZAFIMANANTENA Iriantsoa\"),\n",
    "    (\"JANATI Zachary\", \"Dashboard Entreprise\"),\n",
    "    (\"GHAMLOUCHE Mehdi\",\"VISOCI Alkent\")\n",
    "]\n",
    "len(Groups)"
   ]
  },
  {
   "cell_type": "code",
   "execution_count": null,
   "metadata": {},
   "outputs": [],
   "source": [
    "import time\n",
    "import random\n",
    "\n",
    "random.shuffle(Groups)\n",
    "\n",
    "draw_order = []\n",
    "\n",
    "print(\"Draw Results:\")\n",
    "for i, group in enumerate(Groups, start=1):\n",
    "    print(f\"Draw {i}: {group}\")\n",
    "    draw_order.append(group)\n",
    "    time.sleep(8)"
   ]
  },
  {
   "cell_type": "code",
   "execution_count": null,
   "metadata": {},
   "outputs": [],
   "source": [
    "Draw Results:\n",
    "Draw 1: ('Benyahia Lyna', 'Nessah Hakim', 'Recommandation restaurants')\n",
    "Draw 2: ('NASER Khalid', 'RAZAFIMANANTENA Iriantsoa')\n",
    "Draw 3: ('Sow Assane', 'Kebir Zied', 'Recette')\n",
    "Draw 4: ('Jason Morel', 'Djenabou Diari Diallo', 'doctolib')\n",
    "Draw 5: ('Marion SALLIOT', 'Randonnée')\n",
    "Draw 6: ('Khermouche Chafi', 'UNLUBAYIR Rodi', 'Amazon')\n",
    "Draw 7:(\"JANATI Zachary\", \"Dashboard Entreprise\"),\n",
    "Draw 8: ('Lemarquis Lothaire', 'Kirchen Vincent', 'Analyse prix immobilier')\n",
    "Draw 9: ('PETIT-DANGEON Jeanne', 'DOBROSSY Samuel', 'Recettes')\n",
    "Draw 10: ('Salmane Louali', \"Mouhsine M'Changama\", 'Foot')\n",
    "Draw 11: ('Dabzat Samira', 'Khadidja Haroun Boukar', 'Recommandation de livre')\n",
    "Draw 12: ('BATINA-AGASA Fervent', 'PROMWANG Nattirat', 'Comparateur de prix supermarché')\n",
    "Draw 13:(\"GHAMLOUCHE Mehdi\",\"VISOCI Alkent\")"
   ]
  },
  {
   "cell_type": "code",
   "execution_count": 23,
   "id": "9433d768",
   "metadata": {},
   "outputs": [
    {
     "data": {
      "text/plain": [
       "12"
      ]
     },
     "execution_count": 23,
     "metadata": {},
     "output_type": "execute_result"
    }
   ],
   "source": [
    "import numpy as np\n",
    "\n",
    "np.random.random([13]).argmax()"
   ]
  }
 ],
 "metadata": {
  "kernelspec": {
   "display_name": "Python 3",
   "language": "python",
   "name": "python3"
  },
  "language_info": {
   "codemirror_mode": {
    "name": "ipython",
    "version": 3
   },
   "file_extension": ".py",
   "mimetype": "text/x-python",
   "name": "python",
   "nbconvert_exporter": "python",
   "pygments_lexer": "ipython3",
   "version": "3.11.2"
  }
 },
 "nbformat": 4,
 "nbformat_minor": 5
}
