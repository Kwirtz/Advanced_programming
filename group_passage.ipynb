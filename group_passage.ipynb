{
 "cells": [
  {
   "cell_type": "code",
   "execution_count": 1,
   "id": "74d341f8-b94e-4e90-b24a-5bb30003ca94",
   "metadata": {},
   "outputs": [
    {
     "data": {
      "text/plain": [
       "10"
      ]
     },
     "execution_count": 1,
     "metadata": {},
     "output_type": "execute_result"
    }
   ],
   "source": [
    "Groups = [(\"Mahamat\"),\n",
    "    (\"Burdloff Guillaume\"),\n",
    "         (\"Zizic Nikola\",\"Lucic Andrija\"),\n",
    "         (\"Lobet Corentin\"),\n",
    "         (\"Mondjehi Roland\",\"Mutombo Embangale Aristote\"),\n",
    "         (\"Jiang Tingyu\",\"Wu Chenyin\"),\n",
    "         (\"Seddik Mohamed\"),\n",
    "         (\"Moezzibadi Mohammad\"),\n",
    "         (\"Schott Victor\"),\n",
    "         (\"Jeanneau Lucas\"),\n",
    "         (\"Yasser\",\"julian\")]\n",
    "len(Groups)"
   ]
  },
  {
   "cell_type": "code",
   "execution_count": 2,
   "id": "69648967-c269-4ed1-8119-419b2029b722",
   "metadata": {},
   "outputs": [],
   "source": [
    "import random\n",
    "Groups_order = random.sample(Groups, len(Groups))"
   ]
  },
  {
   "cell_type": "code",
   "execution_count": 3,
   "id": "d7fc4d42-e2cb-4731-b65e-958739a130c2",
   "metadata": {},
   "outputs": [
    {
     "data": {
      "text/plain": [
       "[('Mondjehi Roland', 'Mutombo Embangale Aristote'),\n",
       " ('Jiang Tingyu', 'Wu Chenyin'),\n",
       " 'Lobet Corentin',\n",
       " 'Schott Victor',\n",
       " 'Moezzibadi Mohammad',\n",
       " 'Jeanneau Lucas',\n",
       " 'Seddik Mohamed',\n",
       " ('Yasser', 'julian'),\n",
       " ('Zizic Nikola', 'Lucic Andrija'),\n",
       " 'Burdloff Guillaume']"
      ]
     },
     "execution_count": 3,
     "metadata": {},
     "output_type": "execute_result"
    }
   ],
   "source": [
    "Groups_order"
   ]
  }
 ],
 "metadata": {
  "kernelspec": {
   "display_name": "Python 3",
   "language": "python",
   "name": "python3"
  },
  "language_info": {
   "codemirror_mode": {
    "name": "ipython",
    "version": 3
   },
   "file_extension": ".py",
   "mimetype": "text/x-python",
   "name": "python",
   "nbconvert_exporter": "python",
   "pygments_lexer": "ipython3",
   "version": "3.6.8"
  }
 },
 "nbformat": 4,
 "nbformat_minor": 5
}
