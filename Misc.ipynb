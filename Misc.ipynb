{
 "cells": [
  {
   "cell_type": "markdown",
   "metadata": {},
   "source": [
    "Here are some nice things you can do with python. Maybe will be added in next year course\n",
    "\n",
    "- https://thehftguy.com/2020/07/28/making-beautifulsoup-parsing-10-times-faster/#:~:text=BeautifulSoup%20with%20lxml%20and%20cchardset&text=You%20can%20speed%20up%20encoding%20detection%20significantly%20by%20installing%20the%20cchardet%20library.&text=0.6%20seconds%20to%20parse%20the,That%20is%2010%20times%20faster\n",
    "- https://github.com/pyutils/line_profiler\n",
    "- https://pypi.org/project/pyforest/\n",
    "- https://www.geeksforgeeks.org/session-objects-python-requests/\n",
    "- https://realpython.com/python-testing/\n",
    "- https://www.geeksforgeeks.org/what-does-the-if-__name__-__main__-do/\n",
    "- https://www.youtube.com/watch?v=zhpI6Yhz9_4\n",
    "- https://stackoverflow.com/questions/7427101/simple-argparse-example-wanted-1-argument-3-results\n"
   ]
  },
  {
   "cell_type": "markdown",
   "metadata": {},
   "source": [
    "# Previous project\n",
    "\n",
    "- Open cv + tensorflow to detect face using webcam and control pc\n",
    "- News - buzzword - map\n",
    "- Sentiment analysis on glassdoor\n",
    "- Discord bot to connect on spotify and linked with youtube\n",
    "- F1 dashboard\n",
    "- mtse = research advanced\n",
    "- detect country of plate\n",
    "- Finance bot following trending and selling with different strategy\n",
    "- Table tennis\n",
    "- Bot hearthstone (expert system)\n",
    "- Se loger.com\n",
    "- jvc + linkedin"
   ]
  }
 ],
 "metadata": {
  "kernelspec": {
   "display_name": "Python 3",
   "language": "python",
   "name": "python3"
  },
  "language_info": {
   "codemirror_mode": {
    "name": "ipython",
    "version": 3
   },
   "file_extension": ".py",
   "mimetype": "text/x-python",
   "name": "python",
   "nbconvert_exporter": "python",
   "pygments_lexer": "ipython3",
   "version": "3.8.3"
  }
 },
 "nbformat": 4,
 "nbformat_minor": 5
}
