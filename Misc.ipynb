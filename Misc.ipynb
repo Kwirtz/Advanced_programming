{
 "cells": [
  {
   "cell_type": "markdown",
   "id": "b9ccac03-477f-488d-ae61-9a08f6b8f873",
   "metadata": {},
   "source": [
    "Here are some nice things you can do with python. Maybe will be added in next year course\n",
    "\n",
    "- https://thehftguy.com/2020/07/28/making-beautifulsoup-parsing-10-times-faster/#:~:text=BeautifulSoup%20with%20lxml%20and%20cchardset&text=You%20can%20speed%20up%20encoding%20detection%20significantly%20by%20installing%20the%20cchardet%20library.&text=0.6%20seconds%20to%20parse%20the,That%20is%2010%20times%20faster\n",
    "- https://github.com/pyutils/line_profiler\n",
    "- https://pypi.org/project/pyforest/\n",
    "- https://www.geeksforgeeks.org/session-objects-python-requests/\n",
    "- https://realpython.com/python-testing/\n",
    "- https://www.geeksforgeeks.org/what-does-the-if-__name__-__main__-do/\n",
    "- https://www.youtube.com/watch?v=zhpI6Yhz9_4\n",
    "- https://stackoverflow.com/questions/7427101/simple-argparse-example-wanted-1-argument-3-results\n"
   ]
  }
 ],
 "metadata": {
  "kernelspec": {
   "display_name": "Python 3",
   "language": "python",
   "name": "python3"
  },
  "language_info": {
   "codemirror_mode": {
    "name": "ipython",
    "version": 3
   },
   "file_extension": ".py",
   "mimetype": "text/x-python",
   "name": "python",
   "nbconvert_exporter": "python",
   "pygments_lexer": "ipython3",
   "version": "3.6.8"
  }
 },
 "nbformat": 4,
 "nbformat_minor": 5
}
